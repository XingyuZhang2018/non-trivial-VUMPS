{
 "cells": [
  {
   "cell_type": "markdown",
   "metadata": {
    "toc": true
   },
   "source": [
    "<h1>Table of Contents<span class=\"tocSkip\"></span></h1>\n",
    "<div class=\"toc\"><ul class=\"toc-item\"><li><span><a href=\"#J1-J2模型\" data-toc-modified-id=\"J1-J2模型-1\"><span class=\"toc-item-num\">1&nbsp;&nbsp;</span>J1-J2模型</a></span></li><li><span><a href=\"#格点MPO\" data-toc-modified-id=\"格点MPO-2\"><span class=\"toc-item-num\">2&nbsp;&nbsp;</span>格点MPO</a></span></li><li><span><a href=\"#MPS正则表示\" data-toc-modified-id=\"MPS正则表示-3\"><span class=\"toc-item-num\">3&nbsp;&nbsp;</span>MPS正则表示</a></span><ul class=\"toc-item\"><li><span><a href=\"#单格点\" data-toc-modified-id=\"单格点-3.1\"><span class=\"toc-item-num\">3.1&nbsp;&nbsp;</span>单格点</a></span></li><li><span><a href=\"#J1-J2\" data-toc-modified-id=\"J1-J2-3.2\"><span class=\"toc-item-num\">3.2&nbsp;&nbsp;</span>J1-J2</a></span></li></ul></li><li><span><a href=\"#确定边界\" data-toc-modified-id=\"确定边界-4\"><span class=\"toc-item-num\">4&nbsp;&nbsp;</span>确定边界</a></span></li><li><span><a href=\"#能量期望值\" data-toc-modified-id=\"能量期望值-5\"><span class=\"toc-item-num\">5&nbsp;&nbsp;</span>能量期望值</a></span></li><li><span><a href=\"#VUMPS\" data-toc-modified-id=\"VUMPS-6\"><span class=\"toc-item-num\">6&nbsp;&nbsp;</span>VUMPS</a></span><ul class=\"toc-item\"><li><span><a href=\"#单格点\" data-toc-modified-id=\"单格点-6.1\"><span class=\"toc-item-num\">6.1&nbsp;&nbsp;</span>单格点</a></span></li><li><span><a href=\"#J1-J2\" data-toc-modified-id=\"J1-J2-6.2\"><span class=\"toc-item-num\">6.2&nbsp;&nbsp;</span>J1-J2</a></span></li></ul></li><li><span><a href=\"#程序检验\" data-toc-modified-id=\"程序检验-7\"><span class=\"toc-item-num\">7&nbsp;&nbsp;</span>程序检验</a></span><ul class=\"toc-item\"><li><span><a href=\"#J1-J2-MC\" data-toc-modified-id=\"J1-J2-MC-7.1\"><span class=\"toc-item-num\">7.1&nbsp;&nbsp;</span>J1-J2 MC</a></span></li><li><span><a href=\"#bond强度比例-r\" data-toc-modified-id=\"bond强度比例-r-7.2\"><span class=\"toc-item-num\">7.2&nbsp;&nbsp;</span>bond强度比例 r</a></span></li><li><span><a href=\"#温度-β\" data-toc-modified-id=\"温度-β-7.3\"><span class=\"toc-item-num\">7.3&nbsp;&nbsp;</span>温度 β</a></span></li></ul></li><li><span><a href=\"#待解决问题\" data-toc-modified-id=\"待解决问题-8\"><span class=\"toc-item-num\">8&nbsp;&nbsp;</span>待解决问题</a></span><ul class=\"toc-item\"><li><span><a href=\"#(√)快速迭代得到$L1，L2$时不收敛\" data-toc-modified-id=\"(√)快速迭代得到$L1，L2$时不收敛-8.1\"><span class=\"toc-item-num\">8.1&nbsp;&nbsp;</span>(√)快速迭代得到$L1，L2$时不收敛</a></span></li><li><span><a href=\"#(√)r-=-1.01~1.1之间时能量收敛\" data-toc-modified-id=\"(√)r-=-1.01~1.1之间时能量收敛-8.2\"><span class=\"toc-item-num\">8.2&nbsp;&nbsp;</span>(√)r = 1.01~1.1之间时能量收敛</a></span></li><li><span><a href=\"#(√)Z2(自由能)不为实数问题\" data-toc-modified-id=\"(√)Z2(自由能)不为实数问题-8.3\"><span class=\"toc-item-num\">8.3&nbsp;&nbsp;</span>(√)Z2(自由能)不为实数问题</a></span></li><li><span><a href=\"#(√)J1-J2计算能量不正确\" data-toc-modified-id=\"(√)J1-J2计算能量不正确-8.4\"><span class=\"toc-item-num\">8.4&nbsp;&nbsp;</span>(√)J1-J2计算能量不正确</a></span></li></ul></li></ul></div>"
   ]
  },
  {
   "cell_type": "markdown",
   "metadata": {
    "heading_collapsed": true,
    "slideshow": {
     "slide_type": "-"
    }
   },
   "source": [
    "## J1-J2模型 \n",
    "横向连接耦合强度为$J_1,J_2$交替排布，纵向全为$J_1$\n",
    "<img src=\"figure/1.png\" width=\"30%\">"
   ]
  },
  {
   "cell_type": "markdown",
   "metadata": {},
   "source": [
    "## 格点MPO\n",
    "权重张量为$M1,M2$\n",
    "<img src=\"figure/2.png\" width=\"25%\">\n",
    "红色连接上张量为\n",
    "$\\exp(-J_2 h_{ij})$, $J_2 = r J_1$\n",
    "\n",
    "要收缩的目标张量Z2为\n",
    "<img src=\"figure/6.png\" width=\"25%\">\n",
    "\n",
    "能量权重张量为$ME1,ME2,ME3,ME4$\n",
    "<img src=\"figure/3.png\" width=\"25%\">"
   ]
  },
  {
   "cell_type": "code",
   "execution_count": 1,
   "metadata": {
    "code_folding": []
   },
   "outputs": [],
   "source": [
    "# call library\n",
    "using LinearAlgebra, TensorOperations, KrylovKit, Random, Statistics, PyPlot"
   ]
  },
  {
   "cell_type": "code",
   "execution_count": 2,
   "metadata": {
    "code_folding": [
     0
    ]
   },
   "outputs": [
    {
     "data": {
      "text/plain": [
       "classicalisingmpo (generic function with 1 method)"
      ]
     },
     "execution_count": 2,
     "metadata": {},
     "output_type": "execute_result"
    }
   ],
   "source": [
    "# define M1,M2,ME1,ME2,ME3,ME4\n",
    "function statmechmpo(β, h, D; r = 2.0)\n",
    "    I = zeros(D,D,D,D)\n",
    "    for i = 1:D\n",
    "        I[i,i,i,i] = 1\n",
    "    end\n",
    " \n",
    "    X1 = zeros(D,D)\n",
    "    for j = 1:D, i = 1:D\n",
    "        X1[i,j] = exp(-β*h(i,j))\n",
    "    end\n",
    "\n",
    "    X2 = zeros(D,D)\n",
    "    for j = 1:D, i = 1:D\n",
    "        X2[i,j] = exp(-β*r*h(i,j))\n",
    "    end\n",
    "\n",
    "    X1sq = sqrt(X1)\n",
    "    X2sq = sqrt(X2)\n",
    "\n",
    "    @tensor M1[a,b,c,d] := I[a',b',c',d']*X2sq[c',c]*X1sq[d',d]*X1sq[a',a]*X1sq[b',b]\n",
    "    M2 = permutedims(M1,[3,2,1,4])\n",
    "\n",
    "    # For computing energy: M2 is a tensor across 2 nearest neighbor sites in the lattice, whose\n",
    "    # expectation value in the converged fixed point of the transfer matrix represents the energy\n",
    "    Y1 = zeros(D,D)\n",
    "    for j = 1:D, i = 1:D\n",
    "        Y1[i,j] = h(i,j)*exp(-β*h(i,j))\n",
    "    end\n",
    "    Y2 = zeros(D,D)\n",
    "    for j = 1:D, i = 1:D\n",
    "        Y2[i,j] = r*h(i,j)*exp(-β*r*h(i,j))\n",
    "    end\n",
    "\n",
    "    @tensor ME1[a,b1,b2,c,d2,d1] := I[a',b1',c1,d1']*X2sq[a,a']*X1sq[b1,b1']*X1sq[d1',d1]* Y1[c1,c2]*\n",
    "                                    I[c2,b2',c',d2']*X1sq[b2,b2']*X1sq[d2',d2]*X2sq[c',c]\n",
    "    @tensor ME2[a,b1,b2,c,d2,d1] := I[a',b1',c1,d1']*X1sq[a,a']*X1sq[b1,b1']*X1sq[d1',d1]* Y2[c1,c2]*\n",
    "                                    I[c2,b2',c',d2']*X1sq[b2,b2']*X1sq[d2',d2]*X1sq[c',c]\n",
    "    @tensor ME3[d1,d2,s2,d3,d4,s1] := I[d1',c1,d4',s1']*X2sq[d1,d1']*X1sq[d4',d4]*X1sq[s1',s1]* Y1[c1,c2]*\n",
    "                                I[d2',s2',d3',c2]*X2sq[d2,d2']*X1sq[s2',s2]*X1sq[d3',d3]\n",
    "    @tensor ME4[d1,d2,s2,d3,d4,s1] := I[d1',c1,d4',s1']*X1sq[d1,d1']*X2sq[d4',d4]*X1sq[s1',s1]* Y1[c1,c2]*\n",
    "                                I[d2',s2',d3',c2]*X1sq[d2,d2']*X1sq[s2',s2]*X2sq[d3',d3]\n",
    "    return M1, M2, ME1, ME2, ME3, ME4\n",
    "end\n",
    "\n",
    "classicalisingmpo(β; J = 1.0, h = 0.,r = 1.0) = statmechmpo(β, (s1,s2)->-J*(-1)^(s1!=s2) - h/2*(s1==1 + s2==1),\n",
    "                                                                                            2;r)"
   ]
  },
  {
   "cell_type": "code",
   "execution_count": 3,
   "metadata": {
    "code_folding": [
     0
    ]
   },
   "outputs": [
    {
     "name": "stdout",
     "output_type": "stream",
     "text": [
      "norm(M1 .- M2) = 2.2887833992611187e-16\n",
      "norm(ME1 .- ME2) = 0.0\n",
      "norm(ME3 .- ME4) = 0.0\n"
     ]
    },
    {
     "data": {
      "text/plain": [
       "0.0"
      ]
     },
     "execution_count": 3,
     "metadata": {},
     "output_type": "execute_result"
    }
   ],
   "source": [
    "#test\n",
    "βc = log(1+sqrt(2))/2\n",
    "β = 0.95*βc\n",
    "M1, M2, ME1, ME2, ME3, ME4= classicalisingmpo(β; r = 1.0)\n",
    "@show norm(M1.-M2) norm(ME1.-ME2) norm(ME3.-ME4)"
   ]
  },
  {
   "cell_type": "markdown",
   "metadata": {},
   "source": [
    "## MPS正则表示\n",
    "### 单格点\n",
    "对于Uniform MPS，在归一化时，边界收缩为\n",
    "<img src=\"figure/4.png\" width=\"30%\">\n",
    "从而引入左右正则张量$AL$和$AR$：\n",
    "<img src=\"figure/5.png\" width=\"30%\">\n",
    "使得边界收缩掉\n",
    "<img src=\"figure/7.png\" width=\"30%\">\n",
    "具体做法为在$A$张量间，左边插入$L^{-1}L$，右边边插入$L^{-1}L$，\n",
    "<img src=\"figure/8.png\" width=\"80%\">\n",
    "然后根据周期不变性得到红色方框中的相等的变换关系，并定义$C=LR$\n",
    "得到\n",
    "$$L\\cdot A\\cdot R=AC=AL\\cdot C=C \\cdot AR$$"
   ]
  },
  {
   "cell_type": "markdown",
   "metadata": {},
   "source": [
    "### J1-J2\n",
    "对于A1-A2 MPS，在归一化时，边界收缩为\n",
    "<img src=\"figure/9.png\" width=\"40%\">\n",
    "同样引入左正则表示\n",
    "<img src=\"figure/10.png\" width=\"40%\">\n",
    "将Uniform形式变换为正则表示，左边插入$L1^{-1}L1L2^{-1}L2$，右边插入$R1R1^{-1}R2R2^{-1}$\n",
    "<img src=\"figure/11.png\" width=\"100%\">\n",
    "不同于Uniform形式，$AL1$和$AL2$间多了$L1L2^{-1}$，$AL1$和$AL2$间多了$R1^{-1}R2$，为了收缩能够继续，必须要求\n",
    "<img src=\"figure/12.png\" width=\"50%\">\n",
    "再要求为单位矩阵，从而看出虽然不要求中间插入$L1L2^{-1}$和$R1^{-1}R2$为单位矩阵，但是要求$(L2L1^{-1})^{\\dagger}L2L1^{-1}$=1，即$L2L1^{-1}$为幺正矩阵\n",
    "\n",
    "定义$C1=L1R2$和$C2=L2R1$，可以推得\n",
    "$$AL2\\cdot C2 = C1 \\cdot AR2$$\n",
    "$$AL1\\cdot C1 = C2 \\cdot AR1$$\n",
    "要求为\n",
    "$$A2\\cdot R2 \\cdot R1^{-1} = L1^{-1}\\cdot L2 \\cdot A2$$\n",
    "$$A1\\cdot R1 \\cdot R2^{-1} = L2^{-1}\\cdot L1 \\cdot A1$$"
   ]
  },
  {
   "cell_type": "code",
   "execution_count": 4,
   "metadata": {
    "code_folding": [
     0
    ]
   },
   "outputs": [
    {
     "data": {
      "text/plain": [
       "rightorth"
      ]
     },
     "execution_count": 4,
     "metadata": {},
     "output_type": "execute_result"
    }
   ],
   "source": [
    "# function to get AL1,AL2 and AR1,AR2\n",
    "safesign(x::Number) = iszero(x) ? one(x) : sign(x)\n",
    "\n",
    "\"\"\"\n",
    "    qrpos(A)\n",
    "\n",
    "Returns a QR decomposition, i.e. an isometric `Q` and upper triangular `R` matrix, where `R`\n",
    "is guaranteed to have positive diagonal elements.\n",
    "\"\"\"\n",
    "qrpos(A) = qrpos!(copy(A))\n",
    "function qrpos!(A)\n",
    "    F = qr!(A)\n",
    "    Q = Matrix(F.Q)\n",
    "    R = F.R\n",
    "    phases = safesign.(diag(R))\n",
    "    rmul!(Q, Diagonal(phases))\n",
    "    lmul!(Diagonal(conj!(phases)), R)\n",
    "    return Q, R\n",
    "end\n",
    "\n",
    "\"\"\"\n",
    "    lqpos(A)\n",
    "\n",
    "Returns a LQ decomposition, i.e. a lower triangular `L` and isometric `Q` matrix, where `L`\n",
    "is guaranteed to have positive diagonal elements.\n",
    "\"\"\"\n",
    "lqpos(A) = lqpos!(copy(A))\n",
    "function lqpos!(A)\n",
    "    F = qr!(Matrix(A'))\n",
    "    Q = Matrix(Matrix(F.Q)')\n",
    "    L = Matrix(F.R')\n",
    "    phases = safesign.(diag(L))\n",
    "    lmul!(Diagonal(phases), Q)\n",
    "    rmul!(L, Diagonal(conj!(phases)))\n",
    "    return L, Q\n",
    "end\n",
    "\n",
    "function ρmap(ρ,A1,A2)\n",
    "    @tensor ρ1[a,b] := ρ[a',b']*A1[b',s,b]*conj(A1[a',s,a])\n",
    "    @tensor ρ2[a,b] := ρ1[a',b']*A2[b',s,b]*conj(A2[a',s,a])\n",
    "    return ρ2\n",
    "end\n",
    "        \n",
    "\"\"\"\n",
    "    getL(ρ; kwargs...)\n",
    "    ┌ A1─A2─    ┌       L ─\n",
    "    ρ │  │    = ρ   =  │\n",
    "    ┕ A1─A2─    ┕       L'─\n",
    "ρ=L'*L, return L, where `L`is guaranteed to have positive diagonal elements.\n",
    "L = cholesky!(ρ).U\n",
    "If ρ is not exactly positive definite, cholesky will fail\n",
    "\"\"\"\n",
    "function getL!(L,A1,A2)\n",
    "    λs,ρs,_ = eigsolve(ρ->ρmap(ρ,A1,A2),L'*L, 1, :LM; ishermitian = false, tol = 1e-12, maxiter = 1)\n",
    "#     ρ2 = ρmap(ρs[1],A1,A2)\n",
    "#     @show norm(ρ2.-ρs[1]*λs[1])\n",
    "    ρ = ρs[1] + ρs[1]'\n",
    "    ρ ./= tr(ρ)\n",
    "    F = svd!(ρ)\n",
    "    L = lmul!(Diagonal(sqrt.(F.S)), F.Vt)\n",
    "    _, L = qrpos!(L)\n",
    "    return L\n",
    "end\n",
    "\n",
    "\"\"\"\n",
    "    getAL(A)\n",
    "\n",
    "Given an MPS tensor `A` and `L` ，return a left-canonical MPS tensor `AL`, a gauge transform `R` and\n",
    "a scalar factor `λ` such that ``λ AR R = L A``\n",
    "\"\"\"\n",
    "function getAL(A,L)\n",
    "    D, d, = size(A) \n",
    "    Q, R = qrpos!(reshape(L*reshape(A, D, d*D), D*d, D))\n",
    "    AL = reshape(Q, D, d, D)\n",
    "    λ = norm(R)\n",
    "    rmul!(R, 1/λ)\n",
    "#     @tensor X1[a,s,b] := AL[a,s,d] * R[d,b] * λ\n",
    "#     @tensor X2[a,s,b] := L1[a,d] * A[d,s,b]\n",
    "#     @show norm(X1.-X2)\n",
    "    return AL, R, λ\n",
    "end\n",
    "\n",
    "function Lmap(L, A, AL)\n",
    "    @tensor X[a,b] := L[a',b']*A[b',s,b]*conj(AL[a',s,a])\n",
    "end\n",
    "\n",
    "function getLsped(R, A, AL)\n",
    "    # L = R\n",
    "    λs, Ls, _ = eigsolve(L->Lmap(L, A, AL), R, 1, :LM; ishermitian = false, tol = 1e-12, maxiter = 1)\n",
    "#     Lm = Lmap(Ls[1],A1,A2,AL1,AL2)\n",
    "#     @show norm(Lm.-Ls[1]*λs[1])\n",
    "    _, L = qrpos!(Ls[1])\n",
    "    return L\n",
    "end\n",
    "\n",
    "\"\"\"\n",
    "    leftorth(A, [C]; kwargs...)\n",
    "\n",
    "Given an MPS tensor `A`, return a left-canonical MPS tensor `AL`, a gauge transform `C` and\n",
    "a scalar factor `λ` such that ``λ AL L = L A``, where an initial guess for `C` can be\n",
    "provided.\n",
    "\"\"\"\n",
    "function leftorth(A1, A2, L1 = Matrix{eltype(A1)}(I, size(A1,1), size(A1,1)),\n",
    "                    L2 = Matrix{eltype(A2)}(I, size(A2,1), size(A2,1)); tol = 1e-12, maxiter = 200, kwargs...)\n",
    "    L1 = getL!(L1,A1,A2)\n",
    "    L2 = getL!(L2,A2,A1)\n",
    "    AL1,R1,λ1 = getAL(A1,L1)\n",
    "    AL2,R2,λ2 = getAL(A2,L2)\n",
    "    \n",
    "    numiter = 1\n",
    "    while norm(L1.-R1) + norm(L2.-R2) > tol*2 && numiter < maxiter\n",
    "#         L1 = getL!(R1,A1,A2)\n",
    "#         L2 = getL!(R2,A2,A1)\n",
    "        L1 = getLsped(R1, A1, AL1)\n",
    "        L2 = getLsped(R2, A2, AL2)\n",
    "        AL1,R1,λ1 = getAL(A1,L1)\n",
    "        AL2,R2,λ2 = getAL(A2,L2)\n",
    "        numiter += 1\n",
    "    end\n",
    "    L1 = R1\n",
    "    L2 = R2\n",
    "    return AL1, AL2, L1, L2, numiter\n",
    "end\n",
    "\n",
    "\"\"\"\n",
    "    rightorth(A, [C]; kwargs...)\n",
    "\n",
    "Given an MPS tensor `A`, return a gauge transform C, a right-canonical MPS tensor `AR`, and\n",
    "a scalar factor `λ` such that ``λ C AR^s = A^s C``, where an initial guess for `C` can be\n",
    "provided.\n",
    "\"\"\"\n",
    "function rightorth(A1, A2, L1 = Matrix{eltype(A1)}(I, size(A1,1), size(A1,1)),\n",
    "                    L2 = Matrix{eltype(A2)}(I, size(A2,1), size(A2,1)); tol = 1e-12, kwargs...)\n",
    "    AL1, AL2, L1, L2, numiter = leftorth(permutedims(A1,(3,2,1)), permutedims(A2,(3,2,1)), permutedims(L1,(2,1)), permutedims(L2,(2,1)); tol = tol, kwargs...)\n",
    "    R1 = permutedims(L1,(2,1))\n",
    "    R2 = permutedims(L2,(2,1))\n",
    "    AR1 = permutedims(AL1,(3,2,1))\n",
    "    AR2 = permutedims(AL2,(3,2,1))\n",
    "    return R1, R2, AR1, AR2, numiter\n",
    "end"
   ]
  },
  {
   "cell_type": "code",
   "execution_count": 5,
   "metadata": {
    "code_folding": [
     0
    ]
   },
   "outputs": [
    {
     "name": "stdout",
     "output_type": "stream",
     "text": [
      "std(L1_2 ./ (L1' * L1)) = 1.5846333474831803e-9\n",
      "(norm(AL1_2 .- ρL1), norm(AL2_2 .- ρL2)) = (5.260788519282082e-15, 5.260788519282082e-15)\n",
      "(norm(AR1_2 .- ρR1), norm(AR2_2 .- ρR2)) = (9.553493466190542e-15, 9.553493466190542e-15)\n",
      "norm(A1 .- A2) = 0.0\n",
      "norm(AL1 .- AL2) = 0.0\n",
      "numiter = 2\n"
     ]
    },
    {
     "data": {
      "text/plain": [
       "2"
      ]
     },
     "execution_count": 5,
     "metadata": {},
     "output_type": "execute_result"
    }
   ],
   "source": [
    "# test\n",
    "D = 50\n",
    "Random.seed!(1234)\n",
    "A1 = randn(D, 2, D) + im*randn(D, 2, D)\n",
    "Random.seed!(1234)\n",
    "A2 = randn(D, 2, D) + im*randn(D, 2, D)\n",
    "AL1, AL2, L1, L2, numiter = leftorth(A1, A2)\n",
    "R1, R2, AR1, AR2, numiter = rightorth(AL1, AL2)\n",
    "L1_2 = ρmap(L1' * L1, A1, A2)\n",
    "@show std(L1_2./(L1' * L1))\n",
    "\n",
    "ρL1 = (L1^-1)' * L2' * L2 * (L1^-1)\n",
    "ρL2 = (L2^-1)' * L1' * L1 * (L2^-1)\n",
    "@tensor AL1_2[a,b] := AL1[d,s,b] * conj(AL1[d,s,a])\n",
    "@tensor AL2_2[a,b] := AL2[d,s,b] * conj(AL2[d,s,a])\n",
    "@show norm(AL1_2.-ρL1), norm(AL2_2.-ρL2)\n",
    "\n",
    "ρR1 =  (R1^-1) * R2 * R2' * (R1^-1)' \n",
    "ρR2 =  (R2^-1) * R1 * R1' * (R2^-1)'\n",
    "@tensor AR1_2[a,b] := AR1[a,s,d] * conj(AR1[b,s,d])\n",
    "@tensor AR2_2[a,b] := AR2[a,s,d] * conj(AR2[b,s,d])\n",
    "@show norm(AR1_2.-ρR1), norm(AR2_2.-ρR2) norm(A1.- A2) norm(AL1.- AL2)\n",
    "@show numiter"
   ]
  },
  {
   "cell_type": "markdown",
   "metadata": {},
   "source": [
    "## 确定边界\n",
    "<img src=\"figure/13.png\" width=\"30%\"/><img src=\"figure/19.png\" width=\"30%\"/>\n"
   ]
  },
  {
   "cell_type": "code",
   "execution_count": 6,
   "metadata": {
    "code_folding": [
     0
    ]
   },
   "outputs": [
    {
     "data": {
      "text/plain": [
       "rightenv4 (generic function with 2 methods)"
      ]
     },
     "execution_count": 6,
     "metadata": {},
     "output_type": "execute_result"
    }
   ],
   "source": [
    "# function to get FL1 ,FL2 and FR1,FR2\n",
    "function FLmap(AL1, AL2, M1, M2, FL)\n",
    "    @tensor X1[α,a,β] := FL[α',a',β']*AL1[β',s',β]*M1[a',s,a,s']*conj(AL1[α',s,α])\n",
    "    @tensor X2[α,a,β] := X1[α',a',β']*AL2[β',s',β]*M2[a',s,a,s']*conj(AL2[α',s,α])\n",
    "    return X2\n",
    "end\n",
    "\n",
    "function FRmap(AR1, AR2, M1, M2, FR)\n",
    "    @tensor X1[α,a,β] := AR1[α,s',α']*FR[α',a',β']*M1[a,s,a',s']*conj(AR1[β,s,β'])\n",
    "    @tensor X2[α,a,β] := AR2[α,s',α']*X1[α',a',β']*M2[a,s,a',s']*conj(AR2[β,s,β'])\n",
    "    return X2\n",
    "end\n",
    "\n",
    "function FLmap4(AL1, AL2, M1, M2, FL)\n",
    "    @tensor X1[α,a,b,β] := FL[α',a',b',β']*AL1[β',s',β]*M1[a',s,a,c]*M1[b',c,b,s']*conj(AL1[α',s,α])\n",
    "    @tensor X2[α,a,b,β] := X1[α',a',b',β']*AL2[β',s',β]*M2[a',s,a,c]*M2[b',c,b,s']*conj(AL2[α',s,α])\n",
    "    return X2\n",
    "end\n",
    "\n",
    "function FRmap4(AR1, AR2, M1, M2, FR)\n",
    "    @tensor X1[α,a,b,β] := AR1[α,s',α']*FR[α',a',b',β']*M1[a,s,a',s']*M1[b,c,b',s]*conj(AR1[β,c,β'])\n",
    "    @tensor X2[α,a,b,β] := AR2[α,s',α']*X1[α',a',b',β']*M2[a,s,a',s']*M2[b,c,b',s]*conj(AR2[β,c,β'])\n",
    "    return X2\n",
    "end\n",
    "\n",
    "\"\"\"\n",
    "    leftenv(A, M, FL; kwargs)\n",
    "\n",
    "Compute the left environment tensor for MPS A and MPO M, by finding the left fixed point\n",
    "of A - M - conj(A) contracted along the physical dimension.\n",
    "\"\"\"\n",
    "function leftenv(AL1, AL2, M1, M2, FL = randn(eltype(AL1), size(AL1,1), size(M1,1), size(AL1,1)); kwargs...)\n",
    "    λ1s, FL1s, = eigsolve(X->FLmap(AL1, AL2, M1, M2, X), FL, 1, :LM; ishermitian = false, kwargs...)\n",
    "    λ2s, FL2s, = eigsolve(X->FLmap(AL2, AL1, M2, M1, X), FL1s[1], 1, :LM; ishermitian = false, kwargs...)\n",
    "    return FL1s[1], FL2s[1], real(λ1s[1]), real(λ2s[1])\n",
    "end\n",
    "\"\"\"\n",
    "    rightenv(A, M, FR; kwargs...)\n",
    "\n",
    "Compute the right environment tensor for MPS A and MPO M, by finding the right fixed point\n",
    "of A - M - conj(A) contracted along the physical dimension.\n",
    "\"\"\"\n",
    "function rightenv(AR1, AR2, M1, M2, FR = randn(eltype(AR1), size(AR1,1), size(M1,1), size(AR1,1)); kwargs...)\n",
    "    λ1s, FR1s, = eigsolve(X->FRmap(AR1, AR2, M1, M2, X), FR, 1, :LM; ishermitian = false, kwargs...)\n",
    "    λ2s, FR2s, = eigsolve(X->FRmap(AR2, AR1, M2, M1, X), FR1s[1], 1, :LM; ishermitian = false, kwargs...)\n",
    "    return FR1s[1], FR2s[1], real(λ1s[1]), real(λ2s[1])\n",
    "end\n",
    "\n",
    "function leftenv4(AL1, AL2, M1, M2, FL = randn(eltype(AL1), size(AL1,1), size(M1,1), size(M1,1), size(AL1,1)); kwargs...)\n",
    "    λ1s, FL1s, = eigsolve(X->FLmap4(AL1, AL2, M1, M2, X), FL, 1, :LM; ishermitian = false, kwargs...)\n",
    "    λ2s, FL2s, = eigsolve(X->FLmap4(AL2, AL1, M2, M1, X), FL1s[1], 1, :LM; ishermitian = false, kwargs...)\n",
    "    return FL1s[1], FL2s[1], real(λ1s[1]), real(λ2s[1])\n",
    "end\n",
    "\n",
    "function rightenv4(AR1, AR2, M1, M2, FR = randn(eltype(AR1), size(AR1,1), size(M1,1), size(M1,1), size(AR1,1)); kwargs...)\n",
    "    λ1s, FR1s, = eigsolve(X->FRmap4(AR1, AR2, M1, M2, X), FR, 1, :LM; ishermitian = false, kwargs...)\n",
    "    λ2s, FR2s, = eigsolve(X->FRmap4(AR2, AR1, M2, M1, X), FR1s[1], 1, :LM; ishermitian = false, kwargs...)\n",
    "    return FR1s[1], FR2s[1], real(λ1s[1]), real(λ2s[1])\n",
    "end"
   ]
  },
  {
   "cell_type": "code",
   "execution_count": 7,
   "metadata": {
    "code_folding": [
     0
    ]
   },
   "outputs": [
    {
     "name": "stdout",
     "output_type": "stream",
     "text": [
      "norm(X1 .- FL1 * λL1) = 1.0575237798926526e-13\n",
      "norm(X2 .- FL2 * λL2) = 1.0155265673106275e-13\n",
      "norm(X3 .- FR1 * λR1) = 9.85429234362658e-14\n",
      "norm(X4 .- FR2 * λR2) = 9.841761415646271e-14\n",
      "norm(FL1 .- FL2) = 1.99420526729348e-15\n",
      "norm(FR1 .- FR2) = 4.2190267386719125e-15\n",
      "norm(X5 .- FL3 * λL3) = 9.73305079972935e-13\n",
      "norm(X6 .- FL4 * λL4) = 9.662758368935177e-13\n",
      "norm(X7 .- FR3 * λR3) = 8.260139813406244e-13\n",
      "norm(X8 .- FR4 * λR4) = 8.093398817758625e-13\n",
      "norm(FL3 .- FL4) = 4.6638858944117986e-15\n",
      "norm(FR3 .- FR4) = 8.437257449381042e-15\n"
     ]
    },
    {
     "data": {
      "text/plain": [
       "8.437257449381042e-15"
      ]
     },
     "execution_count": 7,
     "metadata": {},
     "output_type": "execute_result"
    }
   ],
   "source": [
    "# test\n",
    "FL1, FL2,λL1,λL2 = leftenv(AL1, AL2, M1, M2)\n",
    "FR1, FR2,λR1,λR2 = rightenv(AR1, AR2, M1, M2)\n",
    "FL3, FL4,λL3,λL4 = leftenv4(AL1, AL2, M1, M2)\n",
    "FR3, FR4,λR3,λR4 = rightenv4(AR1, AR2, M1, M2)\n",
    "X1 = FLmap(AL1, AL2, M1, M2, FL1)\n",
    "X2 = FLmap(AL2, AL1, M2, M1, FL2)\n",
    "X3 = FRmap(AR1, AR2, M1, M2, FR1)\n",
    "X4 = FRmap(AR2, AR1, M2, M1, FR2)\n",
    "X5 = FLmap4(AL1, AL2, M1, M2, FL3)\n",
    "X6 = FLmap4(AL2, AL1, M2, M1, FL4)\n",
    "X7 = FRmap4(AR1, AR2, M1, M2, FR3)\n",
    "X8 = FRmap4(AR2, AR1, M2, M1, FR4)\n",
    "\n",
    "# @tensor X5[α,a,β] := FL1[α',a',β']*AL1[β',s',β]*M1[a',s,a,s']*conj(AL1[α',s,α])\n",
    "@show norm(X1.- FL1*λL1) norm(X2.- FL2*λL2) norm(X3.- FR1*λR1) norm(X4.- FR2*λR2) \n",
    "@show norm(FL1.- FL2) norm(FR1.- FR2)\n",
    "@show norm(X5.- FL3*λL3) norm(X6.- FL4*λL4) norm(X7.- FR3*λR3) norm(X8.- FR4*λR4) \n",
    "@show norm(FL3.- FL4) norm(FR3.- FR4)\n",
    "# @show std(X5./FL2)"
   ]
  },
  {
   "cell_type": "markdown",
   "metadata": {},
   "source": [
    "## 能量期望值\n",
    "<img src=\"figure/15.png\" width=\"70%\">\n",
    "<img src=\"figure/20.png\" width=\"70%\">"
   ]
  },
  {
   "cell_type": "code",
   "execution_count": 8,
   "metadata": {
    "code_folding": [
     0
    ]
   },
   "outputs": [
    {
     "data": {
      "text/plain": [
       "energy (generic function with 1 method)"
      ]
     },
     "execution_count": 8,
     "metadata": {},
     "output_type": "execute_result"
    }
   ],
   "source": [
    "# function to get energy\n",
    "function energy(M1, M2, ME1, ME2, ME3, ME4, AL1, AL2, C1, C2, AR1, AR2, FL1, FL2, FL3, FL4, FR1, FR2, FR3, FR4)\n",
    "    @tensor AAC1[α,s1,s2,β] := AL1[α,s1,α']*C1[α',β']*AR2[β',s2,β]\n",
    "    @tensor AAC2[α,s1,s2,β] := AL2[α,s1,α']*C2[α',β']*AR1[β',s2,β]\n",
    "    @tensor AC1[β,s,β'] := AL1[β,s,d1]*C1[d1,β']\n",
    "    @tensor AC2[β,s,β'] := AL2[β,s,d1]*C2[d1,β']\n",
    "    @tensor Z21 = scalar(FL1[α,c,β]*AAC1[β,s1,s2,β']*M1[c,t1,d,s1]*\n",
    "        M2[d,t2,c',s2]*FR2[β',c',α']*conj(AAC1[α,t1,t2,α']))\n",
    "    @tensor Z22 = scalar(FL2[α,c,β]*AAC2[β,s1,s2,β']*M2[c,t1,d,s1]*\n",
    "        M1[d,t2,c',s2]*FR1[β',c',α']*conj(AAC2[α,t1,t2,α']))\n",
    "    @tensor Z23 = scalar(FL3[α,a,b,β]*AC1[β,s,β']*M1[b,c,b',s]*\n",
    "        M1[a,s',a',c]*FR3[β',b',a',α']*conj(AC1[α,s',α']))\n",
    "    @tensor Z24 = scalar(FL4[α,a,b,β]*AC2[β,s,β']*M2[b,c,b',s]*\n",
    "        M2[a,s',a',c]*FR4[β',b',a',α']*conj(AC2[α,s',α']))\n",
    "\n",
    "#     @show Z21 Z22\n",
    "    @tensor e2 = scalar(FL1[α,c,β]*AAC1[β,s1,s2,β']*ME2[c,t1,t2,c',s2,s1]*\n",
    "        FR2[β',c',α']*conj(AAC1[α,t1,t2,α']) / Z21)\n",
    "    @tensor e1 = scalar(FL2[α,c,β]*AAC2[β,s1,s2,β']*ME1[c,t1,t2,c',s2,s1]*\n",
    "        FR1[β',c',α']*conj(AAC2[α,t1,t2,α']) / Z22)\n",
    "    @tensor e3 = scalar(FL3[α,a,b,β]*AC1[β,s,β']*ME3[b,a,s',a',b',s]*\n",
    "        FR3[β',b',a',α']*conj(AC1[α,s',α']) / Z23)\n",
    "    @tensor e4 = scalar(FL4[α,a,b,β]*AC2[β,s,β']*ME4[b,a,s',a',b',s]*\n",
    "        FR4[β',b',a',α']*conj(AC2[α,s',α']) / Z24)\n",
    "    return (e1+e2+e3+e4)/2\n",
    "#     return e1,e2,e3,e4\n",
    "end"
   ]
  },
  {
   "cell_type": "code",
   "execution_count": 9,
   "metadata": {
    "code_folding": [
     0
    ]
   },
   "outputs": [
    {
     "name": "stdout",
     "output_type": "stream",
     "text": [
      "e = -1.1015786396830924 + 8.450705413221016e-15im\n"
     ]
    },
    {
     "data": {
      "text/plain": [
       "-1.1015786396830924 + 8.450705413221016e-15im"
      ]
     },
     "execution_count": 9,
     "metadata": {},
     "output_type": "execute_result"
    }
   ],
   "source": [
    "#test\n",
    "C1 = L1 * R2\n",
    "C2 = L2 * R1\n",
    "FR1 ./= @tensor scalar(FL2[c,b,a]*C1[a,a']*conj(C1[c,c'])*FR1[a',b,c']) \n",
    "FR2 ./= @tensor scalar(FL1[c,b,a]*C2[a,a']*conj(C2[c,c'])*FR2[a',b,c'])\n",
    "# e1,e2,e3,e4 = energy(M1, M2, ME1, ME2, ME3, ME4, AL1, AL2, C1, C2, AR1, AR2, FL1, FL2, FL3, FL4, FR1, FR2, FR3, FR4)\n",
    "# @show norm(e1-e2),norm(e3-e4)\n",
    "e = energy(M1, M2, ME1, ME2, ME3, ME4, AL1, AL2, C1, C2, AR1, AR2, FL1, FL2, FL3, FL4, FR1, FR2, FR3, FR4)\n",
    "@show e"
   ]
  },
  {
   "cell_type": "markdown",
   "metadata": {},
   "source": [
    "## VUMPS\n",
    "### 单格点\n",
    "单格点VUMPS变分极值条件为\n",
    "<img src=\"figure/14.png\" width=\"30%\">\n",
    "### J1-J2\n",
    "定义$C1 = L1 \\cdot R2$，$AC1 = AL1\\cdot C1$，J1-J2 VUMPS变分极值条件为\n",
    "<img src=\"figure/16.png\" width=\"30%\">"
   ]
  },
  {
   "cell_type": "code",
   "execution_count": 10,
   "metadata": {
    "code_folding": [
     0
    ]
   },
   "outputs": [
    {
     "data": {
      "text/plain": [
       "vumps (generic function with 1 method)"
      ]
     },
     "execution_count": 10,
     "metadata": {},
     "output_type": "execute_result"
    }
   ],
   "source": [
    "# vumps\n",
    "function applyH1(AC, FL, FR, M)\n",
    "    @tensor HAC[α,s,β] := FL[α,a,α']*AC[α',s',β']*M[a,s,b,s']*FR[β',b,β]\n",
    "end\n",
    "\n",
    "function applyH0(C, FL, FR)\n",
    "    @tensor HC[α,β] := FL[α,a,α']*C[α',β']*FR[β',a,β]\n",
    "end\n",
    "\n",
    "\n",
    "\"\"\"\n",
    "    function vumpsstep(AL, C, AR, FL, FR; kwargs...)\n",
    "\n",
    "Perform one step of the VUMPS algorithm\n",
    "\"\"\"\n",
    "function vumpsstep(AL,C,FL1,FL2,FR,M;kwargs...)\n",
    "    D,d, = size(AL)\n",
    "    @tensor AC[a,s,b] := AL[a,s,c] * C[c, b]\n",
    "    μACs, ACs, = eigsolve(x->applyH1(x, FL1, FR, M), AC, 1, :LM; ishermitian = false, maxiter = 10, kwargs...)\n",
    "    μCs, Cs, = eigsolve(x->applyH0(x, FL2, FR), C, 1; ishermitian = false, maxiter = 10, kwargs...)\n",
    "    λ = μACs[1]/μCs[1]\n",
    "    AC = ACs[1]\n",
    "    C = Cs[1]\n",
    "    \n",
    "    QAC, RAC = qrpos(reshape(AC,(D*d, D)))\n",
    "    QC, RC = qrpos(C)\n",
    "    AL = reshape(QAC*QC', (D, d, D))\n",
    "    errL = norm(RAC-RC)\n",
    "    \n",
    "    return λ, AL, C, errL\n",
    "end\n",
    "\n",
    "function getAR(AC,C)\n",
    "    D,d, = size(AC)\n",
    "    LAC, QAC = lqpos(reshape(AC,(D, d*D)))\n",
    "    LC, QC = lqpos(C)\n",
    "    AR = reshape(QC'*QAC, (D, d, D))\n",
    "    errR = norm(LAC-LC)\n",
    "    return AR, errR\n",
    "end\n",
    "    \n",
    "function erro(AL,C,FL,FR,M)\n",
    "    @tensor AC[a,s,b] := AL[a,s,b']*C[b',b]\n",
    "    MAC = applyH1(AC, FL, FR, M)\n",
    "    @tensor MAC[a,s,b] -= AL[a,s,b']*(conj(AL[a',s',b'])*MAC[a',s',b])\n",
    "    err = norm(MAC)\n",
    "    return err\n",
    "end\n",
    "    \n",
    "function vumps(A1, A2, M1, M2;test = true, verbose = true, tol = 1e-6, maxiter = 100, kwargs...)\n",
    "    AL1, AL2, L1, L2, numiter = leftorth(A1, A2)\n",
    "    R1, R2, AR1, AR2, numiter = rightorth(AL1, AL2)\n",
    "\n",
    "    FL1, FL2,λL1,λL2 = leftenv(AL1, AL2, M1, M2)\n",
    "    FR1, FR2,λR1,λR2 = rightenv(AR1, AR2, M1, M2)\n",
    "    \n",
    "    if test == true\n",
    "        verbose && println(\"Starting point has λL1 = $λL1 ,λL2 =  $λL2\n",
    "                        λR1 = $λR1 ,λR2 =  $λR2\")\n",
    "    end\n",
    "    C1 = L1 * R2\n",
    "    C2 = L2 * R1\n",
    "\n",
    "    λ1, AL1, C1, errL1 = vumpsstep(AL1,C1,FL1,FL2,FR1,M1;tol = tol/10)\n",
    "    λ2, AL2, C2, errL2 = vumpsstep(AL2,C2,FL2,FL1,FR2,M2;tol = tol/10)\n",
    "    @tensor AC1[a,s,b] := AL1[a,s,c] * C1[c, b]\n",
    "    @tensor AC2[a,s,b] := AL2[a,s,c] * C2[c, b]\n",
    "    AR1, errR1 = getAR(AC1,C2)\n",
    "    AR2, errR2 = getAR(AC2,C1)\n",
    "    FL1, FL2,λL1,λL2 = leftenv(AL1, AL2, M1, M2)\n",
    "    FR1, FR2,λR1,λR2 = rightenv(AR1, AR2, M1, M2)\n",
    "#     FR1 ./= @tensor scalar(FL2[c,b,a]*C1[a,a']*conj(C1[c,c'])*FR1[a',b,c']) \n",
    "#     FR2 ./= @tensor scalar(FL1[c,b,a]*C2[a,a']*conj(C2[c,c'])*FR2[a',b,c']) # normalize FL and FR: not really necessary\n",
    "\n",
    "    # Convergence measure: norm of the projection of the residual onto the tangent space\n",
    "    err1 = erro(AL1,C1,FL1,FR1,M1)\n",
    "    err2 = erro(AL2,C2,FL2,FR2,M2)\n",
    "    i = 1\n",
    "    λ =  λ1 * λ2\n",
    "    if test == true\n",
    "        verbose && println(\"Step $i: \n",
    "                                    λ1 * λ2 = $λ,\n",
    "                                    λL1 = $λL1,\n",
    "                                    λL2 = $λL2, \n",
    "                                    err1 ≈ $err1, \n",
    "                                    err2 ≈ $err2\")\n",
    "    end\n",
    "    while (err1 > tol || err2 > tol) && i < maxiter\n",
    "        λ1, AL1, C1, errL1 = vumpsstep(AL1,C1,FL1,FL2,FR1,M1;tol = tol/10)\n",
    "        λ2, AL2, C2, errL2 = vumpsstep(AL2,C2,FL2,FL1,FR2,M2;tol = tol/10)\n",
    "        @tensor AC1[a,s,b] := AL1[a,s,c] * C1[c, b]\n",
    "        @tensor AC2[a,s,b] := AL2[a,s,c] * C2[c, b]\n",
    "        AR1, errR1 = getAR(AC1,C2)\n",
    "        AR2, errR2 = getAR(AC2,C1)\n",
    "        FL1, FL2,λL1,λL2 = leftenv(AL1, AL2, M1, M2)\n",
    "        FR1, FR2,λR1,λR2 = rightenv(AR1, AR2, M1, M2)\n",
    "#         FR1 ./= @tensor scalar(FL2[c,b,a]*C1[a,a']*conj(C1[c,c'])*FR1[a',b,c']) \n",
    "#         FR2 ./= @tensor scalar(FL1[c,b,a]*C2[a,a']*conj(C2[c,c'])*FR2[a',b,c']) # normalize FL and FR: not really necessary\n",
    "        err1 = erro(AL1,C1,FL1,FR1,M1)\n",
    "        err2 = erro(AL2,C2,FL2,FR2,M2)\n",
    "        i += 1\n",
    "        λ =  λ1 * λ2\n",
    "        if test == true\n",
    "            verbose && println(\"Step $i: \n",
    "                                        λ1 * λ2 = $λ,\n",
    "                                        λL1 = $λL1,\n",
    "                                        λL2 = $λL2, \n",
    "                                        err1 ≈ $err1, \n",
    "                                        err2 ≈ $err2\")\n",
    "        end\n",
    "    end\n",
    "    FL3, FL4,λL3,λL4 = leftenv4(AL1, AL2, M1, M2)\n",
    "    FR3, FR4,λR3,λR4 = rightenv4(AR1, AR2, M1, M2)\n",
    "    return λ1, λ2, AL1, AL2, C1, C2, AR1, AR2, FL1, FL2, FL3, FL4, FR1, FR2, FR3, FR4\n",
    "end"
   ]
  },
  {
   "cell_type": "code",
   "execution_count": 12,
   "metadata": {
    "code_folding": [
     0
    ]
   },
   "outputs": [
    {
     "name": "stdout",
     "output_type": "stream",
     "text": [
      "Starting point has λL1 = 2.7992705423177275 ,λL2 =  2.799270542317726\n",
      "                        λR1 = 2.7992705423177626 ,λR2 =  2.799270542317728\n",
      "Step 1: \n",
      "                                    λ1 * λ2 = 6.031814837724106 + 1.2474743994079665e-15im,\n",
      "                                    λL1 = 6.046206300673406,\n",
      "                                    λL2 = 6.0462063006733775, \n",
      "                                    err1 ≈ 0.012692996253949974, \n",
      "                                    err2 ≈ 0.012692996209441532\n",
      "Step 2: \n",
      "                                        λ1 * λ2 = 6.0610816067432145 - 3.9968028886505635e-15im,\n",
      "                                        λL1 = 6.061449098782253,\n",
      "                                        λL2 = 6.061449098782274, \n",
      "                                        err1 ≈ 0.0005460570104198498, \n",
      "                                        err2 ≈ 0.0005470653903361309\n",
      "Step 3: \n",
      "                                        λ1 * λ2 = 6.061673044776295 + 3.9968028886505635e-15im,\n",
      "                                        λL1 = 6.061675530640297,\n",
      "                                        λL2 = 6.061675530640315, \n",
      "                                        err1 ≈ 2.2166133511695993e-5, \n",
      "                                        err2 ≈ 2.210358406452195e-5\n",
      "Step 4: \n",
      "                                        λ1 * λ2 = 6.061676126890912 + 2.942091015256665e-15im,\n",
      "                                        λL1 = 6.061676127217682,\n",
      "                                        λL2 = 6.061676127217675, \n",
      "                                        err1 ≈ 2.331391777220718e-7, \n",
      "                                        err2 ≈ 2.315708230154762e-7\n",
      "eMPS = -1.216999334744171 + 1.565316886525947e-16im\n"
     ]
    },
    {
     "data": {
      "text/plain": [
       "-1.216999334744171 + 1.565316886525947e-16im"
      ]
     },
     "execution_count": 12,
     "metadata": {},
     "output_type": "execute_result"
    }
   ],
   "source": [
    "# test expectation \n",
    "λ1, λ2, AL1, AL2, C1, C2, AR1, AR2, FL1, FL2, FL3, FL4, FR1, FR2, FR3, FR4 = vumps(A1,A2,M1,M2; tol = 1e-6)\n",
    "\n",
    "eMPS = energy(M1, M2, ME1, ME2, ME3, ME4, AL1, AL2, C1, C2, AR1, AR2, FL1, FL2, FL3, FL4, FR1, FR2, FR3, FR4)\n",
    "@show eMPS"
   ]
  },
  {
   "cell_type": "markdown",
   "metadata": {},
   "source": [
    "## 程序检验\n",
    "### J1-J2 MC"
   ]
  },
  {
   "cell_type": "code",
   "execution_count": 13,
   "metadata": {
    "code_folding": [
     0
    ]
   },
   "outputs": [
    {
     "data": {
      "text/plain": [
       "energy (generic function with 2 methods)"
      ]
     },
     "execution_count": 13,
     "metadata": {},
     "output_type": "execute_result"
    }
   ],
   "source": [
    "#J1-J2 MC\n",
    "function e_dif1( array, lattice, x, y, r)\n",
    "    top     = array[x,y - 1 + lattice * (y==1)];\n",
    "    bottom  = array[x, y + 1 - lattice * (y==lattice)];\n",
    "    left    = r * array[x - 1 + lattice * (x==1), y];\n",
    "    right   = array[x + 1 - lattice * (x==lattice), y];\n",
    "    return 2 * array[x, y] * (left+right+top+bottom)\n",
    "end\n",
    "\n",
    "function e_dif2( array, lattice, x, y, r)\n",
    "    top     = array[x,y - 1 + lattice * (y==1)];\n",
    "    bottom  = array[x, y + 1 - lattice * (y==lattice)];\n",
    "    left    = array[x - 1 + lattice * (x==1), y];\n",
    "    right   = r * array[x + 1 - lattice * (x==lattice), y];\n",
    "    return 2 * array[x, y] * (left+right+top+bottom)\n",
    "end\n",
    "\n",
    "function onestep!(spin_array, lattice, β, r)\n",
    "    for i = 1:lattice\n",
    "        for j = 1:lattice\n",
    "            if mod(i,2) == 1\n",
    "                e = e_dif1(spin_array, lattice, i, j, r)\n",
    "            else\n",
    "                e = e_dif2(spin_array, lattice, i, j, r)\n",
    "            end\n",
    "            if e <= 0\n",
    "                spin_array[i,j] = -spin_array[i,j];\n",
    "            elseif exp(-e*β) > rand()\n",
    "                spin_array[i,j] = -spin_array[i,j];\n",
    "            end\n",
    "        end\n",
    "    end\n",
    "    return spin_array\n",
    "end\n",
    "\n",
    "function MC(lattice,β,r,Sweeps_heat,Sweeps)\n",
    "    spin_array = ones(lattice,lattice);  #初始化自旋全部为1\n",
    "    for j = 1:Sweeps_heat\n",
    "        spin_array = onestep!(spin_array,lattice ,β,r);#局部更新\n",
    "    end\n",
    "    mag = zeros(1,Sweeps);\n",
    "    ene = zeros(1,Sweeps);\n",
    "    for j = 1:Sweeps\n",
    "        spin_array = onestep!(spin_array,lattice ,β,r)\n",
    "        mag[j] = abs(sum(spin_array)/lattice^2)\n",
    "        ene[j] = energy(spin_array, lattice,r)/lattice^2\n",
    "    end\n",
    "    mag_ave = sum(mag)/Sweeps;\n",
    "    ene_ave = sum(ene)/Sweeps;\n",
    "    return mag_ave, ene_ave\n",
    "end \n",
    "\n",
    "function energy(spin_array, lattice, r)\n",
    "    tol_en = 0\n",
    "    for i = 1:lattice\n",
    "        for j = 1:lattice\n",
    "            if mod(i,2) == 1\n",
    "                e = e_dif1(spin_array, lattice, i, j, r)\n",
    "            else\n",
    "                e = e_dif2(spin_array, lattice, i, j, r)\n",
    "            end\n",
    "            tol_en += e\n",
    "        end\n",
    "    end\n",
    "    return -tol_en/4\n",
    "end"
   ]
  },
  {
   "cell_type": "code",
   "execution_count": 14,
   "metadata": {
    "code_folding": [
     0
    ]
   },
   "outputs": [
    {
     "data": {
      "image/png": "[encoded data removed]",
      "text/plain": [
       "Figure(PyObject <Figure size 640x480 with 2 Axes>)"
      ]
     },
     "metadata": {},
     "output_type": "display_data"
    },
    {
     "name": "stdout",
     "output_type": "stream",
     "text": [
      " 47.620456 seconds (251.74 k allocations: 485.583 MiB, 0.12% gc time)\n"
     ]
    },
    {
     "data": {
      "text/plain": [
       "PyObject Text(309.97499999999997, 0.5, 'energy')"
      ]
     },
     "execution_count": 14,
     "metadata": {},
     "output_type": "execute_result"
    }
   ],
   "source": [
    "#test1\n",
    "lattice = 8;               #晶格大小\n",
    "Sweeps_heat = Int(1e4);       #热浴蒙卡次数\n",
    "Sweeps = Int(1e6);           #蒙卡次数\n",
    "βB = 0.1;                    #温度区间初始\n",
    "βE = 1;                    #温度区间末尾\n",
    "d = 0.03;                   #温度区间间隔\n",
    "steps = Int(round((βE-βB)/d+1));\n",
    "mag_ave = zeros(steps,1);\n",
    "ene_ave = zeros(steps,1);\n",
    "r = 3.0\n",
    "@time begin\n",
    "    Threads.@threads for i=1:steps\n",
    "        β = βB+ d*(i-1);\n",
    "        mag_ave[i], ene_ave[i] = MC(lattice,β,r,Sweeps_heat,Sweeps)\n",
    "    end\n",
    "end\n",
    "β=βB:d:βE\n",
    "subplots_adjust(wspace=0.5)\n",
    "suptitle(\"r = $r\")\n",
    "subplot(221)\n",
    "plot(β,mag_ave,\"r\")\n",
    "xlabel(\"β\")\n",
    "ylabel(\"magnetic\")\n",
    "\n",
    "subplot(222)\n",
    "plot(β,ene_ave,\"y\")\n",
    "xlabel(\"β\")\n",
    "ylabel(\"energy\")"
   ]
  },
  {
   "cell_type": "code",
   "execution_count": 18,
   "metadata": {
    "code_folding": [
     0
    ]
   },
   "outputs": [
    {
     "name": "stdout",
     "output_type": "stream",
     "text": [
      "Starting point has λL1 = 1.7301248896601744 ,λL2 =  1.730124889660181\n",
      "                        λR1 = 1.730124889660189 ,λR2 =  1.7301248896601076\n",
      "Step 1: \n",
      "                                    λ1 * λ2 = 4.781531104696004 + 8.881784197001252e-16im,\n",
      "                                    λL1 = 4.702180718249995,\n",
      "                                    λL2 = 4.702180718249988, \n",
      "                                    err1 ≈ 0.07220864305607635, \n",
      "                                    err2 ≈ 0.06740204867162158\n",
      "Step 2: \n",
      "                                        λ1 * λ2 = 4.779582077665092 - 1.7763568394002505e-15im,\n",
      "                                        λL1 = 4.779566279404056,\n",
      "                                        λL2 = 4.779566279404073, \n",
      "                                        err1 ≈ 0.0012334235094134342, \n",
      "                                        err2 ≈ 0.001325812629827271\n",
      "Step 3: \n",
      "                                        λ1 * λ2 = 4.77958226508795 + 1.3322676295501878e-15im,\n",
      "                                        λL1 = 4.7795822650879005,\n",
      "                                        λL2 = 4.779582265087933, \n",
      "                                        err1 ≈ 6.568223317134111e-8, \n",
      "                                        err2 ≈ 5.315408211852692e-8\n"
     ]
    },
    {
     "data": {
      "image/png": "[encoded data removed]",
      "text/plain": [
       "Figure(PyObject <Figure size 640x480 with 1 Axes>)"
      ]
     },
     "metadata": {},
     "output_type": "display_data"
    },
    {
     "data": {
      "text/plain": [
       "PyObject Text(0.5, 1.0, 'β = 0.22034339675488573 \\n r = 2.0 \\n different = 0.008386133556592457')"
      ]
     },
     "execution_count": 18,
     "metadata": {},
     "output_type": "execute_result"
    }
   ],
   "source": [
    "#test2\n",
    "β= 0.5*βc\n",
    "# β = 0.1\n",
    "r = 2.0\n",
    "lB = 4;                    \n",
    "lE = 32;                    \n",
    "ld = 4;                    \n",
    "steps = Int(round((lE-lB)/ld+1));\n",
    "eMC = zeros(steps,1)\n",
    "Threads.@threads for i=1:steps\n",
    "    lattice = lB+ ld*(i-1);\n",
    "    _, eMC[i] = MC(lattice,β,r,Int(1e5),Int(1e6))\n",
    "end\n",
    "\n",
    "M1, M2, ME1, ME2, ME3, ME4 = classicalisingmpo(β; r = r)\n",
    "D = 100\n",
    "Random.seed!(12345)\n",
    "A1 = randn(D, 2, D) + im*randn(D, 2, D)\n",
    "Random.seed!(12345)\n",
    "A2 = randn(D, 2, D) + im*randn(D, 2, D)\n",
    "λ1, λ2, AL1, AL2, C1, C2, AR1, AR2, FL1, FL2, FL3, FL4, FR1, FR2, FR3, FR4 = \n",
    "    vumps(A1,A2,M1,M2;tol = 1e-6,maxiter = 100)\n",
    "eMPS = energy(M1, M2, ME1, ME2, ME3, ME4, AL1, AL2, C1, C2, AR1, AR2, FL1, FL2, FL3, FL4, FR1, FR2, FR3, FR4)\n",
    "different = abs(eMPS - eMC[steps])\n",
    "lattice = lB:ld:lE\n",
    "plot(lattice,eMC,\"+:\",color = \"b\",label = \"MC\")\n",
    "plot(lattice,real(fill(eMPS,steps,1)),\"*-\",color = \"r\",label = \"MPS\")\n",
    "legend(loc=\"best\")\n",
    "xlabel(\"lattice\")\n",
    "ylabel(\"energy\")\n",
    "title(\"β = $β \\n r = $r \\n different = $different\")"
   ]
  },
  {
   "cell_type": "markdown",
   "metadata": {},
   "source": [
    "### bond强度比例 r"
   ]
  },
  {
   "cell_type": "code",
   "execution_count": 54,
   "metadata": {
    "code_folding": [
     0
    ]
   },
   "outputs": [
    {
     "data": {
      "image/png": "[encoded data removed]",
      "text/plain": [
       "Figure(PyObject <Figure size 640x480 with 1 Axes>)"
      ]
     },
     "metadata": {},
     "output_type": "display_data"
    },
    {
     "data": {
      "text/plain": [
       "PyObject Text(0.5, 1.0, 'β = 0.22034339675488573')"
      ]
     },
     "execution_count": 54,
     "metadata": {},
     "output_type": "execute_result"
    }
   ],
   "source": [
    "#full test change r\n",
    "βc = log(1+sqrt(2))/2\n",
    "β = 0.5*βc\n",
    "rB = 1;                    \n",
    "rE = 3;                    \n",
    "rd = 0.2;                    \n",
    "steps = Int(round((rE-rB)/rd+1));\n",
    "eMC = zeros(steps,1)\n",
    "eMPS = zeros(steps,1)\n",
    "lattice = 32\n",
    "Threads.@threads for i=1:steps\n",
    "    r = rB+ rd*(i-1);\n",
    "    M1, M2, ME1, ME2, ME3, ME4 = classicalisingmpo(β; r = r)\n",
    "    D = 50\n",
    "    Random.seed!(12345)\n",
    "    A1 = randn(D, 2, D) + im*randn(D, 2, D)\n",
    "    Random.seed!(12345)\n",
    "    A2 = randn(D, 2, D) + im*randn(D, 2, D)\n",
    "    λ1, λ2, AL1, AL2, C1, C2, AR1, AR2, FL1, FL2, FL3, FL4, FR1, FR2, FR3, FR4 = \n",
    "        vumps(A1,A2,M1,M2;test = false,tol = 1e-6,maxiter = 100)\n",
    "    eMPS[i] = real(energy(M1, M2, ME1, ME2, ME3, ME4, AL1, AL2, C1, C2, AR1, AR2, FL1, FL2, FL3, FL4, FR1, FR2, FR3, FR4))\n",
    "    _, eMC[i] = MC(lattice,β,r,Int(1e4),Int(1e6))\n",
    "end\n",
    "r = rB:rd:rE\n",
    "plot(r,eMC,\"*-\",color = \"b\",label = \"MC\")\n",
    "plot(r,eMPS,\"+:\",color = \"r\",label = \"MPS\")\n",
    "legend(loc=\"best\")\n",
    "xlabel(\"r\")\n",
    "ylabel(\"energy\")\n",
    "title(\"β = $β\")"
   ]
  },
  {
   "cell_type": "markdown",
   "metadata": {},
   "source": [
    "### 温度 β"
   ]
  },
  {
   "cell_type": "code",
   "execution_count": 56,
   "metadata": {
    "code_folding": [
     0
    ]
   },
   "outputs": [
    {
     "data": {
      "image/png": "[encoded data removed]",
      "text/plain": [
       "Figure(PyObject <Figure size 640x480 with 1 Axes>)"
      ]
     },
     "metadata": {},
     "output_type": "display_data"
    },
    {
     "data": {
      "text/plain": [
       "PyObject Text(0.5, 1.0, 'r = 2.0')"
      ]
     },
     "execution_count": 56,
     "metadata": {},
     "output_type": "execute_result"
    }
   ],
   "source": [
    "#full test change β\n",
    "βc = log(1+sqrt(2))/2\n",
    "βB = 0.1;                    \n",
    "βE = 1;                    \n",
    "βd = 0.1;  \n",
    "r = 2.0\n",
    "steps = Int(round((βE-βB)/βd+1));\n",
    "eMC = zeros(steps,1)\n",
    "eMPS = zeros(steps,1)\n",
    "lattice = 32\n",
    "Threads.@threads for i=1:steps\n",
    "    β = βB+ βd*(i-1);\n",
    "    M1, M2, ME1, ME2, ME3, ME4 = classicalisingmpo(β; r = r)\n",
    "    D = 50\n",
    "    Random.seed!(12345)\n",
    "    A1 = randn(D, 2, D) + im*randn(D, 2, D)\n",
    "    Random.seed!(12345)\n",
    "    A2 = randn(D, 2, D) + im*randn(D, 2, D)\n",
    "    λ1, λ2, AL1, AL2, C1, C2, AR1, AR2, FL1, FL2, FL3, FL4, FR1, FR2, FR3, FR4 = \n",
    "        vumps(A1,A2,M1,M2;test = false,tol = 1e-6,maxiter = 100)\n",
    "    eMPS[i] = real(energy(M1, M2, ME1, ME2, ME3, ME4, AL1, AL2, C1, C2, AR1, AR2, FL1, FL2, FL3, FL4, FR1, FR2, FR3, FR4))\n",
    "    _, eMC[i] = MC(lattice,β,r,Int(1e4),Int(1e6))\n",
    "end\n",
    "β = βB:βd:βE\n",
    "plot(β,eMC,\"*-\",color = \"b\",label = \"MC\")\n",
    "plot(β,eMPS,\"+:\",color = \"r\",label = \"MPS\")\n",
    "legend(loc=\"best\")\n",
    "xlabel(\"β\")\n",
    "ylabel(\"energy\")\n",
    "title(\"r = $r\")"
   ]
  },
  {
   "cell_type": "markdown",
   "metadata": {},
   "source": [
    "## 待解决问题\n",
    "### (√)快速迭代得到$L1，L2$时不收敛\n",
    "由新的归一化条件，可以用之前的快速迭代方式\n",
    "<img src=\"figure/18.png\" width=\"100%\">"
   ]
  },
  {
   "cell_type": "markdown",
   "metadata": {},
   "source": [
    "### (√)r = 1.01~1.1之间时能量收敛\n",
    "在临界点附近不容易收敛,可以尝试用低温向高温迭代\n",
    "\n",
    "容易算的温度的确加快，临界点附近还是不收敛"
   ]
  },
  {
   "cell_type": "code",
   "execution_count": 12,
   "metadata": {
    "code_folding": [
     0
    ]
   },
   "outputs": [
    {
     "name": "stdout",
     "output_type": "stream",
     "text": [
      "r = 1.01\n",
      "r = 1.04\n",
      "r = 1.03\n",
      "r = 1.09\n",
      "r = 1.02\n",
      "r = 1.08\n",
      "r = 1.05\n",
      "r = 1.06\n",
      "r = 1.07\n",
      "r = 1.1\n",
      "e[i] = -1.218672650686904 - 4.0332320816460765e-17im\n",
      "e[i] = -0.8310567864219534 - 1.3168719587008937e-15im\n",
      "e[i] = -0.8441174347589089 + 2.4650854274499423e-14im\n",
      "e[i] = -0.8084941365423747 - 5.4626442258509655e-15im\n",
      "e[i] = -0.8726864513436559 - 1.6696713456276768e-17im\n",
      "e[i] = -0.9439421870701652 - 4.2869353900076845e-16im\n",
      "e[i] = -0.8312526322974662 + 1.4268100589909238e-15im\n",
      "e[i] = -0.7852455608767427 - 1.317522480004385e-15im\n",
      "e[i] = -0.7898543288747433 - 3.2650748424400966e-16im\n",
      "e[i] = -0.8992705155969987 + 9.540979117872439e-17im\n"
     ]
    },
    {
     "data": {
      "image/png": "[encoded data removed]",
      "text/plain": [
       "Figure(PyObject <Figure size 640x480 with 1 Axes>)"
      ]
     },
     "metadata": {},
     "output_type": "display_data"
    },
    {
     "name": "stdout",
     "output_type": "stream",
     "text": [
      "r = 1.01 ,energy = -1.218672650686904\n",
      "r = 1.02 ,energy = -0.9439421870701652\n",
      "r = 1.03 ,energy = -0.8310567864219534\n",
      "r = 1.04 ,energy = -0.7852455608767427\n",
      "r = 1.05 ,energy = -0.8441174347589089\n",
      "r = 1.06 ,energy = -0.8726864513436559\n",
      "r = 1.07 ,energy = -0.8312526322974662\n",
      "r = 1.08 ,energy = -0.8084941365423747\n",
      "r = 1.09 ,energy = -0.7898543288747433\n",
      "r = 1.1 ,energy = -0.8992705155969987\n"
     ]
    },
    {
     "data": {
      "text/plain": [
       "1-element Array{PyCall.PyObject,1}:\n",
       " PyObject <matplotlib.lines.Line2D object at 0x0000000051E4CDF0>"
      ]
     },
     "execution_count": 12,
     "metadata": {},
     "output_type": "execute_result"
    }
   ],
   "source": [
    "# r = 1.01~1.1\n",
    "βc = log(1+sqrt(2))/2\n",
    "β = 0.95*βc\n",
    "e = zeros(10) + im * zeros(10)\n",
    "Threads.@threads for i = 1:10\n",
    "    r = 1.0 + 0.01 * i\n",
    "    M1, M2, ME1, ME2 = classicalisingmpo(β; r = r)\n",
    "    print(\"r = $r\\n\")\n",
    "    D = 50\n",
    "    Random.seed!(12345)\n",
    "    A1 = randn(D, 2, D) + im*randn(D, 2, D)\n",
    "    Random.seed!(12345)\n",
    "    A2 = randn(D, 2, D) + im*randn(D, 2, D)\n",
    "    λ1, λ2, AL1, AL2, C1, C2, AR1, AR2, FL1, FL2, FR1, FR2 = \n",
    "        vumps(A1,A2,M1,M2;test = false,tol = 1e-6,maxiter = 100)\n",
    "    e[i] = energy(M1, M2, ME1, ME2, AL1, AL2, C1, C2, AR1, AR2, FL1, FL2, FR1, FR2)\n",
    "    @show e[i]\n",
    "end\n",
    "x = 1.01:0.01:1.1\n",
    "for i = 1:1:10\n",
    "    r = 1.0 + 0.01 * i\n",
    "    y = real(e[i])\n",
    "    println(\"r = $r ,energy = $y\")\n",
    "end\n",
    "plot(x, real(e),\"*-\", color = \"red\")"
   ]
  },
  {
   "cell_type": "code",
   "execution_count": 17,
   "metadata": {
    "code_folding": [
     0
    ]
   },
   "outputs": [
    {
     "name": "stdout",
     "output_type": "stream",
     "text": [
      "β = 0.4506867935097715\n",
      "β = 0.4496867935097715\n",
      "e[i] = -1.510557806337283 - 1.0299920638612292e-17im\n",
      "β = 0.4486867935097715\n",
      "e[i] = -1.5023807094564474 + 1.2630955309456127e-17im\n",
      "β = 0.4476867935097715\n",
      "e[i] = -1.4938950313868713 - 1.5695859325801087e-16im\n",
      "β = 0.4466867935097715\n",
      "e[i] = -1.485162817472196 + 7.649046326885234e-17im\n",
      "β = 0.4456867935097715\n",
      "e[i] = -1.4765904327959114 + 1.4060746924421386e-17im\n",
      "β = 0.44468679350977147\n",
      "e[i] = -1.4689444522551782 + 1.8173938916288268e-17im\n",
      "β = 0.44368679350977147\n",
      "e[i] = -1.4650549090301714 - 2.1510571102112408e-16im\n",
      "β = 0.44268679350977147\n",
      "e[i] = -0.8289070697133308 - 1.8533351936467213e-15im\n",
      "β = 0.44168679350977147\n",
      "e[i] = -0.910792899818398 - 1.2396333959330263e-14im\n",
      "β = 0.44068679350977147\n",
      "e[i] = "
     ]
    },
    {
     "data": {
      "image/png": "[encoded data removed]",
      "text/plain": [
       "Figure(PyObject <Figure size 640x480 with 1 Axes>)"
      ]
     },
     "metadata": {},
     "output_type": "display_data"
    },
    {
     "name": "stdout",
     "output_type": "stream",
     "text": [
      "-0.8223522021931251 + 8.107663845846602e-16im\n",
      "β = 0.4496867935097715 ,energy = -1.510557806337283\n",
      "β = 0.4486867935097715 ,energy = -1.5023807094564474\n",
      "β = 0.4476867935097715 ,energy = -1.4938950313868713\n",
      "β = 0.4466867935097715 ,energy = -1.485162817472196\n",
      "β = 0.4456867935097715 ,energy = -1.4765904327959114\n",
      "β = 0.44468679350977147 ,energy = -1.4689444522551782\n",
      "β = 0.44368679350977147 ,energy = -1.4650549090301714\n",
      "β = 0.44268679350977147 ,energy = -0.8289070697133308\n",
      "β = 0.44168679350977147 ,energy = -0.910792899818398\n",
      "β = 0.44068679350977147 ,energy = -0.8223522021931251\n"
     ]
    },
    {
     "data": {
      "text/plain": [
       "1-element Array{PyCall.PyObject,1}:\n",
       " PyObject <matplotlib.lines.Line2D object at 0x000000006140F6A0>"
      ]
     },
     "execution_count": 17,
     "metadata": {},
     "output_type": "execute_result"
    }
   ],
   "source": [
    "# β = 0.5~1.5 r = 1.01\n",
    "βc = log(1+sqrt(2))/2\n",
    "e = zeros(10) + im * zeros(10)\n",
    "β = βc + 0.01\n",
    "M1, M2, ME1, ME2 = classicalisingmpo(β; r = 1.0)\n",
    "print(\"β = $β\\n\")\n",
    "D = 50\n",
    "Random.seed!(12345)\n",
    "A1 = randn(D, 2, D) + im*randn(D, 2, D)\n",
    "Random.seed!(12345)\n",
    "A2 = randn(D, 2, D) + im*randn(D, 2, D)\n",
    "λ1, λ2, AL1, AL2, C1, C2, AR1, AR2, FL1, FL2, FR1, FR2 = \n",
    "    vumps(A1,A2,M1,M2;test = false, tol = 1e-6,maxiter = 100)\n",
    "tol = 1e-6\n",
    "maxiter = 100\n",
    "for i = 1:10\n",
    "    β =  βc + 0.001 * (10 - i)\n",
    "    print(\"β = $β\\n\")\n",
    "    M1, M2, ME1, ME2 = classicalisingmpo(β; r = 1.0)\n",
    "    λ1, AL1, C1, AR1, errL1, errR1 = vumpsstep(AL1,C1,FL1,FL2,FR1,M1;tol = tol/10)\n",
    "    λ2, AL2, C2, AR2, errL2, errR2 = vumpsstep(AL2,C2,FL2,FL1,FR2,M2;tol = tol/10)\n",
    "#     AL1, AL2, C1, C2, numiter = leftorth(AR1, AR2, C1, C2) # regauge MPS: not really necessary\n",
    "    FL1, FL2,λL1,λL2 = leftenv(AL1, AL2, M1, M2)\n",
    "    FR1, FR2,λR1,λR2 = rightenv(AR1, AR2, M1, M2)\n",
    "    err1 = erro(AL1,C1,FL1,FR1,M1)\n",
    "    err2 = erro(AL2,C2,FL2,FR2,M2)\n",
    "    j = 1\n",
    "    while (err1 > tol || err2 > tol) && j < maxiter\n",
    "        λ1, AL1, C1, AR1, errL1, errR1 = vumpsstep(AL1,C1,FL1,FL2,FR1,M1;tol = tol/10)\n",
    "        λ2, AL2, C2, AR2, errL2, errR2 = vumpsstep(AL2,C2,FL2,FL1,FR2,M2;tol = tol/10)\n",
    "        FL1, FL2,λL1,λL2 = leftenv(AL1, AL2, M1, M2)\n",
    "        FR1, FR2,λR1,λR2 = rightenv(AR1, AR2, M1, M2)\n",
    "#         FR1 ./= @tensor scalar(FL2[c,b,a]*C1[a,a']*conj(C1[c,c'])*FR1[a',b,c']) \n",
    "#         FR2 ./= @tensor scalar(FL1[c,b,a]*C2[a,a']*conj(C2[c,c'])*FR2[a',b,c']) # normalize FL and FR: not really necessary\n",
    "        err1 = erro(AL1,C1,FL1,FR1,M1)\n",
    "        err2 = erro(AL2,C2,FL2,FR2,M2)\n",
    "        j += 1\n",
    "        λ =  λ1 * λ2\n",
    "    end\n",
    "    e[i] = energy(M1, M2, ME1, ME2, AL1, AL2, C1, C2, AR1, AR2, FL1, FL2, FR1, FR2)\n",
    "    @show e[i]\n",
    "end\n",
    "x = βc + 0.009 : -0.001 : βc\n",
    "for i = 1:1:10\n",
    "    β = βc + 0.001 * (10 - i)\n",
    "    y = real(e[i])\n",
    "    println(\"β = $β ,energy = $y\")\n",
    "end\n",
    "plot(x, real(e),\"*-\", color = \"red\")"
   ]
  },
  {
   "cell_type": "markdown",
   "metadata": {},
   "source": [
    "### (√)Z2(自由能)不为实数问题\n",
    "来源于FLi和FRi未归一化:相当于未归一波函数，所以出现自由能非物理\n",
    "\n",
    "ACi ,Ci -> ALi 的计算问题由新的归一化条件消除"
   ]
  },
  {
   "cell_type": "markdown",
   "metadata": {},
   "source": [
    "### (√)J1-J2计算能量不正确\n",
    "需要4种不同能量张量，纵向能量需要不同的MPS\n",
    "<img src=\"figure/19.png\" width=\"50%\">"
   ]
  },
  {
   "cell_type": "code",
   "execution_count": null,
   "metadata": {},
   "outputs": [],
   "source": []
  }
 ],
 "metadata": {
  "kernelspec": {
   "display_name": "Julia 1.5.1",
   "language": "julia",
   "name": "julia-1.5"
  },
  "language_info": {
   "file_extension": ".jl",
   "mimetype": "application/julia",
   "name": "julia",
   "version": "1.5.1"
  },
  "toc": {
   "base_numbering": 1,
   "nav_menu": {},
   "number_sections": true,
   "sideBar": true,
   "skip_h1_title": true,
   "title_cell": "Table of Contents",
   "title_sidebar": "Contents",
   "toc_cell": true,
   "toc_position": {
    "height": "calc(100% - 180px)",
    "left": "10px",
    "top": "150px",
    "width": "255.988px"
   },
   "toc_section_display": true,
   "toc_window_display": true
  },
  "varInspector": {
   "cols": {
    "lenName": 16,
    "lenType": 16,
    "lenVar": 40
   },
   "kernels_config": {
    "python": {
     "delete_cmd_postfix": "",
     "delete_cmd_prefix": "del ",
     "library": "var_list.py",
     "varRefreshCmd": "print(var_dic_list())"
    },
    "r": {
     "delete_cmd_postfix": ") ",
     "delete_cmd_prefix": "rm(",
     "library": "var_list.r",
     "varRefreshCmd": "cat(var_dic_list()) "
    }
   },
   "types_to_exclude": [
    "module",
    "function",
    "builtin_function_or_method",
    "instance",
    "_Feature"
   ],
   "window_display": false
  }
 },
 "nbformat": 4,
 "nbformat_minor": 2
}
