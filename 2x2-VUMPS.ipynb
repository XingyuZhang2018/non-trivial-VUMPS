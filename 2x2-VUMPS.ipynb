{
 "cells": [
  {
   "cell_type": "markdown",
   "metadata": {
    "toc": true
   },
   "source": [
    "<h1>Table of Contents<span class=\"tocSkip\"></span></h1>\n",
    "<div class=\"toc\"><ul class=\"toc-item\"><li><span><a href=\"#J1-J2棋盘格模型\" data-toc-modified-id=\"J1-J2棋盘格模型-1\"><span class=\"toc-item-num\">1&nbsp;&nbsp;</span>J1-J2棋盘格模型</a></span></li><li><span><a href=\"#格点MPO\" data-toc-modified-id=\"格点MPO-2\"><span class=\"toc-item-num\">2&nbsp;&nbsp;</span>格点MPO</a></span></li><li><span><a href=\"#程序检验\" data-toc-modified-id=\"程序检验-3\"><span class=\"toc-item-num\">3&nbsp;&nbsp;</span>程序检验</a></span><ul class=\"toc-item\"><li><span><a href=\"#J1-J2-MC\" data-toc-modified-id=\"J1-J2-MC-3.1\"><span class=\"toc-item-num\">3.1&nbsp;&nbsp;</span>J1-J2 MC</a></span></li><li><span><a href=\"#bond强度比例-r\" data-toc-modified-id=\"bond强度比例-r-3.2\"><span class=\"toc-item-num\">3.2&nbsp;&nbsp;</span>bond强度比例 r</a></span></li><li><span><a href=\"#温度-β\" data-toc-modified-id=\"温度-β-3.3\"><span class=\"toc-item-num\">3.3&nbsp;&nbsp;</span>温度 β</a></span></li></ul></li></ul></div>"
   ]
  },
  {
   "cell_type": "markdown",
   "metadata": {
    "heading_collapsed": true,
    "slideshow": {
     "slide_type": "-"
    }
   },
   "source": [
    "## J1-J2棋盘格模型\n",
    "横向纵向连接耦合强度为$J_1,J_2$交替排布，形成红色正方形和黑色正方形棋盘格\n",
    "<img src=\"figure/29.png\" width=\"40%\">"
   ]
  },
  {
   "cell_type": "markdown",
   "metadata": {},
   "source": [
    "## 格点MPO\n",
    "权重张量为$M$\n",
    "<img src=\"figure/30.png\" width=\"25%\">\n",
    "红色连接上张量为\n",
    "$\\exp(-J_2 h_{ij})$, $J_2 = r J_1$\n",
    "\n",
    "要收缩的目标张量Z2为\n",
    "<img src=\"figure/31.png\" width=\"25%\">\n",
    "\n",
    "能量权重张量为$ME$\n",
    "<img src=\"figure/32.png\" width=\"25%\">"
   ]
  },
  {
   "cell_type": "code",
   "execution_count": 8,
   "metadata": {
    "code_folding": []
   },
   "outputs": [
    {
     "data": {
      "text/plain": [
       "MutiMC (generic function with 1 method)"
      ]
     },
     "execution_count": 8,
     "metadata": {},
     "output_type": "execute_result"
    }
   ],
   "source": [
    "# call library\n",
    "using LinearAlgebra, TensorOperations, KrylovKit, Random, Statistics, PyPlot, ProgressMeter, Test\n",
    "\n",
    "include(\"src/nontrivialVUMPS.jl\")\n",
    "include(\"src/2x2mpo.jl\")\n",
    "include(\"src/2x2muti-MC.jl\")"
   ]
  },
  {
   "cell_type": "code",
   "execution_count": 17,
   "metadata": {},
   "outputs": [
    {
     "data": {
      "text/plain": [
       "1"
      ]
     },
     "execution_count": 17,
     "metadata": {},
     "output_type": "execute_result"
    }
   ],
   "source": [
    "Threads.nthreads()"
   ]
  },
  {
   "cell_type": "code",
   "execution_count": 2,
   "metadata": {},
   "outputs": [
    {
     "name": "stdout",
     "output_type": "stream",
     "text": [
      "Step 1: err ≈ 0.005444318533545013\n",
      "Step 2: err ≈ 1.4464356440866635e-6\n",
      "Step 3: err ≈ 8.803787191229102e-13\n",
      "Step 4: err ≈ 4.958305325897685e-16\n",
      "Step 5: err ≈ 4.644579508165763e-16\n",
      "Step 6: err ≈ 4.463776318605318e-16\n",
      "Step 7: err ≈ 4.435287615381737e-16\n",
      "Step 8: err ≈ 4.763530058430704e-16\n",
      "Step 9: err ≈ 4.616524603590674e-16\n",
      "Step 10: err ≈ 5.212278573888367e-16\n",
      "i = 1\n",
      "j = 1\n",
      "row = -2.7118654330029304 + 6.130211783667156e-16im\n",
      "col = -2.7118654330029233 - 1.1414836588811267e-15im\n",
      "i = 1\n",
      "j = 2\n",
      "row = -0.13117334367209083 + 4.711437002251079e-17im\n",
      "col = -2.7118654330029304 + 1.4726963763547295e-15im\n",
      "i = 2\n",
      "j = 1\n",
      "row = -2.7118654330029295 - 9.432386123483979e-16im\n",
      "col = -0.1311733436720908 + 2.1595080931703897e-17im\n",
      "i = 2\n",
      "j = 2\n",
      "row = -0.13117334367209074 - 3.4733465735794754e-17im\n",
      "col = -0.13117334367209071 - 5.464877623533231e-18im\n",
      "e_row = -5.6860775533500405 - 3.178365296949662e-16im\n",
      "e_col = -5.686077553350035 + 3.473429207817734e-16im\n"
     ]
    },
    {
     "data": {
      "text/plain": [
       "-2.843038776675019 + 7.376597771701795e-18im"
      ]
     },
     "execution_count": 2,
     "metadata": {},
     "output_type": "execute_result"
    }
   ],
   "source": [
    "Ni = 2\n",
    "Nj = 2\n",
    "D = 50\n",
    "A = Array{Array,2}(undef, Ni, Nj)\n",
    "for i = 1:Ni,j = 1:Nj\n",
    "    Random.seed!(1234)\n",
    "    A[i,j] = randn(D, 2, D) + im*randn(D, 2, D)\n",
    "end\n",
    "M,ME_row, ME_col, λM,λME_row,λME_col = classicalisingmpo(0.1; r = 5)\n",
    "λ, AL, C, AR, FL3, FR3, FL4, FR4 = vumps(A, M;verbose = true, tol = 1e-30, maxiter = 10)\n",
    "energy(M, ME_row, ME_col, AL, C, AR, FL3,FL4, FR3, FR4,λM,λME_row, λME_col)"
   ]
  },
  {
   "cell_type": "markdown",
   "metadata": {},
   "source": [
    "## 程序检验\n",
    "### J1-J2 MC"
   ]
  },
  {
   "cell_type": "markdown",
   "metadata": {},
   "source": [
    "### bond强度比例 r"
   ]
  },
  {
   "cell_type": "code",
   "execution_count": 14,
   "metadata": {
    "code_folding": []
   },
   "outputs": [
    {
     "name": "stdout",
     "output_type": "stream",
     "text": [
      "r  = 1 \n",
      "Step 1: err ≈ 0.0015127854504356022\n",
      "Step 2: err ≈ 6.334826163347057e-9\n",
      "r  = 2 \n",
      "Step 1: err ≈ 0.002952836059229717\n",
      "Step 2: err ≈ 1.3595667524210006e-7\n",
      "r  = 3 \n",
      "Step 1: err ≈ 0.004252955003845263\n",
      "Step 2: err ≈ 5.447437536207237e-7\n",
      "r  = 4 \n",
      "Step 1: err ≈ 0.004976248947480782\n",
      "Step 2: err ≈ 1.4827751722011222e-6\n",
      "Step 3: err ≈ 3.274995283539364e-13\n",
      "r  = 5 \n",
      "Step 1: err ≈ 0.005448730811594239\n",
      "Step 2: err ≈ 1.8480459477657591e-6\n",
      "Step 3: err ≈ 1.2793927296053311e-12\n",
      "r  = 6 \n",
      "Step 1: err ≈ 0.005439916911854895\n",
      "Step 2: err ≈ 3.760277495279803e-6\n",
      "Step 3: err ≈ 1.3732376484958397e-11\n",
      "r  = 7 \n",
      "Step 1: err ≈ 0.00557432856965202\n",
      "Step 2: err ≈ 4.547176985109281e-6\n",
      "Step 3: err ≈ 2.752123327265186e-11\n",
      "r  = 8 \n",
      "Step 1: err ≈ 0.005426166417191576\n",
      "Step 2: err ≈ 6.318105202269383e-6\n",
      "Step 3: err ≈ 2.417843050902122e-11\n",
      "r  = 9 \n",
      "Step 1: err ≈ 0.005559044779376786\n",
      "Step 2: err ≈ 7.376088148692276e-6\n",
      "Step 3: err ≈ 1.2189134436077237e-10\n",
      "r  = 10 \n",
      "Step 1: err ≈ 0.0055586598076878\n",
      "Step 2: err ≈ 1.3874872552711782e-5\n",
      "Step 3: err ≈ 3.3130369376506153e-10\n"
     ]
    },
    {
     "data": {
      "image/png": "[encoded data removed]",
      "text/plain": [
       "Figure(PyObject <Figure size 640x480 with 1 Axes>)"
      ]
     },
     "metadata": {},
     "output_type": "display_data"
    },
    {
     "data": {
      "text/plain": [
       "PyObject Text(0.5, 1.0, 'β=0.1')"
      ]
     },
     "execution_count": 14,
     "metadata": {},
     "output_type": "execute_result"
    }
   ],
   "source": [
    "#test4 muti-data\n",
    "β= 0.1\n",
    "lattice = 8\n",
    "lB = 1;                    \n",
    "lE = 10;                    \n",
    "ld = 1;\n",
    "steps = Int(round((lE-lB)/ld+1));\n",
    "eMC = zeros(steps,1)\n",
    "err = zeros(steps,1)\n",
    "eMPS = zeros(steps,1)\n",
    "Bins = 1\n",
    "bins = 60\n",
    "Sweeps_heat = Int(1e4)\n",
    "Sweeps = Int(1e5)\n",
    "\n",
    "Ni = 2\n",
    "Nj = 2\n",
    "D = 50\n",
    "A = Array{Array,2}(undef, Ni, Nj)\n",
    "\n",
    "for i=1:steps\n",
    "    r = lB+ ld*(i-1);\n",
    "    println(\"r  = $r \")\n",
    "    eMC[i],err[i] = MutiMC(β,r,lattice,Bins,bins,Sweeps_heat,Sweeps)\n",
    "    for i = 1:Ni,j = 1:Nj\n",
    "        Random.seed!(1234)\n",
    "        A[i,j] = randn(D, 2, D) + im*randn(D, 2, D)\n",
    "    end\n",
    "    M, ME,λM,λME = classicalisingmpo(β; r = r)\n",
    "    λ, AL, C, AR, FL3, FR3, FL4, FR4 = vumps(A, M;verbose = true, tol = 1e-6, maxiter = 100)\n",
    "    eMPS[i] = real(energy(M, ME, AL, C, AR, FL3,FL4, FR3, FR4,λM,λME))\n",
    "end\n",
    "\n",
    "r = lB:ld:lE\n",
    "errorbar(r,reshape(eMC,steps,),yerr = reshape(err,steps,),marker=\"s\", mfc=\"red\",\n",
    "                 mec=\"green\", ms=2, mew=2,label = \"MC\")\n",
    "plot(r,eMPS,\"*-\",color = \"r\",label = \"MPS\")\n",
    "legend(loc=\"best\")\n",
    "xlabel(\"r\")\n",
    "ylabel(\"energy\")\n",
    "title(\"β=$β\")"
   ]
  },
  {
   "cell_type": "code",
   "execution_count": 45,
   "metadata": {
    "code_folding": []
   },
   "outputs": [
    {
     "name": "stdout",
     "output_type": "stream",
     "text": [
      "r  = 1 \n",
      "r  = 2 \n",
      "r  = 3 \n",
      "r  = 4 \n",
      "r  = 5 \n",
      "r  = 6 \n",
      "r  = 7 \n",
      "r  = 8 \n",
      "r  = 9 \n",
      "r  = 10 \n"
     ]
    },
    {
     "data": {
      "image/png": "[encoded data removed]",
      "text/plain": [
       "Figure(PyObject <Figure size 640x480 with 1 Axes>)"
      ]
     },
     "metadata": {},
     "output_type": "display_data"
    },
    {
     "data": {
      "text/plain": [
       "PyObject Text(0.5, 1.0, 'β=0.5')"
      ]
     },
     "execution_count": 45,
     "metadata": {},
     "output_type": "execute_result"
    }
   ],
   "source": [
    "#test4 muti-data\n",
    "β= 0.5\n",
    "lattice = 8\n",
    "lB = 1;                    \n",
    "lE = 10;                    \n",
    "ld = 1;\n",
    "steps = Int(round((lE-lB)/ld+1));\n",
    "eMC = zeros(steps,1)\n",
    "err = zeros(steps,1)\n",
    "eMPS = zeros(steps,1)\n",
    "Bins = 1\n",
    "bins = 60\n",
    "Sweeps_heat = Int(1e5)\n",
    "Sweeps = Int(2*1e5)\n",
    "\n",
    "Ni = 2\n",
    "Nj = 2\n",
    "D = 50\n",
    "A = Array{Array,2}(undef, Ni, Nj)\n",
    "\n",
    "for i=1:steps\n",
    "    r = lB+ ld*(i-1);\n",
    "    println(\"r  = $r \")\n",
    "    eMC[i],err[i] = MutiMC(β,r,lattice,Bins,bins,Sweeps_heat,Sweeps)\n",
    "    for i = 1:Ni,j = 1:Nj\n",
    "        Random.seed!(1234)\n",
    "        A[i,j] = randn(D, 2, D) + im*randn(D, 2, D)\n",
    "    end\n",
    "    M, ME,λM,λME = classicalisingmpo(β; r = r)\n",
    "    λ, AL, C, AR, FL3, FR3, FL4, FR4 = vumps(A, M;verbose = true, tol = 1e-6, maxiter = 100)\n",
    "    eMPS[i] = real(energy(M, ME, AL, C, AR, FL3,FL4, FR3, FR4,λM,λME))\n",
    "end\n",
    "\n",
    "r = lB:ld:lE\n",
    "errorbar(r,reshape(eMC,steps,),yerr = reshape(err,steps,),marker=\"s\", mfc=\"red\",\n",
    "                 mec=\"green\", ms=2, mew=2,label = \"MC\")\n",
    "plot(r,eMPS,\"*-\",color = \"r\",label = \"MPS\")\n",
    "legend(loc=\"best\")\n",
    "xlabel(\"r\")\n",
    "ylabel(\"energy\")\n",
    "title(\"β=$β\")"
   ]
  },
  {
   "cell_type": "markdown",
   "metadata": {},
   "source": [
    "### 温度 β"
   ]
  },
  {
   "cell_type": "code",
   "execution_count": 9,
   "metadata": {
    "code_folding": []
   },
   "outputs": [
    {
     "name": "stdout",
     "output_type": "stream",
     "text": [
      "β  = 0.1 \n",
      "i = 1\n",
      "j = 1\n",
      "row = -2.711865433002927 - 9.589978797426055e-16im\n",
      "col = -2.7118654330029277 - 6.225847142078988e-17im\n",
      "i = 1\n",
      "j = 2\n",
      "row = -0.1311733436720907 - 5.953888682386355e-17im\n",
      "col = -2.7118654330029273 - 7.460733198622544e-16im\n",
      "i = 2\n",
      "j = 1\n",
      "row = -2.7118654330029264 + 2.699642200759793e-16im\n",
      "col = -0.13117334367209066 - 1.0500057208119293e-17im\n",
      "i = 2\n",
      "j = 2\n",
      "row = -0.1311733436720907 + 6.906477817872868e-17im\n",
      "col = -0.13117334367209071 - 2.4621330368391653e-17im\n",
      "e_row = -5.686077553350034 - 6.79507768311761e-16im\n",
      "e_col = -5.686077553350035 - 8.434531788595553e-16im\n",
      "β  = 0.13 \n",
      "i = 1\n",
      "j = 1\n",
      "row = -3.4839373160834346 - 5.891766222745796e-16im\n",
      "col = -3.483937316083434 + 2.5142320023466765e-16im\n",
      "i = 1\n",
      "j = 2\n",
      "row = -0.20090705059803737 - 1.705695393096629e-17im\n",
      "col = -3.4839373160834346 + 4.1187597950418173e-16im\n",
      "i = 2\n",
      "j = 1\n",
      "row = -3.4839373160834346 + 4.308227892455097e-16im\n",
      "col = -0.20090705059803762 + 9.00697237278748e-18im\n",
      "i = 2\n",
      "j = 2\n",
      "row = -0.20090705059803746 + 3.956634292331643e-17im\n",
      "col = -0.20090705059803748 + 2.058736542351424e-18im\n",
      "e_row = -7.369688733362945 - 1.358444440367197e-16im\n",
      "e_col = -7.369688733362944 + 6.743648886539883e-16im\n",
      "β  = 0.16 \n",
      "i = 1\n",
      "j = 1\n",
      "row = -4.086630849801777 + 6.227468067659265e-15im\n",
      "col = -4.086630849801776 + 3.086988081740391e-16im\n",
      "i = 1\n",
      "j = 2\n",
      "row = -0.292892249235735 + 2.975187148658221e-14im\n",
      "col = -4.086630849801779 - 1.691868196169157e-16im\n",
      "i = 2\n",
      "j = 1\n",
      "row = -4.086630849801776 - 5.4397590764448335e-15im\n",
      "col = -0.2928922492357415 - 3.893982356262346e-18im\n",
      "i = 2\n",
      "j = 2\n",
      "row = -0.29289224923573487 - 2.9776225660715555e-14im\n",
      "col = -0.2928922492357433 + 1.7187232469020012e-17im\n",
      "e_row = -8.759046198075023 + 7.633548170810884e-16im\n",
      "e_col = -8.759046198075039 + 1.5280523866988105e-16im\n",
      "β  = 0.19 \n",
      "i = 1\n",
      "j = 1\n",
      "row = -4.498602293069123 + 2.901500207873317e-15im\n",
      "col = -4.4986022930693235 + 4.4405127786044415e-17im\n",
      "i = 1\n",
      "j = 2\n",
      "row = -0.4121213125969205 - 2.3378255556995042e-15im\n",
      "col = -4.498602293069316 + 1.0040968293825062e-15im\n",
      "i = 2\n",
      "j = 1\n",
      "row = -4.498602293069122 - 3.270675607192451e-15im\n",
      "col = -0.41212131259757073 + 7.121254109095789e-18im\n",
      "i = 2\n",
      "j = 2\n",
      "row = -0.4121213125969204 + 2.3934261166282135e-15im\n",
      "col = -0.41212131259756596 + 8.216831664341295e-17im\n",
      "e_row = -9.821447211332085 - 3.135748383904248e-16im\n",
      "e_col = -9.821447211333776 + 1.1377915279210595e-15im\n",
      "β  = 0.22 \n",
      "i = 1\n",
      "j = 1\n",
      "row = -4.756084287964059 - 2.2522840344162486e-11im\n",
      "col = -4.75608428902923 - 5.0565464858188063e-17im\n",
      "i = 1\n",
      "j = 2\n",
      "row = -0.5796983615801126 - 6.0488548079237965e-12im\n",
      "col = -4.756084289033696 + 4.782304825317431e-15im\n",
      "i = 2\n",
      "j = 1\n",
      "row = -4.75608428796406 + 2.252296993543581e-11im\n",
      "col = -0.5796983629827807 + 5.382597024248652e-16im\n",
      "i = 2\n",
      "j = 2\n",
      "row = -0.5796983615801127 + 6.048903922740073e-12im\n",
      "col = -0.5796983629695608 - 1.856830184956414e-16im\n",
      "e_row = -10.671565299088345 + 1.7870608960083955e-16im\n",
      "e_col = -10.671565304015267 + 5.084316044388467e-15im\n",
      "β  = 0.25 \n",
      "i = 1\n",
      "j = 1\n",
      "row = -4.9082513057891655 + 5.064203698586856e-13im\n",
      "col = -4.9082513057899355 + 1.096836619792399e-16im\n",
      "i = 1\n",
      "j = 2\n",
      "row = -0.8332732548306814 - 1.7617821033867533e-12im\n",
      "col = -4.90825130579011 - 1.5253100907353214e-18im\n",
      "i = 2\n",
      "j = 1\n",
      "row = -4.9082513057891655 - 5.059344025971635e-13im\n",
      "col = -0.8332732548315002 - 4.2986011647995414e-17im\n",
      "i = 2\n",
      "j = 2\n",
      "row = -0.8332732548306814 + 1.7619444795791398e-12im\n",
      "col = -0.833273254834549 + 1.2271813002734174e-17im\n",
      "e_row = -11.483049121239693 + 6.483434539085746e-16im\n",
      "e_col = -11.483049121246093 + 7.744415324324333e-17im\n",
      "β  = 0.28 \n",
      "i = 1\n",
      "j = 1\n",
      "row = -4.960886033910596 + 1.1645626504218348e-16im\n",
      "col = -4.9608860339105965 + 9.646431694947244e-16im\n",
      "i = 1\n",
      "j = 2\n",
      "row = -0.9189673732933542 - 1.5016089495454122e-16im\n",
      "col = -4.960886033910594 - 2.929630035636449e-16im\n",
      "i = 2\n",
      "j = 1\n",
      "row = -4.960886033910597 - 5.826805046589011e-16im\n",
      "col = -0.9189673732933544 - 1.0066264340456994e-17im\n",
      "i = 2\n",
      "j = 2\n",
      "row = -0.9189673732933543 + 2.382580635617131e-16im\n",
      "col = -0.9189673732933525 + 6.213314886006213e-18im\n",
      "e_row = -11.7597068144079 - 3.7812707100954576e-16im\n",
      "e_col = -11.759706814407897 + 6.6782721647662865e-16im\n",
      "β  = 0.31 \n",
      "i = 1\n",
      "j = 1\n",
      "row = -4.982543226352308 + 1.8051194423938182e-14im\n",
      "col = -4.982543226352302 - 2.6825265172817833e-16im\n",
      "i = 1\n",
      "j = 2\n",
      "row = -0.9569196755671587 - 7.690054014725671e-15im\n",
      "col = -4.982543226352258 + 4.049525712255762e-16im\n",
      "i = 2\n",
      "j = 1\n",
      "row = -4.982543226352307 - 1.8258444660641424e-14im\n",
      "col = -0.9569196755672651 + 2.4789826026069483e-17im\n",
      "i = 2\n",
      "j = 2\n",
      "row = -0.9569196755671583 + 7.513365744912411e-15im\n",
      "col = -0.9569196755672645 + 1.0082584703040024e-16im\n",
      "e_row = -11.878925803838934 - 3.839385065165022e-16im\n",
      "e_col = -11.878925803839092 + 2.623155925538676e-16im\n",
      "β  = 0.33999999999999997 \n",
      "i = 1\n",
      "j = 1\n",
      "row = -4.99203112906897 + 2.8510435515274417e-16im\n",
      "col = -4.992031129068969 - 8.429076968663626e-16im\n",
      "i = 1\n",
      "j = 2\n",
      "row = -0.9760266167042766 - 3.234334294641405e-17im\n",
      "col = -4.992031129068966 + 1.4157480462243059e-16im\n",
      "i = 2\n",
      "j = 1\n",
      "row = -4.992031129068968 - 3.537992464449216e-16im\n",
      "col = -0.9760266167042763 + 1.3086600795061011e-17im\n",
      "i = 2\n",
      "j = 2\n",
      "row = -0.9760266167042769 + 2.1730005564212717e-17im\n",
      "col = -0.9760266167042765 + 2.1018399950688174e-17im\n",
      "e_row = -11.93611549154649 - 7.930822867437877e-17im\n",
      "e_col = -11.936115491546488 - 6.672278914981827e-16im\n",
      "β  = 0.37 \n",
      "i = 1\n",
      "j = 1\n",
      "row = -4.996310782205212 + 9.978602471333342e-17im\n",
      "col = -4.996310782205213 - 1.3503728795996482e-16im\n",
      "i = 1\n",
      "j = 2\n",
      "row = -0.986268602846989 + 7.531897426408615e-17im\n",
      "col = -4.996310782205213 + 2.2142593230193698e-17im\n",
      "i = 2\n",
      "j = 1\n",
      "row = -4.996310782205214 - 8.70872827374569e-16im\n",
      "col = -0.9862686028469887 + 1.2420238141950962e-17im\n",
      "i = 2\n",
      "j = 2\n",
      "row = -0.9862686028469881 - 3.5462848628807773e-17im\n",
      "col = -0.9862686028469887 - 1.352931964811365e-16im\n",
      "e_row = -11.965158770104402 - 7.312306770259572e-16im\n",
      "e_col = -11.965158770104404 - 2.3576765306895667e-16im\n"
     ]
    },
    {
     "data": {
      "image/png": "[encoded data removed]",
      "text/plain": [
       "Figure(PyObject <Figure size 640x480 with 1 Axes>)"
      ]
     },
     "metadata": {},
     "output_type": "display_data"
    },
    {
     "name": "stdout",
     "output_type": "stream",
     "text": [
      "β  = 0.4 \n",
      "i = 1\n",
      "j = 1\n",
      "row = -4.998275368553971 + 6.292905912691337e-16im\n",
      "col = -4.998275368553974 + 5.274742449203606e-16im\n",
      "i = 1\n",
      "j = 2\n",
      "row = -0.9919776420098403 - 2.7406538234558877e-18im\n",
      "col = -4.998275368553971 - 3.428174772721488e-17im\n",
      "i = 2\n",
      "j = 1\n",
      "row = -4.998275368553971 - 8.348897586351416e-16im\n",
      "col = -0.9919776420098405 - 8.732480731134016e-18im\n",
      "i = 2\n",
      "j = 2\n",
      "row = -0.9919776420098398 - 3.7667866985461345e-17im\n",
      "col = -0.9919776420098396 + 3.5361317119408694e-17im\n",
      "e_row = -11.98050602112762 - 2.4600768817492513e-16im\n",
      "e_col = -11.980506021127626 + 5.198213335814205e-16im\n",
      " 41.737483 seconds (111.78 M allocations: 4.407 GiB, 1.78% gc time)\n"
     ]
    },
    {
     "data": {
      "text/plain": [
       "PyObject Text(24.000000000000007, 0.5, 'energy')"
      ]
     },
     "execution_count": 9,
     "metadata": {},
     "output_type": "execute_result"
    }
   ],
   "source": [
    "lattice = 8;               #晶格大小\n",
    "Sweeps_heat = Int(1e5);       #热浴蒙卡次数\n",
    "Sweeps = Int(1e6);           #蒙卡次数\n",
    "βB = 0.1;                    #温度区间初始\n",
    "βE = 0.4;                    #温度区间末尾\n",
    "d = 0.03;                   #温度区间间隔\n",
    "steps = Int(round((βE-βB)/d+1));\n",
    "eMPS = zeros(steps,1); \n",
    "eMC = zeros(steps,1);\n",
    "r = 5.0\n",
    "Ni = 2\n",
    "Nj = 2\n",
    "D = 10\n",
    "A = Array{Array,2}(undef, Ni, Nj)\n",
    "\n",
    "@time begin\n",
    "    Threads.@threads for i=1:steps\n",
    "        β = βB+ d*(i-1)\n",
    "        println(\"β  = $β \")\n",
    "        eMC[i] = MC(lattice,β,r,Sweeps_heat,Sweeps)\n",
    "        for i = 1:Ni,j = 1:Nj\n",
    "            Random.seed!(1234)\n",
    "            A[i,j] = randn(D, 2, D) + im*randn(D, 2, D)\n",
    "        end\n",
    "        M, ME_row, ME_col,λM,λME_row,λME_col= classicalisingmpo(β; r = r)\n",
    "        λ, AL, C, AR, FL3, FR3, FL4, FR4 = vumps(A, M;verbose = false, tol = 1e-12, maxiter = 20)\n",
    "        eMPS[i] = real(energy(M, ME_row, ME_col, AL, C, AR, FL3,FL4, FR3, FR4,λM,λME_row, λME_col))\n",
    "    end\n",
    "end\n",
    "\n",
    "β=βB:d:βE\n",
    "title(\"r = $r\")\n",
    "plot(β,eMC,\"*-\",color =\"y\",label = \"MC\")\n",
    "plot(β,fill(-r-1,steps),label = \"real\")\n",
    "plot(β,eMPS,\"*-\",color = \"r\",label = \"MPS\")\n",
    "legend(loc=\"best\")\n",
    "xlabel(\"β\")\n",
    "ylabel(\"energy\")"
   ]
  },
  {
   "cell_type": "code",
   "execution_count": null,
   "metadata": {},
   "outputs": [],
   "source": []
  },
  {
   "cell_type": "code",
   "execution_count": 41,
   "metadata": {
    "code_folding": []
   },
   "outputs": [
    {
     "name": "stdout",
     "output_type": "stream",
     "text": [
      "β  = 0.1 \n"
     ]
    },
    {
     "name": "stderr",
     "output_type": "stream",
     "text": [
      "\u001b[32mProgress: 100%|█████████████████████████████████████████| Time: 0:01:24\u001b[39m\n"
     ]
    },
    {
     "name": "stdout",
     "output_type": "stream",
     "text": [
      "Step 1: err ≈ 0.0054419094735996265\n",
      "Step 2: err ≈ 1.3630442166818118e-6\n",
      "Step 3: err ≈ 1.051064198588269e-12\n",
      "Step 4: err ≈ 4.942334679085088e-16\n",
      "β  = 0.13 \n"
     ]
    },
    {
     "name": "stderr",
     "output_type": "stream",
     "text": [
      "\u001b[32mProgress: 100%|█████████████████████████████████████████| Time: 0:00:17\u001b[39m\n"
     ]
    },
    {
     "name": "stdout",
     "output_type": "stream",
     "text": [
      "Step 1: err ≈ 0.004169420084252499\n",
      "Step 2: err ≈ 3.019644200099613e-6\n",
      "Step 3: err ≈ 8.706503022014479e-12\n",
      "Step 4: err ≈ 3.4419683483247388e-15\n",
      "Step 5: err ≈ 2.0084907800614257e-16\n",
      "β  = 0.16 \n"
     ]
    },
    {
     "name": "stderr",
     "output_type": "stream",
     "text": [
      "\u001b[32mProgress: 100%|█████████████████████████████████████████| Time: 0:00:58\u001b[39m\n"
     ]
    },
    {
     "name": "stdout",
     "output_type": "stream",
     "text": [
      "Step 1: err ≈ 0.0024045480876356087\n",
      "Step 2: err ≈ 2.25224879251252e-6\n",
      "Step 3: err ≈ 1.206556873064556e-10\n",
      "Step 4: err ≈ 2.526335475676282e-13\n",
      "Step 5: err ≈ 4.1183410947280556e-15\n",
      "Step 6: err ≈ 2.2332502347055927e-16\n",
      "β  = 0.19 \n"
     ]
    },
    {
     "name": "stderr",
     "output_type": "stream",
     "text": [
      "\u001b[32mProgress: 100%|█████████████████████████████████████████| Time: 0:00:18\u001b[39m\n"
     ]
    },
    {
     "name": "stdout",
     "output_type": "stream",
     "text": [
      "Step 1: err ≈ 0.005114143993993893\n",
      "Step 2: err ≈ 6.801780908884088e-5\n",
      "Step 3: err ≈ 2.2130188964497623e-7\n",
      "Step 4: err ≈ 1.872227845214918e-10\n",
      "Step 5: err ≈ 5.040030130074396e-12\n",
      "Step 6: err ≈ 1.3795734964690743e-13\n",
      "Step 7: err ≈ 1.2415362901406196e-14\n",
      "Step 8: err ≈ 2.1105023131071948e-15\n",
      "Step 9: err ≈ 6.403565933980634e-16\n",
      "β  = 0.22 \n"
     ]
    },
    {
     "name": "stderr",
     "output_type": "stream",
     "text": [
      "\u001b[32mProgress: 100%|█████████████████████████████████████████| Time: 0:00:17\u001b[39m\n"
     ]
    },
    {
     "name": "stdout",
     "output_type": "stream",
     "text": [
      "Step 1: err ≈ 0.0028652577906495354\n",
      "Step 2: err ≈ 0.00012901129127149372\n",
      "Step 3: err ≈ 3.0108985093740565e-5\n",
      "Step 4: err ≈ 3.552081046618049e-6\n",
      "Step 5: err ≈ 1.0169753547052195e-7\n",
      "Step 6: err ≈ 3.6354415977846723e-9\n",
      "Step 7: err ≈ 3.1879065465529136e-10\n",
      "Step 8: err ≈ 5.742326823089163e-11\n",
      "Step 9: err ≈ 1.8883275514636652e-11\n",
      "Step 10: err ≈ 6.281048441317483e-12\n",
      "Step 11: err ≈ 2.942505075338548e-12\n",
      "Step 12: err ≈ 1.421900998246596e-12\n",
      "Step 13: err ≈ 6.602332472580849e-13\n",
      "Step 14: err ≈ 4.1732976984865607e-13\n",
      "Step 15: err ≈ 2.7510578591916093e-13\n",
      "Step 16: err ≈ 2.4869710674396934e-13\n",
      "Step 17: err ≈ 1.8971944229088534e-13\n",
      "Step 18: err ≈ 1.9780309221766995e-13\n",
      "Step 19: err ≈ 1.4561196377950214e-13\n",
      "Step 20: err ≈ 1.418944482272428e-13\n",
      "Step 21: err ≈ 1.1055084798738656e-13\n",
      "Step 22: err ≈ 1.1201743197948223e-13\n",
      "Step 23: err ≈ 9.842997965585199e-14\n",
      "Step 24: err ≈ 1.0564180241797687e-13\n",
      "Step 25: err ≈ 1.0359473515598593e-13\n",
      "Step 26: err ≈ 1.137917573067463e-13\n",
      "Step 27: err ≈ 1.1047060747278087e-13\n",
      "Step 28: err ≈ 1.0902387296546411e-13\n",
      "Step 29: err ≈ 9.413044003516452e-14\n",
      "Step 30: err ≈ 8.53723699722004e-14\n",
      "Step 31: err ≈ 7.18258864169244e-14\n",
      "Step 32: err ≈ 6.492409162149066e-14\n",
      "Step 33: err ≈ 5.4762368041032166e-14\n",
      "Step 34: err ≈ 4.919347570108071e-14\n",
      "Step 35: err ≈ 4.1460798476210605e-14\n",
      "Step 36: err ≈ 3.686732783721581e-14\n",
      "Step 37: err ≈ 3.111544464138034e-14\n",
      "Step 38: err ≈ 2.7469600902421952e-14\n",
      "Step 39: err ≈ 2.336229914722464e-14\n",
      "Step 40: err ≈ 2.057503934061823e-14\n",
      "Step 41: err ≈ 1.7696651369155438e-14\n",
      "Step 42: err ≈ 1.562951696767519e-14\n",
      "Step 43: err ≈ 1.3636000481562159e-14\n",
      "Step 44: err ≈ 1.213775862083494e-14\n",
      "Step 45: err ≈ 1.0756536015889674e-14\n",
      "Step 46: err ≈ 9.700480971654646e-15\n",
      "Step 47: err ≈ 8.77321815759266e-15\n",
      "Step 48: err ≈ 7.982577016372066e-15\n",
      "Step 49: err ≈ 7.342576652039428e-15\n",
      "Step 50: err ≈ 6.838676051343939e-15\n",
      "Step 51: err ≈ 6.426647669371902e-15\n",
      "Step 52: err ≈ 6.120925656784086e-15\n",
      "Step 53: err ≈ 5.977869574908229e-15\n",
      "Step 54: err ≈ 5.633182329083061e-15\n",
      "Step 55: err ≈ 5.4997634428733464e-15\n",
      "Step 56: err ≈ 5.429963340216267e-15\n",
      "Step 57: err ≈ 5.344093467405347e-15\n",
      "Step 58: err ≈ 5.245422190305618e-15\n",
      "Step 59: err ≈ 5.220692093569864e-15\n",
      "Step 60: err ≈ 5.3509504897541916e-15\n",
      "Step 61: err ≈ 5.222239578220985e-15\n",
      "Step 62: err ≈ 5.2390441460466875e-15\n",
      "Step 63: err ≈ 5.37888306292916e-15\n",
      "Step 64: err ≈ 5.280370901391813e-15\n",
      "Step 65: err ≈ 5.3246295059648605e-15\n",
      "Step 66: err ≈ 5.366215144408008e-15\n",
      "Step 67: err ≈ 5.398737881447858e-15\n",
      "Step 68: err ≈ 5.502543095677738e-15\n",
      "Step 69: err ≈ 5.5791216586918686e-15\n",
      "Step 70: err ≈ 5.560068225909383e-15\n",
      "Step 71: err ≈ 5.603467549009898e-15\n",
      "Step 72: err ≈ 5.6394898008468506e-15\n",
      "Step 73: err ≈ 5.696476505787518e-15\n",
      "Step 74: err ≈ 5.752829668157455e-15\n",
      "Step 75: err ≈ 5.884787526251387e-15\n",
      "Step 76: err ≈ 6.033012981570583e-15\n",
      "Step 77: err ≈ 5.947810711667248e-15\n",
      "Step 78: err ≈ 6.0053806298879814e-15\n",
      "Step 79: err ≈ 6.0355140432087045e-15\n",
      "Step 80: err ≈ 6.09369425449279e-15\n",
      "Step 81: err ≈ 6.1565621817892766e-15\n",
      "Step 82: err ≈ 6.2192421911513954e-15\n",
      "Step 83: err ≈ 6.2799381859522154e-15\n",
      "Step 84: err ≈ 6.341377921914333e-15\n",
      "Step 85: err ≈ 6.417564610771285e-15\n",
      "Step 86: err ≈ 6.4887228242203614e-15\n",
      "Step 87: err ≈ 6.54408903758072e-15\n",
      "Step 88: err ≈ 6.603002814729607e-15\n",
      "Step 89: err ≈ 6.670866777781068e-15\n",
      "Step 90: err ≈ 6.757331720921248e-15\n",
      "Step 91: err ≈ 6.840989010078139e-15\n",
      "Step 92: err ≈ 6.87250081517277e-15\n",
      "Step 93: err ≈ 6.9457558826689865e-15\n",
      "Step 94: err ≈ 7.015320651170027e-15\n",
      "Step 95: err ≈ 7.0896288262842445e-15\n",
      "Step 96: err ≈ 7.163162536024966e-15\n",
      "Step 97: err ≈ 7.236954606662828e-15\n",
      "Step 98: err ≈ 7.309746798665434e-15\n",
      "Step 99: err ≈ 7.41974561148298e-15\n",
      "Step 100: err ≈ 7.472208546275274e-15\n",
      "β  = 0.25 \n"
     ]
    },
    {
     "name": "stderr",
     "output_type": "stream",
     "text": [
      "\u001b[32mProgress: 100%|█████████████████████████████████████████| Time: 0:00:18\u001b[39m\n"
     ]
    },
    {
     "name": "stdout",
     "output_type": "stream",
     "text": [
      "Step 1: err ≈ 0.005814406715086242\n",
      "Step 2: err ≈ 2.520139053067025e-5\n",
      "Step 3: err ≈ 1.7301475987188924e-6\n",
      "Step 4: err ≈ 7.794824091358271e-8\n",
      "Step 5: err ≈ 3.5755626260287736e-9\n",
      "Step 6: err ≈ 1.4835097515668448e-10\n",
      "Step 7: err ≈ 1.7652152580318682e-11\n",
      "Step 8: err ≈ 1.9917656874831636e-12\n",
      "Step 9: err ≈ 5.109444879360843e-13\n",
      "Step 10: err ≈ 1.134192739293398e-13\n",
      "Step 11: err ≈ 4.452618168482393e-14\n",
      "Step 12: err ≈ 2.0834002540331716e-14\n",
      "Step 13: err ≈ 8.370358223327523e-15\n",
      "Step 14: err ≈ 2.924242840217991e-15\n",
      "Step 15: err ≈ 1.2679900946961275e-15\n",
      "Step 16: err ≈ 8.864500729845705e-16\n",
      "β  = 0.28 \n"
     ]
    },
    {
     "name": "stderr",
     "output_type": "stream",
     "text": [
      "\u001b[32mProgress: 100%|█████████████████████████████████████████| Time: 0:00:18\u001b[39m\n"
     ]
    },
    {
     "name": "stdout",
     "output_type": "stream",
     "text": [
      "Step 1: err ≈ 0.003333948501451352\n",
      "Step 2: err ≈ 7.868844208731526e-6\n",
      "Step 3: err ≈ 8.934817110485104e-8\n",
      "Step 4: err ≈ 8.924348959340432e-10\n",
      "Step 5: err ≈ 1.579918651389099e-11\n",
      "Step 6: err ≈ 4.866084062602321e-13\n",
      "Step 7: err ≈ 2.987964367429745e-14\n",
      "Step 8: err ≈ 2.783526179205506e-15\n",
      "Step 9: err ≈ 3.4110024940369335e-16\n",
      "β  = 0.31 \n"
     ]
    },
    {
     "name": "stderr",
     "output_type": "stream",
     "text": [
      "\u001b[32mProgress: 100%|█████████████████████████████████████████| Time: 0:00:18\u001b[39m\n"
     ]
    },
    {
     "name": "stdout",
     "output_type": "stream",
     "text": [
      "Step 1: err ≈ 0.002736701354126264\n",
      "Step 2: err ≈ 2.9965919433139e-6\n",
      "Step 3: err ≈ 2.8226512346846632e-9\n",
      "Step 4: err ≈ 1.1995408275095136e-11\n",
      "Step 5: err ≈ 2.0235003240574836e-13\n",
      "Step 6: err ≈ 4.236995064736541e-15\n",
      "Step 7: err ≈ 3.1248550275055317e-16\n",
      "β  = 0.33999999999999997 \n"
     ]
    },
    {
     "name": "stderr",
     "output_type": "stream",
     "text": [
      "\u001b[32mProgress: 100%|█████████████████████████████████████████| Time: 0:00:18\u001b[39m\n"
     ]
    },
    {
     "name": "stdout",
     "output_type": "stream",
     "text": [
      "Step 1: err ≈ 0.003177525567398878\n",
      "Step 2: err ≈ 1.5624113136735453e-6\n",
      "Step 3: err ≈ 3.769472614508495e-10\n",
      "Step 4: err ≈ 1.4886704436021332e-12\n",
      "Step 5: err ≈ 1.4680097556028907e-14\n",
      "Step 6: err ≈ 9.559435067085454e-16\n",
      "β  = 0.37 \n"
     ]
    },
    {
     "name": "stderr",
     "output_type": "stream",
     "text": [
      "\u001b[32mProgress: 100%|█████████████████████████████████████████| Time: 0:00:17\u001b[39m\n"
     ]
    },
    {
     "name": "stdout",
     "output_type": "stream",
     "text": [
      "Step 1: err ≈ 0.0025294695677629546\n",
      "Step 2: err ≈ 3.367077061794835e-6\n",
      "Step 3: err ≈ 5.0962161620677045e-11\n",
      "Step 4: err ≈ 5.254481546473637e-14\n",
      "Step 5: err ≈ 4.643935720891474e-16\n",
      "β  = 0.4 \n"
     ]
    },
    {
     "name": "stderr",
     "output_type": "stream",
     "text": [
      "\u001b[32mProgress: 100%|█████████████████████████████████████████| Time: 0:00:38\u001b[39m\n"
     ]
    },
    {
     "name": "stdout",
     "output_type": "stream",
     "text": [
      "Step 1: err ≈ 0.0025156684643310957\n",
      "Step 2: err ≈ 3.423577036186171e-6\n",
      "Step 3: err ≈ 5.7671799114200476e-11\n",
      "Step 4: err ≈ 2.3768143974522064e-14\n",
      "Step 5: err ≈ 3.400685605146005e-16\n"
     ]
    },
    {
     "data": {
      "image/png": "[encoded data removed]",
      "text/plain": [
       "Figure(PyObject <Figure size 640x480 with 1 Axes>)"
      ]
     },
     "metadata": {},
     "output_type": "display_data"
    },
    {
     "data": {
      "text/plain": [
       "PyObject Text(0.5, 1.0, 'r=5')"
      ]
     },
     "execution_count": 41,
     "metadata": {},
     "output_type": "execute_result"
    }
   ],
   "source": [
    "r = 5\n",
    "lattice = 8\n",
    "lB = 0.1;                    \n",
    "lE = 0.4;                    \n",
    "ld = 0.03;\n",
    "steps = Int(round((lE-lB)/ld+1));\n",
    "eMC = zeros(steps,1)\n",
    "err = zeros(steps,1)\n",
    "eMPS = zeros(steps,1)\n",
    "Bins = 10\n",
    "bins = 60\n",
    "Sweeps_heat = Int(1e5)\n",
    "Sweeps = Int(2*1e5)\n",
    "\n",
    "Ni = 2\n",
    "Nj = 2\n",
    "D = 50\n",
    "A = Array{Array,2}(undef, Ni, Nj)\n",
    "\n",
    "for i=1:steps\n",
    "    β = lB+ ld*(i-1)\n",
    "    println(\"β  = $β \")\n",
    "    eMC[i],err[i] = MutiMC(β,r,lattice,Bins,bins,Sweeps_heat,Sweeps)\n",
    "    for i = 1:Ni,j = 1:Nj\n",
    "        Random.seed!(1234)\n",
    "        A[i,j] = randn(D, 2, D) + im*randn(D, 2, D)\n",
    "    end\n",
    "    M, ME,λM,λME = classicalisingmpo(β; r = r)\n",
    "    λ, AL, C, AR, FL3, FR3, FL4, FR4 = vumps(A, M;verbose = true, tol = 1e-15, maxiter = 100)\n",
    "    eMPS[i] = real(energy(M, ME, AL, C, AR, FL3,FL4, FR3, FR4,λM,λME))\n",
    "end\n",
    "\n",
    "β = lB:ld:lE\n",
    "errorbar(β,reshape(eMC,steps,),yerr = reshape(err,steps,),marker=\"s\", mfc=\"red\",\n",
    "                 mec=\"green\", ms=2, mew=2,label = \"MC\")\n",
    "plot(β,eMPS,\"*-\",color = \"r\",label = \"MPS\")\n",
    "legend(loc=\"best\")\n",
    "xlabel(\"β\")\n",
    "ylabel(\"energy\")\n",
    "title(\"r=$r\")"
   ]
  },
  {
   "cell_type": "code",
   "execution_count": null,
   "metadata": {},
   "outputs": [],
   "source": []
  }
 ],
 "metadata": {
  "kernelspec": {
   "display_name": "Julia 1.5.1",
   "language": "julia",
   "name": "julia-1.5"
  },
  "language_info": {
   "file_extension": ".jl",
   "mimetype": "application/julia",
   "name": "julia",
   "version": "1.5.1"
  },
  "toc": {
   "base_numbering": 1,
   "nav_menu": {},
   "number_sections": true,
   "sideBar": true,
   "skip_h1_title": true,
   "title_cell": "Table of Contents",
   "title_sidebar": "Contents",
   "toc_cell": true,
   "toc_position": {
    "height": "calc(100% - 180px)",
    "left": "10px",
    "top": "150px",
    "width": "255.95px"
   },
   "toc_section_display": true,
   "toc_window_display": true
  },
  "varInspector": {
   "cols": {
    "lenName": 16,
    "lenType": 16,
    "lenVar": 40
   },
   "kernels_config": {
    "python": {
     "delete_cmd_postfix": "",
     "delete_cmd_prefix": "del ",
     "library": "var_list.py",
     "varRefreshCmd": "print(var_dic_list())"
    },
    "r": {
     "delete_cmd_postfix": ") ",
     "delete_cmd_prefix": "rm(",
     "library": "var_list.r",
     "varRefreshCmd": "cat(var_dic_list()) "
    }
   },
   "types_to_exclude": [
    "module",
    "function",
    "builtin_function_or_method",
    "instance",
    "_Feature"
   ],
   "window_display": false
  }
 },
 "nbformat": 4,
 "nbformat_minor": 2
}
