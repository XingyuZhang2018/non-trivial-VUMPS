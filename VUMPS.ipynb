{
 "cells": [
  {
   "cell_type": "code",
   "execution_count": 16,
   "metadata": {},
   "outputs": [
    {
     "name": "stdout",
     "output_type": "stream",
     "text": [
      "Starting point has λ ≈ 1.8042617610230498 ≈ 1.804261761023042\n",
      "Step 1: λ ≈ 2.459268154400934 ≈ 2.458852311738387 ≈ 2.455303578393477, err ≈ 0.010269859871508719\n",
      "Step 2: λ ≈ 2.4615260508818784 ≈ 2.461796692986627 ≈ 2.4614523916091193, err ≈ 0.001065643896251669\n",
      "Step 3: λ ≈ 2.4620443015898377 ≈ 2.462046220073325 ≈ 2.462044097939085, err ≈ 5.343688228632955e-5\n",
      "Step 4: λ ≈ 2.4620471412913596 ≈ 2.462047141455605 ≈ 2.462047141234521, err ≈ 6.112700103339097e-7\n",
      "Step 5: λ ≈ 2.462047141563621 ≈ 2.462047141563625 ≈ 2.462047141563496, err ≈ 1.59085801964449e-8\n",
      "Step 6: λ ≈ 2.462047141563623 ≈ 2.4620471415636374 ≈ 2.462047141563612, err ≈ 1.7741341789168657e-9\n",
      "Step 7: λ ≈ 2.4620471415636414 ≈ 2.462047141563624 ≈ 2.462047141563631, err ≈ 3.815268425072706e-10\n",
      "Step 8: λ ≈ 2.4620471415636302 ≈ 2.4620471415636347 ≈ 2.462047141563647, err ≈ 1.281421177389336e-10\n",
      "Step 9: λ ≈ 2.4620471415636365 ≈ 2.4620471415636063 ≈ 2.462047141563631, err ≈ 5.862152919896731e-11\n",
      "Z2 = 0.05238587156508387 - 0.49674905225747523im\n",
      "energy = -0.6084998388806342 + 1.666960840196463e-17im\n",
      "log(Z2) = -0.6941403654066135 - 1.465727262477185im\n"
     ]
    },
    {
     "data": {
      "text/plain": [
       "-0.6941403654066135 - 1.465727262477185im"
      ]
     },
     "execution_count": 16,
     "metadata": {},
     "output_type": "execute_result"
    }
   ],
   "source": [
    "using Revise\n",
    "Revise.includet(\"mps.jl\")\n",
    "\n",
    "βc = log(1+sqrt(2))/2\n",
    "β = 0.95*βc\n",
    "M, M2 = classicalisingmpo(β)\n",
    "D = 50\n",
    "A = randn(D, 2, D) + im*randn(D, 2, D)\n",
    "λ, AL, C, AR, FL, FR = vumps(A, M; tol = 1e-10)\n",
    "\n",
    "# Compute energy:\n",
    "#----------------\n",
    "# Strategy 1:\n",
    "# Compute energy by contracting M2 with two mps tensors in ket and bra, and the boundaries FL and FR.\n",
    "# Make sure everything is normalized by dividing through the proper contribution of the partition function\n",
    "@tensor AAC[α,s1,s2,β] := AL[α,s1,α']*C[α',β']*AR[β',s2,β]\n",
    "\n",
    "@tensor Z2 = scalar(FL[α,c,β]*AAC[β,s1,s2,β']*M[c,t1,d,s1]*M[d,t2,c',s2]*FR[β',c',α']*conj(AAC[α,t1,t2,α']))\n",
    "@tensor energy = scalar(FL[α,c,β]*AAC[β,s1,s2,β']*M2[c,t1,t2,c',s2,s1]*FR[β',c',α']*conj(AAC[α,t1,t2,α']) / Z2)\n",
    "@show Z2 energy log(Z2)\n",
    "\n",
    "# # Strategy 2:\n",
    "# # Compute energy using thermodynamic relations: Z = λ^N, i.e. λ is the partition function per site\n",
    "# # E = - d log(Z) / d β => energy (density) = - d log(λ) / d β\n",
    "# # where derivatives are evaluated using finite differences\n",
    "# dβ = 1.e-5\n",
    "# β′ = β + dβ\n",
    "# M′, = classicalisingmpo(β′)\n",
    "# λ′, = vumps(AL, M′; tol = 1e-10)\n",
    "# energy2 = -(log(λ′)-log(λ))/(β′-β)\n",
    "\n",
    "# @assert isapprox(energy2, 2*energy; rtol = 10*dβ)\n",
    "# @show energy2\n",
    "#  # factor 2 for counting horizontal and vertical links\n",
    "\n",
    "# # also compute free energy and entropy\n",
    "# f = -log(λ)/β\n",
    "# S = -β*(f - energy2)\n",
    "\n",
    "# f′ = -log(λ′)/β′\n",
    "# Salt = β^2*(f′-f)/(β′-β)"
   ]
  },
  {
   "cell_type": "code",
   "execution_count": 23,
   "metadata": {},
   "outputs": [
    {
     "name": "stdout",
     "output_type": "stream",
     "text": [
      "log(λ ^ 2) = 1.8019863504979732\n",
      "log(norm(Z2)) = -0.6941403654066134\n"
     ]
    },
    {
     "data": {
      "text/plain": [
       "-0.6941403654066134"
      ]
     },
     "execution_count": 23,
     "metadata": {},
     "output_type": "execute_result"
    }
   ],
   "source": [
    "@show log(λ^2)"
   ]
  },
  {
   "cell_type": "code",
   "execution_count": null,
   "metadata": {},
   "outputs": [],
   "source": []
  }
 ],
 "metadata": {
  "kernelspec": {
   "display_name": "Julia 1.5.1",
   "language": "julia",
   "name": "julia-1.5"
  },
  "language_info": {
   "file_extension": ".jl",
   "mimetype": "application/julia",
   "name": "julia",
   "version": "1.5.1"
  },
  "toc": {
   "base_numbering": 1,
   "nav_menu": {},
   "number_sections": true,
   "sideBar": true,
   "skip_h1_title": false,
   "title_cell": "Table of Contents",
   "title_sidebar": "Contents",
   "toc_cell": false,
   "toc_position": {},
   "toc_section_display": true,
   "toc_window_display": false
  }
 },
 "nbformat": 4,
 "nbformat_minor": 4
}
