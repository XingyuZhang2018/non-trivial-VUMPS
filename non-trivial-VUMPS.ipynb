{
 "cells": [
  {
   "cell_type": "markdown",
   "metadata": {
    "toc": true
   },
   "source": [
    "<h1>Table of Contents<span class=\"tocSkip\"></span></h1>\n",
    "<div class=\"toc\"><ul class=\"toc-item\"><li><span><a href=\"#J1-J2棋盘格模型\" data-toc-modified-id=\"J1-J2棋盘格模型-1\"><span class=\"toc-item-num\">1&nbsp;&nbsp;</span>J1-J2棋盘格模型</a></span></li><li><span><a href=\"#格点MPO\" data-toc-modified-id=\"格点MPO-2\"><span class=\"toc-item-num\">2&nbsp;&nbsp;</span>格点MPO</a></span></li><li><span><a href=\"#MPS正则表示\" data-toc-modified-id=\"MPS正则表示-3\"><span class=\"toc-item-num\">3&nbsp;&nbsp;</span>MPS正则表示</a></span><ul class=\"toc-item\"><li><span><a href=\"#单格点\" data-toc-modified-id=\"单格点-3.1\"><span class=\"toc-item-num\">3.1&nbsp;&nbsp;</span>单格点</a></span></li><li><span><a href=\"#J1-J2\" data-toc-modified-id=\"J1-J2-3.2\"><span class=\"toc-item-num\">3.2&nbsp;&nbsp;</span>J1-J2</a></span></li></ul></li><li><span><a href=\"#确定边界\" data-toc-modified-id=\"确定边界-4\"><span class=\"toc-item-num\">4&nbsp;&nbsp;</span>确定边界</a></span></li><li><span><a href=\"#能量期望值\" data-toc-modified-id=\"能量期望值-5\"><span class=\"toc-item-num\">5&nbsp;&nbsp;</span>能量期望值</a></span></li><li><span><a href=\"#VUMPS\" data-toc-modified-id=\"VUMPS-6\"><span class=\"toc-item-num\">6&nbsp;&nbsp;</span>VUMPS</a></span><ul class=\"toc-item\"><li><span><a href=\"#单格点\" data-toc-modified-id=\"单格点-6.1\"><span class=\"toc-item-num\">6.1&nbsp;&nbsp;</span>单格点</a></span></li><li><span><a href=\"#J1-J2\" data-toc-modified-id=\"J1-J2-6.2\"><span class=\"toc-item-num\">6.2&nbsp;&nbsp;</span>J1-J2</a></span></li></ul></li><li><span><a href=\"#程序检验\" data-toc-modified-id=\"程序检验-7\"><span class=\"toc-item-num\">7&nbsp;&nbsp;</span>程序检验</a></span><ul class=\"toc-item\"><li><span><a href=\"#J1-J2-MC\" data-toc-modified-id=\"J1-J2-MC-7.1\"><span class=\"toc-item-num\">7.1&nbsp;&nbsp;</span>J1-J2 MC</a></span></li><li><span><a href=\"#bond强度比例-r\" data-toc-modified-id=\"bond强度比例-r-7.2\"><span class=\"toc-item-num\">7.2&nbsp;&nbsp;</span>bond强度比例 r</a></span></li><li><span><a href=\"#温度-β\" data-toc-modified-id=\"温度-β-7.3\"><span class=\"toc-item-num\">7.3&nbsp;&nbsp;</span>温度 β</a></span></li></ul></li></ul></div>"
   ]
  },
  {
   "cell_type": "markdown",
   "metadata": {
    "heading_collapsed": true,
    "slideshow": {
     "slide_type": "-"
    }
   },
   "source": [
    "## J1-J2棋盘格模型\n",
    "横向纵向连接耦合强度为$J_1,J_2$交替排布，形成红色正方形和黑色正方形棋盘格\n",
    "<img src=\"figure/29.png\" width=\"40%\">"
   ]
  },
  {
   "cell_type": "markdown",
   "metadata": {},
   "source": [
    "## 格点MPO\n",
    "权重张量为$M$\n",
    "<img src=\"figure/30.png\" width=\"25%\">\n",
    "红色连接上张量为\n",
    "$\\exp(-J_2 h_{ij})$, $J_2 = r J_1$\n",
    "\n",
    "要收缩的目标张量Z2为\n",
    "<img src=\"figure/31.png\" width=\"25%\">\n",
    "\n",
    "能量权重张量为$ME1,ME2$\n",
    "<img src=\"figure/32.png\" width=\"25%\">"
   ]
  },
  {
   "cell_type": "code",
   "execution_count": 71,
   "metadata": {
    "code_folding": []
   },
   "outputs": [],
   "source": [
    "# call library\n",
    "using LinearAlgebra, TensorOperations, KrylovKit, Random, Statistics, PyPlot, ProgressMeter, Test"
   ]
  },
  {
   "cell_type": "code",
   "execution_count": 74,
   "metadata": {
    "code_folding": []
   },
   "outputs": [
    {
     "data": {
      "text/plain": [
       "classicalisingmpo (generic function with 1 method)"
      ]
     },
     "execution_count": 74,
     "metadata": {},
     "output_type": "execute_result"
    }
   ],
   "source": [
    "# define M,ME1,ME2\n",
    "function statmechmpo(β, h, D; r = 2.0)\n",
    "    I = zeros(D,D,D,D)\n",
    "    for i = 1:D\n",
    "        I[i,i,i,i] = 1\n",
    "    end\n",
    " \n",
    "    X1 = zeros(D,D)\n",
    "    for j = 1:D, i = 1:D\n",
    "        X1[i,j] = exp(-β*h(i,j))\n",
    "    end\n",
    "\n",
    "    X2 = zeros(D,D)\n",
    "    for j = 1:D, i = 1:D\n",
    "        X2[i,j] = exp(-β*r*h(i,j))\n",
    "    end\n",
    "\n",
    "    X1sq = sqrt(X1)\n",
    "    X2sq = sqrt(X2)\n",
    "#     @show X1 X2 X1sq X2sq\n",
    "    M = Array{Array,2}(undef, 2, 2)\n",
    "    @tensor MT[a,b,c,d] := I[a',b',c',d']*X1sq[a',a]*X2sq[b',b]*X2sq[c',c]*X1sq[d',d]\n",
    "    M[1,1] = MT\n",
    "    M[1,2] = permutedims(MT,[3,2,1,4])\n",
    "    M[2,1] = permutedims(MT,[1,4,3,2])\n",
    "    M[2,2] = permutedims(MT,[3,4,1,2])\n",
    "\n",
    "    # For computing energy: M2 is a tensor across 2 nearest neighbor sites in the lattice, whose\n",
    "    # expectation value in the converged fixed point of the transfer matrix represents the energy\n",
    "    Y1 = zeros(D,D)\n",
    "    for j = 1:D, i = 1:D\n",
    "        Y1[i,j] = h(i,j)*exp(-β*h(i,j))\n",
    "    end\n",
    "    Y2 = zeros(D,D)\n",
    "    for j = 1:D, i = 1:D\n",
    "        Y2[i,j] = r*h(i,j)*exp(-β*r*h(i,j))\n",
    "    end\n",
    "    \n",
    "    ME = Array{Array,1}(undef, 2)\n",
    "    @tensor ME[1][a,b1,b2,c,d2,d1] := I[a',b1',c1,d1']*X2sq[a,a']*X2sq[b1,b1']*X1sq[d1',d1]* Y1[c1,c2]*\n",
    "                                    I[c2,b2',c',d2']*X2sq[b2,b2']*X2sq[c',c]*X1sq[d2',d2]\n",
    "    @tensor ME[2][d1,d2,s2,d3,d4,s1] := I[d1',c1,d4',s1']*X1sq[d1,d1']*X2sq[d4',d4]*X1sq[s1',s1]* Y2[c1,c2]*\n",
    "                                    I[d2',s2',d3',c2]*X1sq[d2,d2']*X1sq[s2',s2]*X2sq[d3',d3]\n",
    "\n",
    "    λM = norm(M)\n",
    "    λME = norm(ME)\n",
    "    return M/λM, ME/λME,λM,λME\n",
    "end\n",
    "\n",
    "classicalisingmpo(β; J = 1.0, h = 0.,r = 1.0) = statmechmpo(β, (s1,s2)->-J*(-1)^(s1!=s2) - h/2*(s1==1 + s2==1),\n",
    "                                                                                            2;r)"
   ]
  },
  {
   "cell_type": "code",
   "execution_count": 75,
   "metadata": {
    "code_folding": [],
    "scrolled": true
   },
   "outputs": [
    {
     "name": "stdout",
     "output_type": "stream",
     "text": [
      "\u001b[37m\u001b[1mTest Summary: | \u001b[22m\u001b[39m\u001b[32m\u001b[1mPass  \u001b[22m\u001b[39m\u001b[36m\u001b[1mTotal\u001b[22m\u001b[39m\n",
      "M ME          | \u001b[32m   2  \u001b[39m\u001b[36m    2\u001b[39m\n"
     ]
    },
    {
     "data": {
      "text/plain": [
       "Test.DefaultTestSet(\"M ME\", Any[], 2, false)"
      ]
     },
     "execution_count": 75,
     "metadata": {},
     "output_type": "execute_result"
    }
   ],
   "source": [
    "#test\n",
    "@testset \"M ME\" begin\n",
    "    βc = log(1+sqrt(2))/2\n",
    "    β = 0.1\n",
    "    M, ME,λM,λME= classicalisingmpo(β; r = 1.0)\n",
    "    @test M[1,1] ≈ M[1,2] ≈ M[2,1] ≈ M[2,2]\n",
    "    @test ME[1] != ME[2]\n",
    "end"
   ]
  },
  {
   "cell_type": "markdown",
   "metadata": {},
   "source": [
    "## MPS正则表示\n",
    "### 单格点\n",
    "对于Uniform MPS，在归一化时，边界收缩为\n",
    "<img src=\"figure/4.png\" width=\"30%\">\n",
    "从而引入左右正则张量$AL$和$AR$：\n",
    "<img src=\"figure/5.png\" width=\"30%\">\n",
    "使得边界收缩掉\n",
    "<img src=\"figure/7.png\" width=\"30%\">\n",
    "具体做法为在$A$张量间，左边插入$L^{-1}L$，右边边插入$L^{-1}L$，\n",
    "<img src=\"figure/8.png\" width=\"80%\">\n",
    "然后根据周期不变性得到红色方框中的相等的变换关系，并定义$C=LR$\n",
    "得到\n",
    "$$L\\cdot A\\cdot R=AC=AL\\cdot C=C \\cdot AR$$"
   ]
  },
  {
   "cell_type": "markdown",
   "metadata": {},
   "source": [
    "### J1-J2\n",
    "对于A1-A2 MPS，在归一化时，边界收缩为\n",
    "<img src=\"figure/9.png\" width=\"40%\">\n",
    "同样引入左正则表示\n",
    "<img src=\"figure/10.png\" width=\"40%\">\n",
    "将Uniform形式变换为正则表示，左边插入$L1^{-1}L1L2^{-1}L2$，右边插入$R1R1^{-1}R2R2^{-1}$\n",
    "<img src=\"figure/11.png\" width=\"100%\">\n",
    "不同于Uniform形式，$AL1$和$AL2$间多了$L1L2^{-1}$，$AL1$和$AL2$间多了$R1^{-1}R2$，为了收缩能够继续，必须要求\n",
    "<img src=\"figure/12.png\" width=\"50%\">\n",
    "再要求为单位矩阵，从而看出虽然不要求中间插入$L1L2^{-1}$和$R1^{-1}R2$为单位矩阵，但是要求$(L2L1^{-1})^{\\dagger}L2L1^{-1}$=1，即$L2L1^{-1}$为幺正矩阵\n",
    "\n",
    "定义$C1=L1R2$和$C2=L2R1$，可以推得\n",
    "$$AL2\\cdot C2 = C1 \\cdot AR2$$\n",
    "$$AL1\\cdot C1 = C2 \\cdot AR1$$\n",
    "要求为\n",
    "$$A2\\cdot R2 \\cdot R1^{-1} = L1^{-1}\\cdot L2 \\cdot A2$$\n",
    "$$A1\\cdot R1 \\cdot R2^{-1} = L2^{-1}\\cdot L1 \\cdot A1$$"
   ]
  },
  {
   "cell_type": "code",
   "execution_count": 69,
   "metadata": {
    "code_folding": [
     0
    ]
   },
   "outputs": [
    {
     "data": {
      "text/plain": [
       "rightorth"
      ]
     },
     "execution_count": 69,
     "metadata": {},
     "output_type": "execute_result"
    }
   ],
   "source": [
    "# function to get AL and AR\n",
    "safesign(x::Number) = iszero(x) ? one(x) : sign(x)\n",
    "\n",
    "\"\"\"\n",
    "    qrpos(A)\n",
    "\n",
    "Returns a QR decomposition, i.e. an isometric `Q` and upper triangular `R` matrix, where `R`\n",
    "is guaranteed to have positive diagonal elements.\n",
    "\"\"\"\n",
    "qrpos(A) = qrpos!(copy(A))\n",
    "function qrpos!(A)\n",
    "    F = qr!(A)\n",
    "    Q = Matrix(F.Q)\n",
    "    R = F.R\n",
    "    phases = safesign.(diag(R))\n",
    "    rmul!(Q, Diagonal(phases))\n",
    "    lmul!(Diagonal(conj!(phases)), R)\n",
    "    return Q, R\n",
    "end\n",
    "\n",
    "\"\"\"\n",
    "    lqpos(A)\n",
    "\n",
    "Returns a LQ decomposition, i.e. a lower triangular `L` and isometric `Q` matrix, where `L`\n",
    "is guaranteed to have positive diagonal elements.\n",
    "\"\"\"\n",
    "lqpos(A) = lqpos!(copy(A))\n",
    "function lqpos!(A)\n",
    "    F = qr!(Matrix(A'))\n",
    "    Q = Matrix(Matrix(F.Q)')\n",
    "    L = Matrix(F.R')\n",
    "    phases = safesign.(diag(L))\n",
    "    lmul!(Diagonal(phases), Q)\n",
    "    rmul!(L, Diagonal(conj!(phases)))\n",
    "    return L, Q\n",
    "end\n",
    "\n",
    "function cellones(Ni,Nj,D)\n",
    "    Cell = Array{Array,2}(undef, Ni, Nj)\n",
    "    for i = 1:Ni,j = 1:Nj\n",
    "        Cell[i,j] = Matrix{Float64}(I, D, D)\n",
    "    end\n",
    "    return Cell\n",
    "end\n",
    "\n",
    "function ρmap(ρ,Ai,J)\n",
    "    Nj = size(Ai,1)\n",
    "    X = Array{Array,1}(undef, Nj+1)\n",
    "    X[1] = ρ\n",
    "    for j = 1:Nj\n",
    "        jr = J+j-1 - (J+j-1 > Nj)*Nj\n",
    "        @tensor X[j+1][a,b] := X[j][a',b']*Ai[jr][b',s,b]*\n",
    "            conj(Ai[jr][a',s,a])\n",
    "    end\n",
    "    return X[Nj+1]\n",
    "end\n",
    "        \n",
    "\"\"\"\n",
    "    getL(ρ; kwargs...)\n",
    "    ┌ A1─A2─    ┌       L ─\n",
    "    ρ │  │    = ρ   =  │\n",
    "    ┕ A1─A2─    ┕       L'─\n",
    "ρ=L'*L, return L, where `L`is guaranteed to have positive diagonal elements.\n",
    "L = cholesky!(ρ).U\n",
    "If ρ is not exactly positive definite, cholesky will fail\n",
    "\"\"\"\n",
    "function getL!(A,L; kwargs...)\n",
    "    Ni,Nj = size(A)\n",
    "#     L = Array{Array,2}(undef, Ni, Nj)\n",
    "    D = size(A[1,1],1)\n",
    "    for i = 1:Ni,j = 1:Nj\n",
    "        _,ρs,_ = eigsolve(ρ->ρmap(ρ,A[i,:],j), L[i,j]'*L[i,j], 1, :LM; ishermitian = false, maxiter = 1, kwargs...)\n",
    "        ρ = ρs[1] + ρs[1]'\n",
    "        ρ ./= tr(ρ)\n",
    "        F = svd!(ρ)\n",
    "        Lo = lmul!(Diagonal(sqrt.(F.S)), F.Vt)\n",
    "        _, L[i,j] = qrpos!(Lo)\n",
    "    end\n",
    "    return L\n",
    "end\n",
    "\n",
    "\"\"\"\n",
    "    getAL(A)\n",
    "\n",
    "Given an MPS tensor `A` and `L` ，return a left-canonical MPS tensor `AL`, a gauge transform `R` and\n",
    "a scalar factor `λ` such that ``λ AR R = L A``\n",
    "\"\"\"\n",
    "function getAL(A,L)\n",
    "    Ni,Nj = size(A)\n",
    "    AL = Array{Array,2}(undef, Ni, Nj)\n",
    "    Le = Array{Array,2}(undef, Ni, Nj)\n",
    "    λ = zeros(Ni, Nj)\n",
    "    for i = 1:Ni,j = 1:Nj\n",
    "        D, d, = size(A[1,1])\n",
    "        Q, R = qrpos!(reshape(L[i,j]*reshape(A[i,j], D, d*D), D*d, D))\n",
    "        AL[i,j] = reshape(Q, D, d, D)\n",
    "        λ[i,j] = norm(R)\n",
    "        Le[i,j] = rmul!(R, 1/λ[i,j])\n",
    "    end\n",
    "    return AL, Le,λ\n",
    "end\n",
    "\n",
    "function Lmap(L, A, AL)\n",
    "    @tensor X[a,b] := L[a',b']*A[b',s,b]*conj(AL[a',s,a])\n",
    "end\n",
    "\n",
    "function getLsped(Le, A, AL; kwargs...)\n",
    "    Ni,Nj = size(A)\n",
    "    L = Array{Array,2}(undef, Ni, Nj)\n",
    "    for i = 1:Ni,j = 1:Nj\n",
    "        λs, Ls, _ = eigsolve(X->Lmap(X, A[i,j], AL[i,j]), Le[i,j], 1, :LM; ishermitian = false, kwargs...)\n",
    "        _, L[i,j] = qrpos!(Ls[1])\n",
    "    end\n",
    "    return L\n",
    "end\n",
    "\n",
    "\"\"\"\n",
    "    leftorth(A, [C]; kwargs...)\n",
    "\n",
    "Given an MPS tensor `A`, return a left-canonical MPS tensor `AL`, a gauge transform `C` and\n",
    "a scalar factor `λ` such that ``λ AL L = L A``, where an initial guess for `C` can be\n",
    "provided.\n",
    "\"\"\"\n",
    "function leftorth(A,L=cellones(size(A,1),size(A,2),size(A[1,1],1)); tol = 1e-12, maxiter = 100, kwargs...)\n",
    "    L = getL!(A,L; kwargs...)\n",
    "    AL,Le,λ= getAL(A,L;kwargs...)\n",
    "    numiter = 1\n",
    "    while norm(L.-Le) > tol && numiter < maxiter\n",
    "        L = getLsped(Le, A, AL; kwargs...)\n",
    "        AL,Le,λ= getAL(A, L; kwargs...)\n",
    "        numiter += 1\n",
    "    end\n",
    "    L = Le\n",
    "    return AL, L,λ\n",
    "end\n",
    "\n",
    "\"\"\"\n",
    "    rightorth(A, [C]; kwargs...)\n",
    "\n",
    "Given an MPS tensor `A`, return a gauge transform C, a right-canonical MPS tensor `AR`, and\n",
    "a scalar factor `λ` such that ``λ C AR^s = A^s C``, where an initial guess for `C` can be\n",
    "provided.\n",
    "\"\"\"\n",
    "function rightorth(A,L=cellones(size(A,1),size(A,2),size(A[1,1],1)); tol = 1e-12, maxiter = 100, kwargs...)\n",
    "    Ni,Nj = size(A)\n",
    "    Ar = Array{Array,2}(undef, Ni, Nj)\n",
    "    Lr = Array{Array,2}(undef, Ni, Nj)\n",
    "    for i = 1:Ni,j = 1:Nj\n",
    "        Ar[i,j] = permutedims(A[i,j],(3,2,1))\n",
    "        Lr[i,j] = permutedims(L[i,j],(2,1))\n",
    "    end\n",
    "    AL, L,λ = leftorth(Ar,Lr; tol = tol, kwargs...)\n",
    "    R = Array{Array,2}(undef, Ni, Nj)\n",
    "    AR = Array{Array,2}(undef, Ni, Nj)\n",
    "    for i = 1:Ni,j = 1:Nj\n",
    "        R[i,j] = permutedims(L[i,j],(2,1))\n",
    "        AR[i,j] = permutedims(AL[i,j],(3,2,1))\n",
    "    end\n",
    "    return R, AR,λ\n",
    "end\n"
   ]
  },
  {
   "cell_type": "code",
   "execution_count": 135,
   "metadata": {
    "code_folding": []
   },
   "outputs": [
    {
     "name": "stdout",
     "output_type": "stream",
     "text": [
      "\u001b[37m\u001b[1mTest Summary:    | \u001b[22m\u001b[39m\u001b[32m\u001b[1mPass  \u001b[22m\u001b[39m\u001b[36m\u001b[1mTotal\u001b[22m\u001b[39m\n",
      "orth  with (1 1) | \u001b[32m   4  \u001b[39m\u001b[36m    4\u001b[39m\n",
      "\u001b[37m\u001b[1mTest Summary:    | \u001b[22m\u001b[39m\u001b[32m\u001b[1mPass  \u001b[22m\u001b[39m\u001b[36m\u001b[1mTotal\u001b[22m\u001b[39m\n",
      "orth  with (1 2) | \u001b[32m   8  \u001b[39m\u001b[36m    8\u001b[39m\n",
      "\u001b[37m\u001b[1mTest Summary:    | \u001b[22m\u001b[39m\u001b[32m\u001b[1mPass  \u001b[22m\u001b[39m\u001b[36m\u001b[1mTotal\u001b[22m\u001b[39m\n",
      "orth  with (1 3) | \u001b[32m  12  \u001b[39m\u001b[36m   12\u001b[39m\n",
      "\u001b[37m\u001b[1mTest Summary:    | \u001b[22m\u001b[39m\u001b[32m\u001b[1mPass  \u001b[22m\u001b[39m\u001b[36m\u001b[1mTotal\u001b[22m\u001b[39m\n",
      "orth  with (2 1) | \u001b[32m   8  \u001b[39m\u001b[36m    8\u001b[39m\n",
      "\u001b[37m\u001b[1mTest Summary:    | \u001b[22m\u001b[39m\u001b[32m\u001b[1mPass  \u001b[22m\u001b[39m\u001b[36m\u001b[1mTotal\u001b[22m\u001b[39m\n",
      "orth  with (2 2) | \u001b[32m  16  \u001b[39m\u001b[36m   16\u001b[39m\n",
      "\u001b[37m\u001b[1mTest Summary:    | \u001b[22m\u001b[39m\u001b[32m\u001b[1mPass  \u001b[22m\u001b[39m\u001b[36m\u001b[1mTotal\u001b[22m\u001b[39m\n",
      "orth  with (2 3) | \u001b[32m  24  \u001b[39m\u001b[36m   24\u001b[39m\n",
      "\u001b[37m\u001b[1mTest Summary:    | \u001b[22m\u001b[39m\u001b[32m\u001b[1mPass  \u001b[22m\u001b[39m\u001b[36m\u001b[1mTotal\u001b[22m\u001b[39m\n",
      "orth  with (3 1) | \u001b[32m  12  \u001b[39m\u001b[36m   12\u001b[39m\n",
      "\u001b[37m\u001b[1mTest Summary:    | \u001b[22m\u001b[39m\u001b[32m\u001b[1mPass  \u001b[22m\u001b[39m\u001b[36m\u001b[1mTotal\u001b[22m\u001b[39m\n",
      "orth  with (3 2) | \u001b[32m  24  \u001b[39m\u001b[36m   24\u001b[39m\n",
      "\u001b[37m\u001b[1mTest Summary:    | \u001b[22m\u001b[39m\u001b[32m\u001b[1mPass  \u001b[22m\u001b[39m\u001b[36m\u001b[1mTotal\u001b[22m\u001b[39m\n",
      "orth  with (3 3) | \u001b[32m  36  \u001b[39m\u001b[36m   36\u001b[39m\n"
     ]
    },
    {
     "data": {
      "text/plain": [
       "9-element Array{Any,1}:\n",
       " Test.DefaultTestSet(\"orth  with (1 1)\", Any[], 4, false)\n",
       " Test.DefaultTestSet(\"orth  with (1 2)\", Any[], 8, false)\n",
       " Test.DefaultTestSet(\"orth  with (1 3)\", Any[], 12, false)\n",
       " Test.DefaultTestSet(\"orth  with (2 1)\", Any[], 8, false)\n",
       " Test.DefaultTestSet(\"orth  with (2 2)\", Any[], 16, false)\n",
       " Test.DefaultTestSet(\"orth  with (2 3)\", Any[], 24, false)\n",
       " Test.DefaultTestSet(\"orth  with (3 1)\", Any[], 12, false)\n",
       " Test.DefaultTestSet(\"orth  with (3 2)\", Any[], 24, false)\n",
       " Test.DefaultTestSet(\"orth  with (3 3)\", Any[], 36, false)"
      ]
     },
     "execution_count": 135,
     "metadata": {},
     "output_type": "execute_result"
    }
   ],
   "source": [
    "#orth test\n",
    "@testset \"orth  with ($Ni $Nj)\" for Ni in [1,2,3], Nj in [1,2,3]\n",
    "    D = 10\n",
    "    A = Array{Array,2}(undef, Ni, Nj)\n",
    "    for i = 1:Ni,j = 1:Nj\n",
    "        Random.seed!(1234+i+j)\n",
    "        A[i,j] = randn(D, 2, D) + im*randn(D, 2, D)\n",
    "    end\n",
    "    AL, L ,λL = leftorth(A)\n",
    "    R, AR,λR = rightorth(A,L)\n",
    "    for i = 1:Ni,j = 1:Nj\n",
    "        @tensor AL2[b, c] := AL[i,j][a,s,b]*conj(AL[i,j][a,s,c])\n",
    "        @test Array(AL2) ≈ I(D)\n",
    "        @tensor AR2[b, c] := AR[i,j][b,s,a]*conj(AR[i,j][c,s,a])\n",
    "        @test Array(AR2) ≈ I(D)\n",
    "        \n",
    "        @tensor ALL[a,s,c] := AL[i,j][a,s,b]*L[i,j][b,c]\n",
    "        @tensor LA[a,s,c] := L[i,j][a,b]*A[i,j][b,s,c]\n",
    "        @test LA ≈ ALL * λL[i,j]\n",
    "        \n",
    "        @tensor RAR[a,s,c] := R[i,j][a,b]*AR[i,j][b,s,c]\n",
    "        @tensor A_R[a,s,c] := A[i,j][a,s,b]*R[i,j][b,c]\n",
    "        @test A_R ≈ RAR * λR[i,j]\n",
    "#         L_2 = ρmap(L[i,j]' * L[i,j], A[i,:], j)\n",
    "#         @test std(L_2./(L[i,j]' * L[i,j])) ≈ 0 atol=1e-10\n",
    "    end\n",
    "end"
   ]
  },
  {
   "cell_type": "markdown",
   "metadata": {},
   "source": [
    "## 确定边界\n",
    "<img src=\"figure/13.png\" width=\"30%\"/><img src=\"figure/19.png\" width=\"30%\"/>"
   ]
  },
  {
   "cell_type": "code",
   "execution_count": 132,
   "metadata": {
    "code_folding": [
     0
    ]
   },
   "outputs": [
    {
     "data": {
      "text/plain": [
       "env4 (generic function with 3 methods)"
      ]
     },
     "execution_count": 132,
     "metadata": {},
     "output_type": "execute_result"
    }
   ],
   "source": [
    "# function to get FL1 ,FL2 and FR1,FR2\n",
    "function FLmap3(ALi,ALip, Mi, FL,J)\n",
    "    Nj = size(ALi,1)\n",
    "    X = Array{Array,1}(undef, Nj+1)\n",
    "    X[1] = FL\n",
    "    for j=1:Nj\n",
    "        jr = J+j-1 - (J+j-1 > Nj)*Nj\n",
    "        @tensor X[j+1][α,a,β] := X[j][α',a',β']*ALi[jr][β',s',β]*Mi[jr][a',s,a,s']*conj(ALip[jr][α',s,α])\n",
    "    end\n",
    "    return X[Nj+1]\n",
    "end\n",
    "\n",
    "function FRmap3(ARi,ARip, Mi, FR,J)\n",
    "    Nj = size(ARi,1)\n",
    "    X = Array{Array,1}(undef, Nj+1)\n",
    "    X[1] = FR\n",
    "    for j=1:Nj\n",
    "        jr = J+j-1 - (J+j-1 > Nj)*Nj\n",
    "        @tensor X[j+1][α,a,β] := ARi[jr][α,s',α']*X[j][α',a',β']*Mi[jr][a,s,a',s']*conj(ARip[jr][β,s,β'])\n",
    "    end\n",
    "    return X[Nj+1]\n",
    "end\n",
    "\n",
    "function FLmap4(ALi, ALip, Mi, Mip, FL, J)\n",
    "    Nj = size(ALi,1)\n",
    "    X = Array{Array,1}(undef, Nj+1)\n",
    "    X[1] = FL\n",
    "    for j=1:Nj\n",
    "        jr = J+j-1 - (J+j-1 > Nj)*Nj\n",
    "        @tensor X[j+1][α,a,b,β] := X[j][α',a',b',β']*ALi[jr][β',s',β]*Mip[jr][a',s,a,c]*Mi[jr][b',c,b,s']*conj(ALip[jr][α',s,α])\n",
    "    end\n",
    "    return X[Nj+1]\n",
    "end\n",
    "\n",
    "function FRmap4(ARi, ARip, Mi, Mip, FR, J)\n",
    "    Nj = size(ARi,1)\n",
    "    X = Array{Array,1}(undef, Nj+1)\n",
    "    X[1] = FR\n",
    "    for j=1:Nj\n",
    "        jr = J+j-1 - (J+j-1 > Nj)*Nj\n",
    "        @tensor X[j+1][α,a,b,β] := ARi[jr][α,s',α']*X[j][α',a',b',β']*Mi[jr][a,s,a',s']*Mip[jr][b,c,b',s]*conj(ARip[jr][β,c,β'])\n",
    "    end\n",
    "    return X[Nj+1]\n",
    "end\n",
    "\n",
    "function F3int(Ni,Nj,D,d)\n",
    "    F3 = Array{Array,2}(undef, Ni, Nj)\n",
    "    for i=1:Ni, j=1:Nj\n",
    "        F3[i,j] = randn(Float64, D, d, D)\n",
    "    end\n",
    "    return F3\n",
    "end\n",
    "\n",
    "function F4int(Ni,Nj,D,d)\n",
    "    F4 = Array{Array,2}(undef, Ni, Nj)\n",
    "    for i=1:Ni, j=1:Nj\n",
    "        F4[i,j] = randn(Float64, D, d, d, D)\n",
    "    end\n",
    "    return F4\n",
    "end\n",
    "    \n",
    "\"\"\"\n",
    "    leftenv(A, M, FL; kwargs)\n",
    "\n",
    "Compute the left environment tensor for MPS A and MPO M, by finding the left fixed point\n",
    "of A - M - conj(A) contracted along the physical dimension.\n",
    "\"\"\"\n",
    "function env3(AL,AR, M, FL = F3int(size(AL,1),size(AL,2),size(AL[1,1],1),size(M[1,1],1)),\n",
    "                    FR = F3int(size(AR,1),size(AR,2),size(AR[1,1],1),size(M[1,1],1)); kwargs...)\n",
    "    Ni,Nj = size(AL)\n",
    "    λFL = zeros(Ni,Nj) + im * zeros(Ni,Nj)\n",
    "    λFR = zeros(Ni,Nj) + im * zeros(Ni,Nj)\n",
    "    for i=1:Ni,j=1:Nj\n",
    "        ir = i + 1 - Ni * (i==Ni)\n",
    "        λL1s, FL1s, = eigsolve(X->FLmap3(AL[i,:], AL[ir,:], M[i,:], X,j), FL[i,j-1 + (j==1)], 1, :LM; ishermitian = false, kwargs...)\n",
    "        FL[i,j] = FL1s[1]\n",
    "        λFL[i,j] = λL1s[1]\n",
    "        λR1s, FR1s, = eigsolve(X->FRmap3(AR[i,:], AR[ir,:], M[i,:], X,j), FR[i,j-1 + (j==1)], 1, :LM; ishermitian = false, kwargs...)\n",
    "        FR[i,j] = FR1s[1]\n",
    "        λFR[i,j] = λR1s[1]\n",
    "    end\n",
    "    return FL,FR,λFL,λFR\n",
    "end\n",
    "\n",
    "function env4(AL,AR, M, FL = F4int(size(AL,1),size(AL,2),size(AL[1,1],1),size(M[1,1],1)),\n",
    "                    FR = F4int(size(AR,1),size(AR,2),size(AR[1,1],1),size(M[1,1],1)); kwargs...)\n",
    "    Ni,Nj = size(AL)\n",
    "    λFL = zeros(Ni,Nj) + im * zeros(Ni,Nj)\n",
    "    λFR = zeros(Ni,Nj) + im * zeros(Ni,Nj)\n",
    "    for i=1:Ni,j=1:Nj\n",
    "        ir = i + 1 - Ni * (i==Ni)\n",
    "        irr = i + 2 - Ni * (i+2>Ni) - (Ni==1)\n",
    "        λL1s, FL1s, = eigsolve(X->FLmap4(AL[i,:], AL[irr,:], M[i,:], M[ir,:], X, j), FL[i,j-1 + (j==1)], 1, :LM; ishermitian = false, kwargs...)\n",
    "        FL[i,j] = FL1s[1]\n",
    "        λFL[i,j] = λL1s[1]\n",
    "        λR1s, FR1s, = eigsolve(X->FRmap4(AR[i,:], AR[irr,:], M[i,:], M[ir,:], X, j), FR[i,j-1 + (j==1)], 1, :LM; ishermitian = false, kwargs...)\n",
    "        FR[i,j] = FR1s[1]\n",
    "        λFR[i,j] = λR1s[1]\n",
    "    end\n",
    "    return FL,FR,λFL,λFR\n",
    "end\n"
   ]
  },
  {
   "cell_type": "code",
   "execution_count": 133,
   "metadata": {
    "code_folding": [
     0
    ]
   },
   "outputs": [
    {
     "name": "stdout",
     "output_type": "stream",
     "text": [
      "\u001b[37m\u001b[1mTest Summary:   | \u001b[22m\u001b[39m\u001b[32m\u001b[1mPass  \u001b[22m\u001b[39m\u001b[36m\u001b[1mTotal\u001b[22m\u001b[39m\n",
      "ene  with (1 1) | \u001b[32m   4  \u001b[39m\u001b[36m    4\u001b[39m\n",
      "\u001b[37m\u001b[1mTest Summary:   | \u001b[22m\u001b[39m\u001b[32m\u001b[1mPass  \u001b[22m\u001b[39m\u001b[36m\u001b[1mTotal\u001b[22m\u001b[39m\n",
      "ene  with (1 2) | \u001b[32m   8  \u001b[39m\u001b[36m    8\u001b[39m\n",
      "\u001b[37m\u001b[1mTest Summary:   | \u001b[22m\u001b[39m\u001b[32m\u001b[1mPass  \u001b[22m\u001b[39m\u001b[36m\u001b[1mTotal\u001b[22m\u001b[39m\n",
      "ene  with (2 1) | \u001b[32m   8  \u001b[39m\u001b[36m    8\u001b[39m\n",
      "\u001b[37m\u001b[1mTest Summary:   | \u001b[22m\u001b[39m\u001b[32m\u001b[1mPass  \u001b[22m\u001b[39m\u001b[36m\u001b[1mTotal\u001b[22m\u001b[39m\n",
      "ene  with (2 2) | \u001b[32m  16  \u001b[39m\u001b[36m   16\u001b[39m\n"
     ]
    },
    {
     "data": {
      "text/plain": [
       "4-element Array{Any,1}:\n",
       " Test.DefaultTestSet(\"ene  with (1 1)\", Any[], 4, false)\n",
       " Test.DefaultTestSet(\"ene  with (1 2)\", Any[], 8, false)\n",
       " Test.DefaultTestSet(\"ene  with (2 1)\", Any[], 8, false)\n",
       " Test.DefaultTestSet(\"ene  with (2 2)\", Any[], 16, false)"
      ]
     },
     "execution_count": 133,
     "metadata": {},
     "output_type": "execute_result"
    }
   ],
   "source": [
    "#ene test\n",
    "@testset \"ene  with ($Ni $Nj)\" for Ni in [1,2], Nj in [1,2]\n",
    "    β = 0.1\n",
    "    M, ME,λM,λME= classicalisingmpo(β; r = 1.0)\n",
    "    D = 10\n",
    "    A = Array{Array,2}(undef, Ni, Nj)\n",
    "    for i = 1:Ni,j = 1:Nj\n",
    "        Random.seed!(1234+i+j)\n",
    "        A[i,j] = randn(D, 2, D) + im*randn(D, 2, D)\n",
    "    end\n",
    "    AL, L ,λL = leftorth(A)\n",
    "    R, AR,λR = rightorth(A,L)\n",
    "    FL3,FR3,λFL3,λFR3 = env3(AL,AR, M)\n",
    "    FL4,FR4,λFL4,λFR4 = env4(AL,AR, M)\n",
    "    for i = 1:Ni,j = 1:Nj\n",
    "        ir = i + 1 - Ni * (i==Ni)\n",
    "        irr = i + 2 - Ni * (i+2>Ni) - (Ni==1)\n",
    "        XL3 = FLmap3(AL[i,:], AL[ir,:], M[i,:], FL3[i,j],j)\n",
    "        @test XL3 ≈ FL3[i,j] * λFL3[i,j]\n",
    "        XR3 = FRmap3(AR[i,:], AR[ir,:], M[i,:], FR3[i,j],j)\n",
    "        @test XR3 ≈ FR3[i,j] * λFR3[i,j]\n",
    "        XL4 = FLmap4(AL[i,:], AL[irr,:], M[i,:],M[ir,:], FL4[i,j],j)\n",
    "        @test XL4 ≈ FL4[i,j] * λFL4[i,j]\n",
    "        XR4 = FRmap4(AR[i,:], AR[irr,:], M[i,:],M[ir,:], FR4[i,j],j)\n",
    "        @test XR4 ≈ FR4[i,j] * λFR4[i,j]\n",
    "    end\n",
    "end"
   ]
  },
  {
   "cell_type": "markdown",
   "metadata": {},
   "source": [
    "## 能量期望值\n",
    "<img src=\"figure/15.png\" width=\"70%\">\n",
    "<img src=\"figure/20.png\" width=\"70%\">"
   ]
  },
  {
   "cell_type": "code",
   "execution_count": 146,
   "metadata": {
    "code_folding": []
   },
   "outputs": [
    {
     "data": {
      "text/plain": [
       "energy (generic function with 1 method)"
      ]
     },
     "execution_count": 146,
     "metadata": {},
     "output_type": "execute_result"
    }
   ],
   "source": [
    "# function to get energy\n",
    "function energy(M, ME, AL, C, AR, FL3,FL4, FR3, FR4,λM,λME)\n",
    "    @tensor AAC1[α,s1,s2,β] := AL[1,2][α,s1,α']*C[1,2][α',β']*AR[1,1][β',s2,β]\n",
    "    @tensor AAC2[α,s1,s2,β] := AL[2,2][α,s1,α']*C[2,2][α',β']*AR[2,1][β',s2,β]\n",
    "    @tensor AC1[β,s,β'] := AL[1,1][β,s,d1]*C[1,1][d1,β']\n",
    "    @tensor Z21 = scalar(FL3[1,2][α,c,β]*AAC1[β,s1,s2,β']*M[1,2][c,t1,d,s1]*\n",
    "        M[1,1][d,t2,c',s2]*FR3[1,1][β',c',α']*conj(AAC2[α,t1,t2,α']))\n",
    "    @tensor Z22 = scalar(FL4[1,1][α,a,b,β]*AC1[β,s,β']*M[2,1][b,c,b',s]*\n",
    "        M[1,1][a,s',a',c]*FR4[1,1][β',b',a',α']*conj(AC1[α,s',α']))\n",
    "\n",
    "#     @show Z21 Z22\n",
    "    @tensor e1 = scalar(FL3[1,2][α,c,β]*AAC1[β,s1,s2,β']*ME[1][c,t1,t2,c',s2,s1]*\n",
    "        FR3[1,1][β',c',α']*conj(AAC1[α,t1,t2,α']) / Z21)\n",
    "    @tensor e2 = scalar(FL4[1,1][α,a,b,β]*AC1[β,s,β']*ME[2][b,a,s',a',b',s]*\n",
    "        FR4[1,1][β',b',a',α']*conj(AC1[α,s',α']) / Z22)\n",
    "#     @show e1 e2 e3 e4\n",
    "    return e1/λM^2*λME,e2/λM^2*λME\n",
    "#     return e1,e2,e3,e4\n",
    "end"
   ]
  },
  {
   "cell_type": "code",
   "execution_count": 149,
   "metadata": {
    "code_folding": [
     0
    ],
    "scrolled": true
   },
   "outputs": [
    {
     "name": "stdout",
     "output_type": "stream",
     "text": [
      "\u001b[37menergy test: \u001b[39m\u001b[91m\u001b[1mTest Failed\u001b[22m\u001b[39m at \u001b[39m\u001b[1mIn[149]:23\u001b[22m\n",
      "  Expression: e1 ≈ e2\n",
      "   Evaluated: -0.0831613679357388 - 2.3970384757737744e-14im ≈ -0.10178460260674271 - 5.790004745499612e-14im\n",
      "Stacktrace:\n",
      " [1] \u001b[1mmacro expansion\u001b[22m at \u001b[1m.\\In[149]:23\u001b[22m [inlined]\n",
      " [2] \u001b[1mmacro expansion\u001b[22m at \u001b[1mD:\\buildbot\\worker\\package_win64\\build\\usr\\share\\julia\\stdlib\\v1.5\\Test\\src\\Test.jl:1115\u001b[22m [inlined]\n",
      " [3] top-level scope at \u001b[1m.\\In[149]:3\u001b[22m\n",
      "\u001b[37m\u001b[1mTest Summary: | \u001b[22m\u001b[39m\u001b[91m\u001b[1mFail  \u001b[22m\u001b[39m\u001b[36m\u001b[1mTotal\u001b[22m\u001b[39m\n",
      "energy test   | \u001b[91m   1  \u001b[39m\u001b[36m    1\u001b[39m\n"
     ]
    },
    {
     "ename": "LoadError",
     "evalue": "Some tests did not pass: 0 passed, 1 failed, 0 errored, 0 broken.",
     "output_type": "error",
     "traceback": [
      "Some tests did not pass: 0 passed, 1 failed, 0 errored, 0 broken.",
      "",
      "Stacktrace:",
      " [1] finish(::Test.DefaultTestSet) at D:\\buildbot\\worker\\package_win64\\build\\usr\\share\\julia\\stdlib\\v1.5\\Test\\src\\Test.jl:879",
      " [2] macro expansion at D:\\buildbot\\worker\\package_win64\\build\\usr\\share\\julia\\stdlib\\v1.5\\Test\\src\\Test.jl:1125 [inlined]",
      " [3] top-level scope at .\\In[149]:3",
      " [4] include_string(::Function, ::Module, ::String, ::String) at .\\loading.jl:1091"
     ]
    }
   ],
   "source": [
    "#energy test \n",
    "@testset \"energy test\" begin\n",
    "    β = 0.1\n",
    "    M, ME,λM,λME= classicalisingmpo(β; r = 1.0)\n",
    "    Ni = 2\n",
    "    Nj = 2\n",
    "    D = 50\n",
    "    A = Array{Array,2}(undef, Ni, Nj)\n",
    "    for i = 1:Ni,j = 1:Nj\n",
    "        Random.seed!(1234)\n",
    "        A[i,j] = randn(D, 2, D) + im*randn(D, 2, D)\n",
    "    end\n",
    "    AL, L ,λL = leftorth(A)\n",
    "    R, AR,λR = rightorth(A,L)\n",
    "    FL3,FR3,λFL3,λFR3 = env3(AL,AR, M)\n",
    "    FL4,FR4,λFL4,λFR4 = env4(AL,AR, M)\n",
    "    C = Array{Array,2}(undef, Ni,Nj)\n",
    "    for i = 1:Ni,j = 1:Nj\n",
    "        jr = j + 1 - Nj * (j+1>Nj)\n",
    "        C[i,j] = L[i,j] * R[i,jr]\n",
    "    end\n",
    "    e1,e2 = energy(M, ME, AL, C, AR, FL3,FL4, FR3, FR4,λM,λME)\n",
    "    @test e1 ≈ e2\n",
    "end"
   ]
  },
  {
   "cell_type": "markdown",
   "metadata": {},
   "source": [
    "## VUMPS\n",
    "### 单格点\n",
    "单格点VUMPS变分极值条件为\n",
    "<img src=\"figure/14.png\" width=\"30%\">\n",
    "### J1-J2\n",
    "定义$C1 = L1 \\cdot R2$，$AC1 = AL1\\cdot C1$，J1-J2 VUMPS变分极值条件为\n",
    "<img src=\"figure/16.png\" width=\"30%\">"
   ]
  },
  {
   "cell_type": "code",
   "execution_count": 39,
   "metadata": {
    "code_folding": [
     0
    ]
   },
   "outputs": [
    {
     "data": {
      "text/plain": [
       "vumps (generic function with 1 method)"
      ]
     },
     "execution_count": 39,
     "metadata": {},
     "output_type": "execute_result"
    }
   ],
   "source": [
    "# vumps\n",
    "function applyH1(AC, FL, FR, M)\n",
    "    @tensor HAC[α,s,β] := FL[α,a,α']*AC[α',s',β']*M[a,s,b,s']*FR[β',b,β]\n",
    "end\n",
    "\n",
    "function applyH0(C, FL, FR)\n",
    "    @tensor HC[α,β] := FL[α,a,α']*C[α',β']*FR[β',a,β]\n",
    "end\n",
    "\n",
    "\n",
    "\"\"\"\n",
    "    function vumpsstep(AL, C, AR, FL, FR; kwargs...)\n",
    "\n",
    "Perform one step of the VUMPS algorithm\n",
    "\"\"\"\n",
    "function vumpsstep(AL,C,FL1,FL2,FR,M;kwargs...)\n",
    "    D,d, = size(AL)\n",
    "    @tensor AC[a,s,b] := AL[a,s,c] * C[c, b]\n",
    "    μACs, ACs, = eigsolve(x->applyH1(x, FL1, FR, M), AC, 1, :LM; ishermitian = false, maxiter = 10, kwargs...)\n",
    "    μCs, Cs, = eigsolve(x->applyH0(x, FL2, FR), C, 1; ishermitian = false, maxiter = 10, kwargs...)\n",
    "    λ = μACs[1]/μCs[1]\n",
    "    AC = ACs[1]\n",
    "    C = Cs[1]\n",
    "    \n",
    "    QAC, RAC = qrpos(reshape(AC,(D*d, D)))\n",
    "    QC, RC = qrpos(C)\n",
    "    AL = reshape(QAC*QC', (D, d, D))\n",
    "    errL = norm(RAC-RC)\n",
    "    \n",
    "    return λ, AL, C, errL\n",
    "end\n",
    "\n",
    "function getAR(AC,C)\n",
    "    D,d, = size(AC)\n",
    "    LAC, QAC = lqpos(reshape(AC,(D, d*D)))\n",
    "    LC, QC = lqpos(C)\n",
    "    AR = reshape(QC'*QAC, (D, d, D))\n",
    "    errR = norm(LAC-LC)\n",
    "    return AR, errR\n",
    "end\n",
    "    \n",
    "function erro(AL,C,FL,FR,M)\n",
    "    @tensor AC[a,s,b] := AL[a,s,b']*C[b',b]\n",
    "    MAC = applyH1(AC, FL, FR, M)\n",
    "    @tensor MAC[a,s,b] -= AL[a,s,b']*(conj(AL[a',s',b'])*MAC[a',s',b])\n",
    "    err = norm(MAC)\n",
    "    return err\n",
    "end\n",
    "    \n",
    "function vumps(A1, A2, M1, M2;test = true, verbose = true, tol = 1e-6, maxiter = 100, kwargs...)\n",
    "    AL1, AL2, L1, L2, numiter = leftorth(A1, A2)\n",
    "    R1, R2, AR1, AR2, numiter = rightorth(AL1, AL2)\n",
    "\n",
    "    FL1, FL2,λL1,λL2 = leftenv(AL1, AL2, M1, M2; tol = tol/10, kwargs...)\n",
    "    FR1, FR2,λR1,λR2 = rightenv(AR1, AR2, M1, M2; tol = tol/10, kwargs...)\n",
    "    \n",
    "    if test == true\n",
    "        verbose && println(\"Starting point has λL1 = $λL1 ,λL2 =  $λL2\n",
    "                        λR1 = $λR1 ,λR2 =  $λR2\")\n",
    "    end\n",
    "    C1 = L1 * R2\n",
    "    C2 = L2 * R1\n",
    "\n",
    "    λ1, AL1, C1, errL1 = vumpsstep(AL1,C1,FL1,FL2,FR1,M1;tol = tol/10)\n",
    "    λ2, AL2, C2, errL2 = vumpsstep(AL2,C2,FL2,FL1,FR2,M2;tol = tol/10)\n",
    "    @tensor AC1[a,s,b] := AL1[a,s,c] * C1[c, b]\n",
    "    @tensor AC2[a,s,b] := AL2[a,s,c] * C2[c, b]\n",
    "    AR1, errR1 = getAR(AC1,C2)\n",
    "    AR2, errR2 = getAR(AC2,C1)\n",
    "    FL1, FL2,λL1,λL2 = leftenv(AL1, AL2, M1, M2; tol = tol/10, kwargs...)\n",
    "    FR1, FR2,λR1,λR2 = rightenv(AR1, AR2, M1, M2; tol = tol/10, kwargs...)\n",
    "#     FR1 ./= @tensor scalar(FL2[c,b,a]*C1[a,a']*conj(C1[c,c'])*FR1[a',b,c']) \n",
    "#     FR2 ./= @tensor scalar(FL1[c,b,a]*C2[a,a']*conj(C2[c,c'])*FR2[a',b,c']) # normalize FL and FR: not really necessary\n",
    "\n",
    "    # Convergence measure: norm of the projection of the residual onto the tangent space\n",
    "    err1 = erro(AL1,C1,FL1,FR1,M1)\n",
    "    err2 = erro(AL2,C2,FL2,FR2,M2)\n",
    "    i = 1\n",
    "    λ =  λ1 * λ2\n",
    "    if test == true\n",
    "        verbose && println(\"Step $i: \n",
    "                                    λ1 * λ2 = $λ,\n",
    "                                    λL1 = $λL1,\n",
    "                                    λL2 = $λL2, \n",
    "                                    err1 ≈ $err1, \n",
    "                                    err2 ≈ $err2\")\n",
    "    end\n",
    "    while (err1 > tol || err2 > tol) && i < maxiter\n",
    "        λ1, AL1, C1, errL1 = vumpsstep(AL1,C1,FL1,FL2,FR1,M1;tol = tol/10)\n",
    "        λ2, AL2, C2, errL2 = vumpsstep(AL2,C2,FL2,FL1,FR2,M2;tol = tol/10)\n",
    "        @tensor AC1[a,s,b] := AL1[a,s,c] * C1[c, b]\n",
    "        @tensor AC2[a,s,b] := AL2[a,s,c] * C2[c, b]\n",
    "        AR1, errR1 = getAR(AC1,C2)\n",
    "        AR2, errR2 = getAR(AC2,C1)\n",
    "        FL1, FL2,λL1,λL2 = leftenv(AL1, AL2, M1, M2; tol = tol/10, kwargs...)\n",
    "        FR1, FR2,λR1,λR2 = rightenv(AR1, AR2, M1, M2; tol = tol/10, kwargs...)\n",
    "        FR1 ./= @tensor scalar(FL2[c,b,a]*C1[a,a']*conj(C1[c,c'])*FR1[a',b,c']) \n",
    "        FR2 ./= @tensor scalar(FL1[c,b,a]*C2[a,a']*conj(C2[c,c'])*FR2[a',b,c']) # normalize FL and FR: not really necessary\n",
    "        err1 = erro(AL1,C1,FL1,FR1,M1)\n",
    "        err2 = erro(AL2,C2,FL2,FR2,M2)\n",
    "        i += 1\n",
    "        λ =  λ1 * λ2\n",
    "        if test == true\n",
    "            verbose && println(\"Step $i: \n",
    "                                        λ1 * λ2 = $λ,\n",
    "                                        λL1 = $λL1,\n",
    "                                        λL2 = $λL2, \n",
    "                                        err1 ≈ $err1, \n",
    "                                        err2 ≈ $err2\")\n",
    "        end\n",
    "    end\n",
    "    FL3, FL4,λL3,λL4 = leftenv4(AL1, AL2, M1, M2)\n",
    "    FR3, FR4,λR3,λR4 = rightenv4(AR1, AR2, M1, M2)\n",
    "    return λ1, λ2, AL1, AL2, C1, C2, AR1, AR2, FL1, FL2, FL3, FL4, FR1, FR2, FR3, FR4\n",
    "end"
   ]
  },
  {
   "cell_type": "code",
   "execution_count": 55,
   "metadata": {
    "code_folding": []
   },
   "outputs": [
    {
     "name": "stdout",
     "output_type": "stream",
     "text": [
      "Starting point has λL1 = 0.2842140625620016 - 7.494005416219807e-16im ,λL2 =  0.28421406256200443 + 1.1934897514720433e-15im\n",
      "                        λR1 = 0.28421406256200515 + 1.1934897514720433e-15im ,λR2 =  0.28421406256200105 + 5.828670879282072e-16im\n",
      "Step 1: \n",
      "                                    λ1 * λ2 = 0.7875285815425366 + 1.0547118733938987e-15im,\n",
      "                                    λL1 = 0.7871076445182923 - 5.551115123125783e-17im,\n",
      "                                    λL2 = 0.7871076445182863 - 2.7755575615628914e-17im, \n",
      "                                    err1 ≈ 0.00827547914981898, \n",
      "                                    err2 ≈ 0.009260727437554213\n",
      "Step 2: \n",
      "                                        λ1 * λ2 = 0.7874099073806956 - 1.0547118733938987e-15im,\n",
      "                                        λL1 = 0.7874099076035438 + 1.1102230246251565e-16im,\n",
      "                                        λL2 = 0.7874099076035401 + 5.551115123125783e-17im, \n",
      "                                        err1 ≈ 7.2835453253176075e-6, \n",
      "                                        err2 ≈ 6.187003824048548e-6\n",
      "Step 3: \n",
      "                                        λ1 * λ2 = 0.7874099077086121 + 6.106226635438361e-16im,\n",
      "                                        λL1 = 0.7874099077086111 + 1.6653345369377348e-16im,\n",
      "                                        λL2 = 0.7874099077086113 - 5.551115123125783e-17im, \n",
      "                                        err1 ≈ 1.8808940229099856e-12, \n",
      "                                        err2 ≈ 1.8196624053363846e-12\n",
      "Step 4: \n",
      "                                        λ1 * λ2 = 0.7874099077086141 - 5.551115123125783e-17im,\n",
      "                                        λL1 = 0.7874099077086057 + 0.0im,\n",
      "                                        λL2 = 0.7874099077086064 + 7.216449660063518e-16im, \n",
      "                                        err1 ≈ 2.551387696339287e-15, \n",
      "                                        err2 ≈ 1.4385864925655656e-15\n",
      "eMPS = -50.255421510978316 + 3.7129993183875266e-17im\n"
     ]
    },
    {
     "data": {
      "text/plain": [
       "-50.255421510978316 + 3.7129993183875266e-17im"
      ]
     },
     "execution_count": 55,
     "metadata": {},
     "output_type": "execute_result"
    }
   ],
   "source": [
    "# test expectation\n",
    "λ1, λ2, AL1, AL2, C1, C2, AR1, AR2, FL1, FL2, FL3, FL4, FR1, FR2, FR3, FR4 = vumps(A1,A2,M1,M2; tol = 1e-12)\n",
    "\n",
    "eMPS = energy(M1, M2, ME1, ME2, ME3, ME4, AL1, AL2, C1, C2, AR1, AR2, FL1, FL2, FL3, FL4, FR1, FR2, FR3, FR4,λM1,λM2)\n",
    "@show eMPS"
   ]
  },
  {
   "cell_type": "markdown",
   "metadata": {},
   "source": [
    "## 程序检验\n",
    "### J1-J2 MC"
   ]
  },
  {
   "cell_type": "code",
   "execution_count": 56,
   "metadata": {
    "code_folding": []
   },
   "outputs": [
    {
     "data": {
      "text/plain": [
       "MutiMC (generic function with 1 method)"
      ]
     },
     "execution_count": 56,
     "metadata": {},
     "output_type": "execute_result"
    }
   ],
   "source": [
    "#J1-J2 \n",
    "function e_dif1( array, lattice, x, y, r)\n",
    "    top     = array[x,y - 1 + lattice * (y==1)];\n",
    "    bottom  = array[x, y + 1 - lattice * (y==lattice)];\n",
    "    left    = r * array[x - 1 + lattice * (x==1), y];\n",
    "    right   = array[x + 1 - lattice * (x==lattice), y];\n",
    "    return 2 * array[x, y] * (left+right+top+bottom)\n",
    "end\n",
    "\n",
    "function e_dif2( array, lattice, x, y, r)\n",
    "    top     = array[x,y - 1 + lattice * (y==1)];\n",
    "    bottom  = array[x, y + 1 - lattice * (y==lattice)];\n",
    "    left    = array[x - 1 + lattice * (x==1), y];\n",
    "    right   = r * array[x + 1 - lattice * (x==lattice), y];\n",
    "    return 2 * array[x, y] * (left+right+top+bottom)\n",
    "end\n",
    "\n",
    "function onestep!(spin_array, lattice, β, r)\n",
    "    for i = 1:lattice\n",
    "        for j = 1:lattice\n",
    "            if mod(i,2) == 1\n",
    "                e = e_dif1(spin_array, lattice, i, j, r)\n",
    "            else\n",
    "                e = e_dif2(spin_array, lattice, i, j, r)\n",
    "            end\n",
    "            if e <= 0\n",
    "                spin_array[i,j] = -spin_array[i,j];\n",
    "            elseif exp(-e*β) > rand()\n",
    "                spin_array[i,j] = -spin_array[i,j];\n",
    "            end\n",
    "        end\n",
    "    end\n",
    "    return spin_array\n",
    "end\n",
    "\n",
    "function energy(spin_array, lattice, r)\n",
    "    tol_en = 0\n",
    "    for i = 1:lattice\n",
    "        for j = 1:lattice\n",
    "            if mod(i,2) == 1\n",
    "                e = e_dif1(spin_array, lattice, i, j, r)\n",
    "            else\n",
    "                e = e_dif2(spin_array, lattice, i, j, r)\n",
    "            end\n",
    "            tol_en += e\n",
    "        end\n",
    "    end\n",
    "    return -tol_en/4\n",
    "end\n",
    "\n",
    "function MC(lattice,β,r,Sweeps_heat,Sweeps)\n",
    "#     spin_array = ones(lattice,lattice)  #初始化自旋全部为1\n",
    "    spin_array = (bitrand(lattice,lattice).-0.5)*2 #随机初始化自旋\n",
    "    for j = 1:Sweeps_heat\n",
    "        spin_array = onestep!(spin_array,lattice ,β,r);#局部更新\n",
    "    end\n",
    "#     mag = zeros(1,Sweeps);\n",
    "    ene = zeros(1,Sweeps)\n",
    "    Threads.@threads for j = 1:Sweeps\n",
    "        spin_array = onestep!(spin_array,lattice ,β,r)\n",
    "#         mag[j] = abs(sum(spin_array)/lattice^2)\n",
    "        ene[j] = energy(spin_array, lattice,r)/lattice^2\n",
    "    end\n",
    "#     mag_ave = sum(mag)/Sweeps;\n",
    "    ene_ave = sum(ene)/Sweeps;\n",
    "    return ene_ave\n",
    "end \n",
    "\n",
    "function mutiMC(β,r,lattice,bins,Sweeps_heat,Sweeps) \n",
    "    eMC_bins = zeros(bins,1)\n",
    "    Threads.@threads for j=1:bins\n",
    "        eMC_bins[j] =  MC(lattice,β,r,Sweeps_heat,Sweeps)\n",
    "    end\n",
    "    eMC = mean(eMC_bins)\n",
    "    return eMC\n",
    "end\n",
    "\n",
    "function MutiMC(β,r,lattice,Bins,bins,Sweeps_heat,Sweeps) \n",
    "    eMC_Bins = zeros(1,Bins)\n",
    "    p = Progress(Bins)\n",
    "    for j = 1:Bins\n",
    "        eMC_Bins[j] = mutiMC(β,r,lattice,bins,Sweeps_heat,Sweeps)\n",
    "        update!(p,j)\n",
    "    end\n",
    "    eMC_m = mean(eMC_Bins)\n",
    "    err = 1.96*sqrt(var(eMC_Bins)/Bins)\n",
    "    return eMC_m,err\n",
    "end"
   ]
  },
  {
   "cell_type": "code",
   "execution_count": 18,
   "metadata": {
    "code_folding": [
     0
    ]
   },
   "outputs": [
    {
     "data": {
      "image/png": "[encoded data removed]",
      "text/plain": [
       "Figure(PyObject <Figure size 640x480 with 1 Axes>)"
      ]
     },
     "metadata": {},
     "output_type": "display_data"
    },
    {
     "name": "stdout",
     "output_type": "stream",
     "text": [
      "  8.902062 seconds (186.62 M allocations: 3.013 GiB, 8.27% gc time)\n"
     ]
    },
    {
     "data": {
      "text/plain": [
       "PyObject Text(24.000000000000007, 0.5, 'energy')"
      ]
     },
     "execution_count": 18,
     "metadata": {},
     "output_type": "execute_result"
    }
   ],
   "source": [
    "#test1\n",
    "lattice = 8;               #晶格大小\n",
    "Sweeps_heat = Int(1e4);       #热浴蒙卡次数\n",
    "Sweeps = Int(1e6);           #蒙卡次数\n",
    "βB = 0.1;                    #温度区间初始\n",
    "βE = 1;                    #温度区间末尾\n",
    "d = 0.03;                   #温度区间间隔\n",
    "steps = Int(round((βE-βB)/d+1));\n",
    "# mag_ave = zeros(steps,1);  \n",
    "ene_ave = zeros(steps,1);\n",
    "r = 3.0\n",
    "@time begin\n",
    "    Threads.@threads for i=1:steps\n",
    "        β = βB+ d*(i-1);\n",
    "        ene_ave[i] = MC(lattice,β,r,Sweeps_heat,Sweeps)\n",
    "    end\n",
    "end\n",
    "β=βB:d:βE\n",
    "# subplots_adjust(wspace=0.5)\n",
    "# suptitle(\"r = $r\")\n",
    "# subplot(221)\n",
    "# plot(β,mag_ave,\"r\")\n",
    "# xlabel(\"β\")\n",
    "# ylabel(\"magnetic\")\n",
    "\n",
    "# subplot(222)\n",
    "title(\"r = $r\")\n",
    "plot(β,ene_ave,\"y\")\n",
    "xlabel(\"β\")\n",
    "ylabel(\"energy\")"
   ]
  },
  {
   "cell_type": "code",
   "execution_count": 23,
   "metadata": {
    "code_folding": []
   },
   "outputs": [
    {
     "name": "stdout",
     "output_type": "stream",
     "text": [
      "Starting point has λL1 = 0.2639787149186254 - 4.336849689150403e-9im ,λL2 =  0.2639787129537899 + 1.0258599525414525e-10im\n",
      "                        λR1 = 0.26397871059882577 - 1.2432630203118578e-9im ,λR2 =  0.263978715305278 - 2.6764667769536366e-15im\n",
      "Step 1: \n",
      "                                    λ1 * λ2 = 0.8173571739701083 + 2.432720691558643e-12im,\n",
      "                                    λL1 = 0.8192794284506466 + 5.3013149425851225e-15im,\n",
      "                                    λL2 = 0.8192794284506486 + 1.6653345369377348e-16im, \n",
      "                                    err1 ≈ 0.010443779409865727, \n",
      "                                    err2 ≈ 0.011036314122744688\n",
      "Step 2: \n",
      "                                        λ1 * λ2 = 0.8196831549038528 + 1.6653345369377348e-16im,\n",
      "                                        λL1 = 0.8196831547816235 - 5.069555886194621e-14im,\n",
      "                                        λL2 = 0.8196831547816088 + 1.6653345369377348e-16im, \n",
      "                                        err1 ≈ 2.003897722619906e-6, \n",
      "                                        err2 ≈ 2.097468681650466e-6\n",
      "Step 3: \n",
      "                                        λ1 * λ2 = 0.8196831547910355 - 3.0531133177191805e-16im,\n",
      "                                        λL1 = 0.8196831547910401 - 7.494005416219807e-16im,\n",
      "                                        λL2 = 0.8196831547910333 + 2.220446049250313e-16im, \n",
      "                                        err1 ≈ 1.5975032263142218e-12, \n",
      "                                        err2 ≈ 3.039348487842035e-13\n"
     ]
    },
    {
     "data": {
      "image/png": "[encoded data removed]",
      "text/plain": [
       "Figure(PyObject <Figure size 640x480 with 1 Axes>)"
      ]
     },
     "metadata": {},
     "output_type": "display_data"
    },
    {
     "data": {
      "text/plain": [
       "PyObject Text(0.5, 1.0, 'β = 0.1 \\n r = 10 \\n different = 0.0003500149811586084')"
      ]
     },
     "execution_count": 23,
     "metadata": {},
     "output_type": "execute_result"
    }
   ],
   "source": [
    "#test2\n",
    "β= 0.1\n",
    "# β = 0.1\n",
    "r = 10\n",
    "lB = 8;                    \n",
    "lE = 32;                    \n",
    "ld = 4;                    \n",
    "steps = Int(round((lE-lB)/ld+1));\n",
    "eMC = zeros(steps,1)\n",
    "Threads.@threads for i=1:steps\n",
    "    lattice = lB+ ld*(i-1);\n",
    "    eMC[i] = MC(lattice,β,r,Int(1e5),Int(1e6))\n",
    "end\n",
    "\n",
    "M1, M2, ME1, ME2, ME3, ME4,λM1,λM2 = classicalisingmpo(β; r = r)\n",
    "D = 50\n",
    "A1 = randn(D, 2, D) + im*randn(D, 2, D)\n",
    "A2 = A1\n",
    "λ1, λ2, AL1, AL2, C1, C2, AR1, AR2, FL1, FL2, FL3, FL4, FR1, FR2, FR3, FR4 = \n",
    "    vumps(A1,A2,M1,M2;tol = 1e-6,maxiter = 100)\n",
    "eMPS = real(energy(M1, M2, ME1, ME2, ME3, ME4, AL1, AL2, C1, C2, AR1, AR2, FL1, FL2, FL3, FL4, FR1, FR2, FR3, FR4,λM1,λM2))\n",
    "different = abs(eMPS - eMC[steps])\n",
    "lattice = lB:ld:lE\n",
    "plot(lattice,reshape(eMC,steps,),\"+:\",color = \"b\",label = \"MC\")\n",
    "plot(lattice,real(fill(eMPS,steps,1)),\"*-\",color = \"r\",label = \"MPS\")\n",
    "legend(loc=\"best\")\n",
    "xlabel(\"lattice\")\n",
    "ylabel(\"energy\")\n",
    "title(\"β = $β \\n r = $r \\n different = $different\")"
   ]
  },
  {
   "cell_type": "code",
   "execution_count": 17,
   "metadata": {},
   "outputs": [
    {
     "name": "stdout",
     "output_type": "stream",
     "text": [
      "1.64 * sqrt(var(eMC) / 20) = 6.964584718860807e-5\n",
      "mean(eMC) - real(eMPS) = -0.04123167665513261\n",
      "mean(eMC) = -4.052562875683593\n",
      "real(eMPS) = -4.011331199028461\n"
     ]
    },
    {
     "data": {
      "text/plain": [
       "-4.011331199028461"
      ]
     },
     "execution_count": 17,
     "metadata": {},
     "output_type": "execute_result"
    }
   ],
   "source": [
    "@show 1.64*sqrt(var(eMC)/20) mean(eMC) - real(eMPS) mean(eMC) real(eMPS)"
   ]
  },
  {
   "cell_type": "code",
   "execution_count": 30,
   "metadata": {
    "code_folding": [
     0
    ]
   },
   "outputs": [
    {
     "name": "stdout",
     "output_type": "stream",
     "text": [
      "lattice  = 24 \n"
     ]
    },
    {
     "name": "stderr",
     "output_type": "stream",
     "text": [
      "\u001b[32mProgress: 100%|█████████████████████████████████████████| Time: 0:35:30\u001b[39m\n"
     ]
    },
    {
     "data": {
      "image/png": "[encoded data removed]",
      "text/plain": [
       "Figure(PyObject <Figure size 640x480 with 1 Axes>)"
      ]
     },
     "metadata": {},
     "output_type": "display_data"
    },
    {
     "name": "stderr",
     "output_type": "stream",
     "text": [
      "No handles with labels found to put in legend.\r\n"
     ]
    },
    {
     "data": {
      "text/plain": [
       "PyObject Text(24.000000000000007, 0.5, 'energy')"
      ]
     },
     "execution_count": 30,
     "metadata": {},
     "output_type": "execute_result"
    }
   ],
   "source": [
    "#test4 muti-data\n",
    "β= 0.1\n",
    "# β = 0.1\n",
    "r = 10\n",
    "lB = 24;                    \n",
    "lE = 24;                    \n",
    "ld = 4;\n",
    "steps = Int(round((lE-lB)/ld+1));\n",
    "eMC = zeros(steps,1)\n",
    "err = zeros(steps,1)\n",
    "Bins = 10\n",
    "bins = 100\n",
    "Sweeps_heat = Int(1e4)\n",
    "Sweeps = Int(1e6)\n",
    "for i=1:steps\n",
    "    lattice = lB+ ld*(i-1);\n",
    "    println(\"lattice  = $lattice \")\n",
    "    eMC[i],err[i] = MutiMC(β,r,lattice,Bins,bins,Sweeps_heat,Sweeps)\n",
    "end\n",
    "\n",
    "lattice = lB:ld:lE\n",
    "errorbar(1/lattice,reverse(reshape(eMC,steps,)),yerr = reverse(reshape(err,steps,)),marker=\"s\", mfc=\"red\",\n",
    "                 mec=\"green\", ms=20, mew=4)\n",
    "legend(loc=\"best\")\n",
    "xlabel(\"lattice\")\n",
    "ylabel(\"energy\")"
   ]
  },
  {
   "cell_type": "markdown",
   "metadata": {},
   "source": [
    "### bond强度比例 r"
   ]
  },
  {
   "cell_type": "code",
   "execution_count": 57,
   "metadata": {
    "code_folding": [
     0
    ]
   },
   "outputs": [
    {
     "name": "stdout",
     "output_type": "stream",
     "text": [
      "r = 50\n",
      "r = 90\n",
      "r = 70\n",
      "r = 0\n",
      "r = 100\n",
      "r = 10\n",
      "r = 60\n",
      "r = 20\n",
      "r = 40\n",
      "r = 30\n",
      "r = 80\n"
     ]
    },
    {
     "data": {
      "image/png": "[encoded data removed]",
      "text/plain": [
       "Figure(PyObject <Figure size 640x480 with 1 Axes>)"
      ]
     },
     "metadata": {},
     "output_type": "display_data"
    },
    {
     "data": {
      "text/plain": [
       "PyObject Text(0.5, 1.0, 'β = 0.1')"
      ]
     },
     "execution_count": 57,
     "metadata": {},
     "output_type": "execute_result"
    }
   ],
   "source": [
    "#full test change r\n",
    "βc = log(1+sqrt(2))/2\n",
    "β = 0.1\n",
    "rB = 0;                    \n",
    "rE = 100;                    \n",
    "rd = 10;                    \n",
    "steps = Int(round((rE-rB)/rd+1));\n",
    "eMC = zeros(steps,1)\n",
    "eMC_std = zeros(steps,1)\n",
    "eMPS = zeros(steps,1)\n",
    "lattice = 8\n",
    "bins = 10\n",
    "Threads.@threads for i=1:steps\n",
    "    r = rB+ rd*(i-1);\n",
    "    println(\"r = $r\")\n",
    "    M1, M2, ME1, ME2, ME3, ME4,λM1,λM2 = classicalisingmpo(β; r = r)\n",
    "    D = 50\n",
    "    A1 = randn(D, 2, D) + im*randn(D, 2, D)\n",
    "    A2 = A1\n",
    "    λ1, λ2, AL1, AL2, C1, C2, AR1, AR2, FL1, FL2, FL3, FL4, FR1, FR2, FR3, FR4 = \n",
    "        vumps(A1,A2,M1,M2;test = false,tol = 1e-12,maxiter = 100)\n",
    "    eMPS[i] = real(energy(M1, M2, ME1, ME2, ME3, ME4, AL1, AL2, C1, C2, AR1, AR2, FL1, FL2, FL3, FL4, FR1, FR2, FR3, FR4,λM1,λM2))\n",
    "    eMC_bins = zeros(bins,1)\n",
    "    for j = 1:bins\n",
    "        eMC_bins[j] = MC(lattice,β,r,Int(1e3),Int(1e4))\n",
    "    end\n",
    "    eMC[i] = sum(eMC_bins) / bins\n",
    "    eMC_std[i]= std(eMC_bins)\n",
    "end\n",
    "r = rB:rd:rE\n",
    "plot(r,eMC,\"*-\",color = \"b\",label = \"MC\")\n",
    "# plot(r,eMC_std,\".:\",color = \"g\",label = \"MC_std\")\n",
    "plot(r,eMPS,\"+:\",color = \"r\",label = \"MPS\")\n",
    "legend(loc=\"best\")\n",
    "xlabel(\"r\")\n",
    "ylabel(\"energy\")\n",
    "title(\"β = $β\")"
   ]
  },
  {
   "cell_type": "markdown",
   "metadata": {},
   "source": [
    "### 温度 β"
   ]
  },
  {
   "cell_type": "code",
   "execution_count": 29,
   "metadata": {
    "code_folding": [
     0
    ]
   },
   "outputs": [
    {
     "data": {
      "image/png": "[encoded data removed]",
      "text/plain": [
       "Figure(PyObject <Figure size 640x480 with 1 Axes>)"
      ]
     },
     "metadata": {},
     "output_type": "display_data"
    },
    {
     "data": {
      "text/plain": [
       "PyObject Text(0.5, 1.0, 'r = 10.0')"
      ]
     },
     "execution_count": 29,
     "metadata": {},
     "output_type": "execute_result"
    }
   ],
   "source": [
    "#full test change β\n",
    "βc = log(1+sqrt(2))/2\n",
    "βB = 0.1;                    \n",
    "βE = 1;                    \n",
    "βd = 0.1;  \n",
    "r = 10.0\n",
    "steps = Int(round((βE-βB)/βd+1));\n",
    "eMC = zeros(steps,1)\n",
    "eMPS = zeros(steps,1)\n",
    "lattice = 32\n",
    "Threads.@threads for i=1:steps\n",
    "    β = βB+ βd*(i-1);\n",
    "    M1, M2, ME1, ME2, ME3, ME4,λM1,λM2 = classicalisingmpo(β; r = r)\n",
    "    D = 50\n",
    "    Random.seed!(12345)\n",
    "    A1 = randn(D, 2, D) + im*randn(D, 2, D)\n",
    "    Random.seed!(12345)\n",
    "    A2 = randn(D, 2, D) + im*randn(D, 2, D)\n",
    "    λ1, λ2, AL1, AL2, C1, C2, AR1, AR2, FL1, FL2, FL3, FL4, FR1, FR2, FR3, FR4 = \n",
    "        vumps(A1,A2,M1,M2;test = false,tol = 1e-12,maxiter = 100)\n",
    "    eMPS[i] = real(energy(M1, M2, ME1, ME2, ME3, ME4, AL1, AL2, C1, C2, AR1, AR2, FL1, FL2, FL3, FL4, FR1, FR2, FR3, FR4,λM1,λM2))\n",
    "    eMC[i] = MC(lattice,β,r,Int(1e4),Int(1e6))\n",
    "end\n",
    "β = βB:βd:βE\n",
    "plot(β,eMC,\"*-\",color = \"b\",label = \"MC\")\n",
    "plot(β,eMPS,\"+:\",color = \"r\",label = \"MPS\")\n",
    "legend(loc=\"best\")\n",
    "xlabel(\"β\")\n",
    "ylabel(\"energy\")\n",
    "title(\"r = $r\")"
   ]
  }
 ],
 "metadata": {
  "kernelspec": {
   "display_name": "Julia 1.5.1",
   "language": "julia",
   "name": "julia-1.5"
  },
  "language_info": {
   "file_extension": ".jl",
   "mimetype": "application/julia",
   "name": "julia",
   "version": "1.5.1"
  },
  "toc": {
   "base_numbering": 1,
   "nav_menu": {},
   "number_sections": true,
   "sideBar": true,
   "skip_h1_title": true,
   "title_cell": "Table of Contents",
   "title_sidebar": "Contents",
   "toc_cell": true,
   "toc_position": {
    "height": "calc(100% - 180px)",
    "left": "10px",
    "top": "150px",
    "width": "255.962px"
   },
   "toc_section_display": true,
   "toc_window_display": true
  },
  "varInspector": {
   "cols": {
    "lenName": 16,
    "lenType": 16,
    "lenVar": 40
   },
   "kernels_config": {
    "python": {
     "delete_cmd_postfix": "",
     "delete_cmd_prefix": "del ",
     "library": "var_list.py",
     "varRefreshCmd": "print(var_dic_list())"
    },
    "r": {
     "delete_cmd_postfix": ") ",
     "delete_cmd_prefix": "rm(",
     "library": "var_list.r",
     "varRefreshCmd": "cat(var_dic_list()) "
    }
   },
   "types_to_exclude": [
    "module",
    "function",
    "builtin_function_or_method",
    "instance",
    "_Feature"
   ],
   "window_display": false
  }
 },
 "nbformat": 4,
 "nbformat_minor": 2
}
