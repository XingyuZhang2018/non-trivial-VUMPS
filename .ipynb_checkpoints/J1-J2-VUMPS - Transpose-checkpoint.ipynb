{
 "cells": [
  {
   "cell_type": "markdown",
   "metadata": {
    "toc": true
   },
   "source": [
    "<h1>Table of Contents<span class=\"tocSkip\"></span></h1>\n",
    "<div class=\"toc\"><ul class=\"toc-item\"><li><span><a href=\"#J1-J2模型\" data-toc-modified-id=\"J1-J2模型-1\"><span class=\"toc-item-num\">1&nbsp;&nbsp;</span>J1-J2模型</a></span></li><li><span><a href=\"#格点MPO\" data-toc-modified-id=\"格点MPO-2\"><span class=\"toc-item-num\">2&nbsp;&nbsp;</span>格点MPO</a></span></li><li><span><a href=\"#MPS正则表示\" data-toc-modified-id=\"MPS正则表示-3\"><span class=\"toc-item-num\">3&nbsp;&nbsp;</span>MPS正则表示</a></span><ul class=\"toc-item\"><li><span><a href=\"#单格点\" data-toc-modified-id=\"单格点-3.1\"><span class=\"toc-item-num\">3.1&nbsp;&nbsp;</span>单格点</a></span></li></ul></li><li><span><a href=\"#确定边界\" data-toc-modified-id=\"确定边界-4\"><span class=\"toc-item-num\">4&nbsp;&nbsp;</span>确定边界</a></span></li><li><span><a href=\"#能量期望值\" data-toc-modified-id=\"能量期望值-5\"><span class=\"toc-item-num\">5&nbsp;&nbsp;</span>能量期望值</a></span></li><li><span><a href=\"#VUMPS\" data-toc-modified-id=\"VUMPS-6\"><span class=\"toc-item-num\">6&nbsp;&nbsp;</span>VUMPS</a></span><ul class=\"toc-item\"><li><span><a href=\"#单格点\" data-toc-modified-id=\"单格点-6.1\"><span class=\"toc-item-num\">6.1&nbsp;&nbsp;</span>单格点</a></span></li><li><span><a href=\"#J1-J2\" data-toc-modified-id=\"J1-J2-6.2\"><span class=\"toc-item-num\">6.2&nbsp;&nbsp;</span>J1-J2</a></span></li></ul></li><li><span><a href=\"#程序检验\" data-toc-modified-id=\"程序检验-7\"><span class=\"toc-item-num\">7&nbsp;&nbsp;</span>程序检验</a></span><ul class=\"toc-item\"><li><span><a href=\"#J1-J2-MC\" data-toc-modified-id=\"J1-J2-MC-7.1\"><span class=\"toc-item-num\">7.1&nbsp;&nbsp;</span>J1-J2 MC</a></span></li><li><span><a href=\"#bond强度比例-r\" data-toc-modified-id=\"bond强度比例-r-7.2\"><span class=\"toc-item-num\">7.2&nbsp;&nbsp;</span>bond强度比例 r</a></span></li><li><span><a href=\"#温度-β\" data-toc-modified-id=\"温度-β-7.3\"><span class=\"toc-item-num\">7.3&nbsp;&nbsp;</span>温度 β</a></span></li></ul></li></ul></div>"
   ]
  },
  {
   "cell_type": "markdown",
   "metadata": {
    "heading_collapsed": true,
    "slideshow": {
     "slide_type": "-"
    }
   },
   "source": [
    "## J1-J2模型 \n",
    "横向连接耦合强度为$J_1,J_2$交替排布，纵向全为$J_1$\n",
    "<img src=\"figure/17.png\" width=\"30%\">"
   ]
  },
  {
   "cell_type": "markdown",
   "metadata": {},
   "source": [
    "## 格点MPO\n",
    "权重张量为$M1,M2$\n",
    "<img src=\"figure/21.png\" width=\"25%\">\n",
    "红色连接上张量为\n",
    "$\\exp(-J_2 h_{ij})$, $J_2 = r J_1$\n",
    "\n",
    "要收缩的目标张量Z2为\n",
    "<img src=\"figure/22.png\" width=\"25%\">\n",
    "\n",
    "能量权重张量为$ME1,ME2,ME3,ME4$\n",
    "<img src=\"figure/23.png\" width=\"25%\">"
   ]
  },
  {
   "cell_type": "code",
   "execution_count": 1,
   "metadata": {
    "code_folding": [
     0
    ]
   },
   "outputs": [],
   "source": [
    "# call library\n",
    "using LinearAlgebra, TensorOperations, KrylovKit, Random, Statistics, PyPlot"
   ]
  },
  {
   "cell_type": "code",
   "execution_count": 2,
   "metadata": {
    "code_folding": [
     0
    ]
   },
   "outputs": [
    {
     "data": {
      "text/plain": [
       "classicalisingmpo (generic function with 1 method)"
      ]
     },
     "execution_count": 2,
     "metadata": {},
     "output_type": "execute_result"
    }
   ],
   "source": [
    "# define M1,M2,ME1,ME2,ME3,ME4\n",
    "function statmechmpo(β, h, D; r = 2.0)\n",
    "    I = zeros(D,D,D,D)\n",
    "    for i = 1:D\n",
    "        I[i,i,i,i] = 1\n",
    "    end\n",
    " \n",
    "    X1 = zeros(D,D)\n",
    "    for j = 1:D, i = 1:D\n",
    "        X1[i,j] = exp(-β*h(i,j))\n",
    "    end\n",
    "\n",
    "    X2 = zeros(D,D)\n",
    "    for j = 1:D, i = 1:D\n",
    "        X2[i,j] = exp(-β*r*h(i,j))\n",
    "    end\n",
    "\n",
    "    X1sq = sqrt(X1)\n",
    "    X2sq = sqrt(X2)\n",
    "\n",
    "    @tensor M1[a,b,c,d] := I[a',b',c',d']*X1sq[c',c]*X1sq[d',d]*X1sq[a',a]*X2sq[b',b]\n",
    "    M2 = permutedims(M1,[1,4,3,2])\n",
    "\n",
    "    # For computing energy: M2 is a tensor across 2 nearest neighbor sites in the lattice, whose\n",
    "    # expectation value in the converged fixed point of the transfer matrix represents the energy\n",
    "    Y1 = zeros(D,D)\n",
    "    for j = 1:D, i = 1:D\n",
    "        Y1[i,j] = h(i,j)*exp(-β*h(i,j))\n",
    "    end\n",
    "    Y2 = zeros(D,D)\n",
    "    for j = 1:D, i = 1:D\n",
    "        Y2[i,j] = r*h(i,j)*exp(-β*r*h(i,j))\n",
    "    end\n",
    "\n",
    "    @tensor ME1[a,b1,b2,c,d2,d1] := I[a',b1',c1,d1']*X1sq[a,a']*X2sq[b1,b1']*X1sq[d1',d1]* Y1[c1,c2]*\n",
    "                                    I[c2,b2',c',d2']*X2sq[b2,b2']*X1sq[d2',d2]*X1sq[c',c]\n",
    "    @tensor ME2[a,b1,b2,c,d2,d1] := I[a',b1',c1,d1']*X1sq[a,a']*X1sq[b1,b1']*X2sq[d1',d1]* Y1[c1,c2]*\n",
    "                                    I[c2,b2',c',d2']*X1sq[b2,b2']*X2sq[d2',d2]*X1sq[c',c]\n",
    "    @tensor ME3[d1,d2,s2,d3,d4,s1] := I[d1',c1,d4',s1']*X1sq[d1,d1']*X1sq[d4',d4]*X1sq[s1',s1]* Y2[c1,c2]*\n",
    "                                I[d2',s2',d3',c2]*X1sq[d2,d2']*X1sq[s2',s2]*X1sq[d3',d3]\n",
    "    @tensor ME4[d1,d2,s2,d3,d4,s1] := I[d1',c1,d4',s1']*X1sq[d1,d1']*X1sq[d4',d4]*X2sq[s1',s1]* Y1[c1,c2]*\n",
    "                                I[d2',s2',d3',c2]*X1sq[d2,d2']*X2sq[s2',s2]*X1sq[d3',d3]\n",
    "\n",
    "    λM1 = norm(M1+M2)\n",
    "    λM2 = norm(ME1+ME2+ME3+ME4)\n",
    "    return M1/λM1, M2/λM1, ME1/λM2, ME2/λM2, ME3/λM2, ME4/λM2,λM1,λM2\n",
    "end\n",
    "\n",
    "classicalisingmpo(β; J = 1.0, h = 0.,r = 1.0) = statmechmpo(β, (s1,s2)->-J*(-1)^(s1!=s2) - h/2*(s1==1 + s2==1),\n",
    "                                                                                            2;r)"
   ]
  },
  {
   "cell_type": "code",
   "execution_count": 3,
   "metadata": {
    "code_folding": []
   },
   "outputs": [
    {
     "name": "stdout",
     "output_type": "stream",
     "text": [
      "norm(M1 .- M2) = 0.15872353067200784\n",
      "norm(ME1 .- ME2) = 0.10388604817067075\n",
      "norm(ME3 .- ME4) = 0.8342272639886552\n"
     ]
    },
    {
     "data": {
      "text/plain": [
       "0.8342272639886552"
      ]
     },
     "execution_count": 3,
     "metadata": {},
     "output_type": "execute_result"
    }
   ],
   "source": [
    "#test\n",
    "βc = log(1+sqrt(2))/2\n",
    "β = 0.1\n",
    "M1, M2, ME1, ME2, ME3, ME4,λM1,λM2 = classicalisingmpo(β; r = 10.0)\n",
    "@show norm(M1.-M2) norm(ME1.-ME2) norm(ME3.-ME4)"
   ]
  },
  {
   "cell_type": "markdown",
   "metadata": {},
   "source": [
    "## MPS正则表示\n",
    "### 单格点\n",
    "对于Uniform MPS，在归一化时，边界收缩为\n",
    "<img src=\"figure/4.png\" width=\"30%\">\n",
    "从而引入左右正则张量$AL$和$AR$：\n",
    "<img src=\"figure/5.png\" width=\"30%\">\n",
    "使得边界收缩掉\n",
    "<img src=\"figure/7.png\" width=\"30%\">\n",
    "具体做法为在$A$张量间，左边插入$L^{-1}L$，右边边插入$L^{-1}L$，\n",
    "<img src=\"figure/8.png\" width=\"80%\">\n",
    "然后根据周期不变性得到红色方框中的相等的变换关系，并定义$C=LR$\n",
    "得到\n",
    "$$L\\cdot A\\cdot R=AC=AL\\cdot C=C \\cdot AR$$"
   ]
  },
  {
   "cell_type": "code",
   "execution_count": 4,
   "metadata": {
    "code_folding": [
     0
    ]
   },
   "outputs": [
    {
     "data": {
      "text/plain": [
       "rightorth"
      ]
     },
     "execution_count": 4,
     "metadata": {},
     "output_type": "execute_result"
    }
   ],
   "source": [
    "# function to get AL1,AL2 and AR1,AR2\n",
    "safesign(x::Number) = iszero(x) ? one(x) : sign(x)\n",
    "\"\"\"\n",
    "    qrpos(A)\n",
    "\n",
    "Returns a QR decomposition, i.e. an isometric `Q` and upper triangular `R` matrix, where `R`\n",
    "is guaranteed to have positive diagonal elements.\n",
    "\"\"\"\n",
    "qrpos(A) = qrpos!(copy(A))\n",
    "function qrpos!(A)\n",
    "    F = qr!(A)\n",
    "    Q = Matrix(F.Q)\n",
    "    R = F.R\n",
    "    phases = safesign.(diag(R))\n",
    "    rmul!(Q, Diagonal(phases))\n",
    "    lmul!(Diagonal(conj!(phases)), R)\n",
    "    return Q, R\n",
    "end\n",
    "\n",
    "\"\"\"\n",
    "    lqpos(A)\n",
    "\n",
    "Returns a LQ decomposition, i.e. a lower triangular `L` and isometric `Q` matrix, where `L`\n",
    "is guaranteed to have positive diagonal elements.\n",
    "\"\"\"\n",
    "lqpos(A) = lqpos!(copy(A))\n",
    "function lqpos!(A)\n",
    "    F = qr!(Matrix(A'))\n",
    "    Q = Matrix(Matrix(F.Q)')\n",
    "    L = Matrix(F.R')\n",
    "    phases = safesign.(diag(L))\n",
    "    lmul!(Diagonal(phases), Q)\n",
    "    rmul!(L, Diagonal(conj!(phases)))\n",
    "    return L, Q\n",
    "end\n",
    "\n",
    "\"\"\"\n",
    "    leftorth(A, [C]; kwargs...)\n",
    "\n",
    "Given an MPS tensor `A`, return a left-canonical MPS tensor `AL`, a gauge transform `C` and\n",
    "a scalar factor `λ` such that ``λ AL^s C = C A^s``, where an initial guess for `C` can be\n",
    "provided.\n",
    "\"\"\"\n",
    "function leftorth(A, C = Matrix{eltype(A)}(I, size(A,1), size(A,1)); tol = 1e-12, maxiter = 100, kwargs...)\n",
    "    λ2s, ρs, info = eigsolve(C'*C, 1, :LM; ishermitian = false, tol = tol, maxiter = 1, kwargs...) do ρ\n",
    "        @tensor ρE[a,b] := ρ[a',b']*A[b',s,b]*conj(A[a',s,a])\n",
    "        return ρE\n",
    "    end\n",
    "    ρ = ρs[1] + ρs[1]'\n",
    "    ρ ./= tr(ρ)\n",
    "    # C = cholesky!(ρ).U\n",
    "    # If ρ is not exactly positive definite, cholesky will fail\n",
    "    F = svd!(ρ)\n",
    "    C = lmul!(Diagonal(sqrt.(F.S)), F.Vt)\n",
    "    _, C = qrpos!(C)\n",
    "\n",
    "    D, d, = size(A)\n",
    "    Q, R = qrpos!(reshape(C*reshape(A, D, d*D), D*d, D))\n",
    "    AL = reshape(Q, D, d, D)\n",
    "    λ = norm(R)\n",
    "    rmul!(R, 1/λ)\n",
    "    numiter = 1\n",
    "    while norm(C-R) > tol && numiter < maxiter\n",
    "        # C = R\n",
    "        λs, Cs, info = eigsolve(R, 1, :LM; ishermitian = false, tol = tol, maxiter = 1, kwargs...) do X\n",
    "            @tensor Y[a,b] := X[a',b']*A[b',s,b]*conj(AL[a',s,a])\n",
    "            return Y\n",
    "        end\n",
    "        _, C = qrpos!(Cs[1])\n",
    "        # The previous lines can speed up the process when C is still very far from the correct\n",
    "        # gauge transform, it finds an improved value of C by finding the fixed point of a\n",
    "        # 'mixed' transfer matrix composed of `A` and `AL`, even though `AL` is also still not\n",
    "        # entirely correct. Therefore, we restrict the number of iterations to be 1 and don't\n",
    "        # check for convergence\n",
    "        Q, R = qrpos!(reshape(C*reshape(A, D, d*D), D*d, D))\n",
    "        AL = reshape(Q, D, d, D)\n",
    "        λ = norm(R)\n",
    "        rmul!(R, 1/λ)\n",
    "        numiter += 1\n",
    "    end\n",
    "    C = R\n",
    "    return AL, C, λ\n",
    "end\n",
    "\n",
    "\"\"\"\n",
    "    rightorth(A, [C]; kwargs...)\n",
    "\n",
    "Given an MPS tensor `A`, return a gauge transform C, a right-canonical MPS tensor `AR`, and\n",
    "a scalar factor `λ` such that ``λ C AR^s = A^s C``, where an initial guess for `C` can be\n",
    "provided.\n",
    "\"\"\"\n",
    "function rightorth(A, C = Matrix{eltype(A)}(I, size(A,1), size(A,1)); tol = 1e-12, kwargs...)\n",
    "    AL, C, λ = leftorth(permutedims(A,(3,2,1)), permutedims(C,(2,1)); tol = tol, kwargs...)\n",
    "    return permutedims(C,(2,1)), permutedims(AL,(3,2,1)), λ\n",
    "end"
   ]
  },
  {
   "cell_type": "code",
   "execution_count": 5,
   "metadata": {
    "code_folding": [
     0
    ]
   },
   "outputs": [
    {
     "name": "stdout",
     "output_type": "stream",
     "text": [
      "(norm(AL1_2 - Ident), norm(AL2_2 - Ident)) = (4.448077062048412e-15, 4.448077062048412e-15)\n",
      "(norm(AR1_2 - Ident), norm(AR2_2 - Ident)) = (4.674444625909699e-15, 4.674444625909699e-15)\n",
      "norm(A1 .- A2) = 0.0\n",
      "norm(AL1 .- AL2) = 0.0\n"
     ]
    },
    {
     "data": {
      "text/plain": [
       "0.0"
      ]
     },
     "execution_count": 5,
     "metadata": {},
     "output_type": "execute_result"
    }
   ],
   "source": [
    "# test\n",
    "D = 50\n",
    "Random.seed!(1234)\n",
    "A1 = randn(D, 2, D) + im*randn(D, 2, D)\n",
    "Random.seed!(1234)\n",
    "A2 = randn(D, 2, D) + im*randn(D, 2, D)\n",
    "AL1,L1,λL1 = leftorth(A1)\n",
    "AL2,L2,λL2 = leftorth(A2)\n",
    "R1,AR1,λR1 = rightorth(A1)\n",
    "R2,AR2,λR2 = rightorth(A2)\n",
    "\n",
    "Ident = Matrix{Float64}(I, D, D)\n",
    "@tensor AL1_2[a,b] := AL1[d,s,b] * conj(AL1[d,s,a])\n",
    "@tensor AL2_2[a,b] := AL2[d,s,b] * conj(AL2[d,s,a])\n",
    "@show norm(AL1_2-Ident), norm(AL2_2-Ident)\n",
    "\n",
    "\n",
    "@tensor AR1_2[a,b] := AR1[a,s,d] * conj(AR1[b,s,d])\n",
    "@tensor AR2_2[a,b] := AR2[a,s,d] * conj(AR2[b,s,d])\n",
    "@show norm(AR1_2-Ident), norm(AR2_2-Ident) norm(A1.- A2) norm(AL1.- AL2)"
   ]
  },
  {
   "cell_type": "markdown",
   "metadata": {},
   "source": [
    "## 确定边界\n",
    "<img src=\"figure/24.png\" width=\"30%\"/><img src=\"figure/25.png\" width=\"30%\"/>\n"
   ]
  },
  {
   "cell_type": "code",
   "execution_count": 6,
   "metadata": {
    "code_folding": [
     0
    ]
   },
   "outputs": [
    {
     "data": {
      "text/plain": [
       "rightenv4 (generic function with 2 methods)"
      ]
     },
     "execution_count": 6,
     "metadata": {},
     "output_type": "execute_result"
    }
   ],
   "source": [
    "# function to get FL1 ,FL2 and FR1,FR2\n",
    "function FLmap(AL1, AL2, M, FL)\n",
    "    @tensor X[α,a,β] := FL[α',a',β']*AL1[β',s',β]*M[a',s,a,s']*conj(AL2[α',s,α])\n",
    "end\n",
    "\n",
    "function FRmap(AR1, AR2, M, FR)\n",
    "    @tensor X[α,a,β] := AR1[α,s',α']*FR[α',a',β']*M[a,s,a',s']*conj(AR2[β,s,β'])\n",
    "end\n",
    "\n",
    "function FLmap4(AL, M1, M2, FL)\n",
    "    @tensor X[α,a,b,β] := FL[α',a',b',β']*AL[β',s',β]*M2[a',s,a,c]*M1[b',c,b,s']*conj(AL[α',s,α])\n",
    "end\n",
    "\n",
    "function FRmap4(AR, M1, M2, FR)\n",
    "    @tensor X[α,a,b,β] := AR[α,s',α']*FR[α',a',b',β']*M1[a,s,a',s']*M2[b,c,b',s]*conj(AR[β,c,β'])\n",
    "end\n",
    "\n",
    "\"\"\"\n",
    "    leftenv(A, M, FL; kwargs)\n",
    "\n",
    "Compute the left environment tensor for MPS A and MPO M, by finding the left fixed point\n",
    "of A - M - conj(A) contracted along the physical dimension.\n",
    "\"\"\"\n",
    "function leftenv(AL1, AL2, M1, M2, FL = randn(eltype(AL1), size(AL1,1), size(M1,1), size(AL1,1)); kwargs...)\n",
    "    λ1s, FL1s, = eigsolve(X->FLmap(AL1, AL2, M1, X), FL, 1, :LM; ishermitian = false, kwargs...)\n",
    "    λ2s, FL2s, = eigsolve(X->FLmap(AL2, AL1, M2, X), FL1s[1], 1, :LM; ishermitian = false, kwargs...)\n",
    "    return FL1s[1], FL2s[1], λ1s[1], λ2s[1]\n",
    "end\n",
    "\"\"\"\n",
    "    rightenv(A, M, FR; kwargs...)\n",
    "\n",
    "Compute the right environment tensor for MPS A and MPO M, by finding the right fixed point\n",
    "of A - M - conj(A) contracted along the physical dimension.\n",
    "\"\"\"\n",
    "function rightenv(AR1, AR2, M1, M2, FR = randn(eltype(AR1), size(AR1,1), size(M1,1), size(AR1,1)); kwargs...)\n",
    "    λ1s, FR1s, = eigsolve(X->FRmap(AR1, AR2, M1, X), FR, 1, :LM; ishermitian = false, kwargs...)\n",
    "    λ2s, FR2s, = eigsolve(X->FRmap(AR2, AR1, M2, X), FR1s[1], 1, :LM; ishermitian = false, kwargs...)\n",
    "    return FR1s[1], FR2s[1], λ1s[1], λ2s[1]\n",
    "end\n",
    "\n",
    "function leftenv4(AL1, AL2, M1, M2, FL = randn(eltype(AL1), size(AL1,1), size(M1,1), size(M1,1), size(AL1,1)); kwargs...)\n",
    "    λ1s, FL1s, = eigsolve(X->FLmap4(AL1, M1, M2, X), FL, 1, :LM; ishermitian = false, kwargs...)\n",
    "    λ2s, FL2s, = eigsolve(X->FLmap4(AL2, M2, M1, X), FL1s[1], 1, :LM; ishermitian = false, kwargs...)\n",
    "    return FL1s[1], FL2s[1], λ1s[1], λ2s[1]\n",
    "end\n",
    "\n",
    "function rightenv4(AR1, AR2, M1, M2, FR = randn(eltype(AR1), size(AR1,1), size(M1,1), size(M1,1), size(AR1,1)); kwargs...)\n",
    "    λ1s, FR1s, = eigsolve(X->FRmap4(AR1, M1, M2, X), FR, 1, :LM; ishermitian = false, kwargs...)\n",
    "    λ2s, FR2s, = eigsolve(X->FRmap4(AR2, M2, M1, X), FR1s[1], 1, :LM; ishermitian = false, kwargs...)\n",
    "    return FR1s[1], FR2s[1], λ1s[1], λ2s[1]\n",
    "end"
   ]
  },
  {
   "cell_type": "code",
   "execution_count": 7,
   "metadata": {
    "code_folding": [
     0
    ]
   },
   "outputs": [
    {
     "name": "stdout",
     "output_type": "stream",
     "text": [
      "norm(X1 .- FL1 * λL1) = 1.143327996056182e-11\n",
      "norm(X2 .- FL2 * λL2) = 7.415519045626368e-12\n",
      "norm(X3 .- FR1 * λR1) = 2.4064285530517786e-11\n",
      "norm(X4 .- FR2 * λR2) = 8.489560352049699e-11\n",
      "norm(FL1 .- FL2) = 0.6690841510824111\n",
      "norm(FR1 .- FR2) = 1.7924005380792167\n",
      "norm(X5 .- FL3 * λL3) = 8.758826060697458e-11\n",
      "norm(X6 .- FL4 * λL4) = 7.504167330950586e-11\n",
      "norm(X7 .- FR3 * λR3) = 2.9348720633280583e-11\n",
      "norm(X8 .- FR4 * λR4) = 5.583928569653607e-11\n",
      "norm(FL3 .- FL4) = 0.309039805895645\n",
      "norm(FR3 .- FR4) = 1.9790449012243865\n"
     ]
    },
    {
     "data": {
      "text/plain": [
       "1.9790449012243865"
      ]
     },
     "execution_count": 7,
     "metadata": {},
     "output_type": "execute_result"
    }
   ],
   "source": [
    "# test\n",
    "FL1, FL2,λL1,λL2 = leftenv(AL1, AL2, M1, M2,tol = 1e-10)\n",
    "FR1, FR2,λR1,λR2 = rightenv(AR1, AR2, M1, M2,tol = 1e-10)\n",
    "FL3, FL4,λL3,λL4 = leftenv4(AL1, AL2, M1, M2,tol = 1e-10)\n",
    "FR3, FR4,λR3,λR4 = rightenv4(AR1, AR2, M1, M2,tol = 1e-10)\n",
    "X1 = FLmap(AL1, AL2, M1,  FL1)\n",
    "X2 = FLmap(AL2, AL1, M2,  FL2)\n",
    "X3 = FRmap(AR1, AR2, M1,  FR1)\n",
    "X4 = FRmap(AR2, AR1, M2,  FR2)\n",
    "X5 = FLmap4(AL1, M1, M2, FL3)\n",
    "X6 = FLmap4(AL2, M2, M1, FL4)\n",
    "X7 = FRmap4(AR1, M1, M2, FR3)\n",
    "X8 = FRmap4(AR2, M2, M1, FR4)\n",
    "\n",
    "# @tensor X5[α,a,β] := FL1[α',a',β']*AL1[β',s',β]*M1[a',s,a,s']*conj(AL1[α',s,α])\n",
    "@show norm(X1.- FL1*λL1) norm(X2.- FL2*λL2) norm(X3.- FR1*λR1) norm(X4.- FR2*λR2) \n",
    "@show norm(FL1.- FL2) norm(FR1.- FR2)\n",
    "@show norm(X5.- FL3*λL3) norm(X6.- FL4*λL4) norm(X7.- FR3*λR3) norm(X8.- FR4*λR4) \n",
    "@show norm(FL3.- FL4) norm(FR3.- FR4)\n",
    "# @show std(X5./FL2)"
   ]
  },
  {
   "cell_type": "markdown",
   "metadata": {},
   "source": [
    "## 能量期望值\n",
    "<img src=\"figure/26.png\" width=\"70%\">\n",
    "<img src=\"figure/27.png\" width=\"70%\">"
   ]
  },
  {
   "cell_type": "code",
   "execution_count": 8,
   "metadata": {
    "code_folding": [
     0
    ]
   },
   "outputs": [
    {
     "data": {
      "text/plain": [
       "energy (generic function with 1 method)"
      ]
     },
     "execution_count": 8,
     "metadata": {},
     "output_type": "execute_result"
    }
   ],
   "source": [
    "# function to get energy\n",
    "function energy(M1, M2, ME1, ME2, ME3, ME4, AL1, AL2, C1, C2, AR1, AR2, FL1, FL2, FL3, FL4, FR1, FR2, FR3, FR4,λM1,λM2)\n",
    "    @tensor AAC1[α,s1,s2,β] := AL1[α,s1,α']*C1[α',β']*AR1[β',s2,β]\n",
    "    @tensor AAC2[α,s1,s2,β] := AL2[α,s1,α']*C2[α',β']*AR2[β',s2,β]\n",
    "    @tensor AC1[β,s,β'] := AL1[β,s,d1]*C1[d1,β']\n",
    "    @tensor AC2[β,s,β'] := AL2[β,s,d1]*C2[d1,β']\n",
    "    @tensor Z21 = scalar(FL1[α,c,β]*AAC1[β,s1,s2,β']*M1[c,t1,d,s1]*\n",
    "        M1[d,t2,c',s2]*FR1[β',c',α']*conj(AAC2[α,t1,t2,α']))\n",
    "    @tensor Z22 = scalar(FL2[α,c,β]*AAC2[β,s1,s2,β']*M2[c,t1,d,s1]*\n",
    "        M2[d,t2,c',s2]*FR2[β',c',α']*conj(AAC1[α,t1,t2,α']))\n",
    "    @tensor Z23 = scalar(FL3[α,a,b,β]*AC1[β,s,β']*M1[b,c,b',s]*\n",
    "        M2[a,s',a',c]*FR3[β',b',a',α']*conj(AC1[α,s',α']))\n",
    "    @tensor Z24 = scalar(FL4[α,a,b,β]*AC2[β,s,β']*M2[b,c,b',s]*\n",
    "        M1[a,s',a',c]*FR4[β',b',a',α']*conj(AC2[α,s',α']))\n",
    "\n",
    "#     @show Z21 Z22\n",
    "    @tensor e1 = scalar(FL1[α,c,β]*AAC1[β,s1,s2,β']*ME1[c,t1,t2,c',s2,s1]*\n",
    "        FR1[β',c',α']*conj(AAC2[α,t1,t2,α']) / Z21)\n",
    "    @tensor e2 = scalar(FL2[α,c,β]*AAC2[β,s1,s2,β']*ME2[c,t1,t2,c',s2,s1]*\n",
    "        FR2[β',c',α']*conj(AAC1[α,t1,t2,α']) / Z22)\n",
    "    @tensor e3 = scalar(FL3[α,a,b,β]*AC1[β,s,β']*ME3[b,a,s',a',b',s]*\n",
    "        FR3[β',b',a',α']*conj(AC1[α,s',α']) / Z23)\n",
    "    @tensor e4 = scalar(FL4[α,a,b,β]*AC2[β,s,β']*ME4[b,a,s',a',b',s]*\n",
    "        FR4[β',b',a',α']*conj(AC2[α,s',α']) / Z24)\n",
    "    return (e1+e2+e3+e4)/2/λM1^2*λM2\n",
    "#     return e1,e2,e3,e4\n",
    "end"
   ]
  },
  {
   "cell_type": "code",
   "execution_count": 9,
   "metadata": {
    "code_folding": [
     0
    ]
   },
   "outputs": [
    {
     "name": "stdout",
     "output_type": "stream",
     "text": [
      "e = -4.0210550658311774 + 1.0861923644478373e-11im\n"
     ]
    },
    {
     "data": {
      "text/plain": [
       "-4.0210550658311774 + 1.0861923644478373e-11im"
      ]
     },
     "execution_count": 9,
     "metadata": {},
     "output_type": "execute_result"
    }
   ],
   "source": [
    "#test\n",
    "C1 = L1 * R1\n",
    "C2 = L2 * R2\n",
    "# FR1 ./= @tensor scalar(FL2[c,b,a]*C1[a,a']*conj(C1[c,c'])*FR1[a',b,c']) \n",
    "# FR2 ./= @tensor scalar(FL1[c,b,a]*C2[a,a']*conj(C2[c,c'])*FR2[a',b,c'])\n",
    "# e1,e2,e3,e4 = energy(M1, M2, ME1, ME2, ME3, ME4, AL1, AL2, C1, C2, AR1, AR2, FL1, FL2, FL3, FL4, FR1, FR2, FR3, FR4)\n",
    "# @show norm(e1-e2),norm(e3-e4)\n",
    "e = energy(M1, M2, ME1, ME2, ME3, ME4, AL1, AL2, C1, C2, AR1, AR2, FL1, FL2, FL3, FL4, FR1, FR2, FR3, FR4,λM1,λM2)\n",
    "@show e"
   ]
  },
  {
   "cell_type": "markdown",
   "metadata": {},
   "source": [
    "## VUMPS\n",
    "### 单格点\n",
    "单格点VUMPS变分极值条件为\n",
    "<img src=\"figure/14.png\" width=\"30%\">\n",
    "### J1-J2\n",
    "定义$C1 = L1 \\cdot R1$，$AC1 = AL1\\cdot C1$，J1-J2 VUMPS变分极值条件为\n",
    "<img src=\"figure/28.png\" width=\"30%\">"
   ]
  },
  {
   "cell_type": "code",
   "execution_count": 10,
   "metadata": {
    "code_folding": [
     0
    ]
   },
   "outputs": [
    {
     "data": {
      "text/plain": [
       "vumps (generic function with 1 method)"
      ]
     },
     "execution_count": 10,
     "metadata": {},
     "output_type": "execute_result"
    }
   ],
   "source": [
    "# vumps\n",
    "function applyH1(AC, FL1, FL2, FR1, FR2, M1, M2)\n",
    "    @tensor X1[α,s,β] := FL1[α,a,α']*AC[α',s',β']*M1[a,s,b,s']*FR1[β',b,β]\n",
    "    @tensor X2[α,s,β] := FL2[α,a,α']*X1[α',s',β']*M2[a,s,b,s']*FR2[β',b,β]\n",
    "    return X2\n",
    "end\n",
    "\n",
    "function applyH0(C, FL1, FL2, FR1, FR2)\n",
    "    @tensor X1[α,β] := FL1[α,a,α']*C[α',β']*FR1[β',a,β]\n",
    "    @tensor X2[α,β] := FL2[α,a,α']*X1[α',β']*FR2[β',a,β]\n",
    "    return X2\n",
    "end\n",
    "\n",
    "\n",
    "\"\"\"\n",
    "    function vumpsstep(AL, C, AR, FL, FR; kwargs...)\n",
    "\n",
    "Perform one step of the VUMPS algorithm\n",
    "\"\"\"\n",
    "function vumpsstep(AL,C,FL1,FL2,FR1,FR2,M1,M2;kwargs...)\n",
    "    D,d, = size(AL)\n",
    "    @tensor AC[a,s,b] := AL[a,s,c] * C[c, b]\n",
    "    μACs, ACs, = eigsolve(x->applyH1(x, FL1, FL2, FR1, FR2, M1, M2), AC, 1, :LM; ishermitian = false, maxiter = 1, kwargs...)\n",
    "    μCs, Cs, = eigsolve(x->applyH0(x, FL1, FL2, FR1, FR2), C, 1; ishermitian = false, maxiter = 1, kwargs...)\n",
    "    λ = μACs[1]/μCs[1]\n",
    "    AC = ACs[1]\n",
    "    C = Cs[1]\n",
    "    \n",
    "    QAC, RAC = qrpos(reshape(AC,(D*d, D)))\n",
    "    QC, RC = qrpos(C)\n",
    "    AL = reshape(QAC*QC', (D, d, D))\n",
    "    errL = norm(RAC-RC)\n",
    "    \n",
    "    return λ, AL, C, errL\n",
    "end\n",
    "\n",
    "function getAR(AC,C)\n",
    "    D,d, = size(AC)\n",
    "    LAC, QAC = lqpos(reshape(AC,(D, d*D)))\n",
    "    LC, QC = lqpos(C)\n",
    "    AR = reshape(QC'*QAC, (D, d, D))\n",
    "    errR = norm(LAC-LC)\n",
    "    return AR, errR\n",
    "end\n",
    "    \n",
    "function erro(AL,C, FL1, FL2, FR1, FR2, M1, M2)\n",
    "    @tensor AC[a,s,b] := AL[a,s,b']*C[b',b]\n",
    "    MAC = applyH1(AC, FL1, FL2, FR1, FR2, M1, M2)\n",
    "    @tensor MAC[a,s,b] -= AL[a,s,b']*(conj(AL[a',s',b'])*MAC[a',s',b])\n",
    "    err = norm(MAC)\n",
    "    return err\n",
    "end\n",
    "    \n",
    "function vumps(A1, A2, M1, M2;test = true, verbose = true, tol = 1e-6, maxiter = 100, kwargs...)\n",
    "    AL1,L1,λL1 = leftorth(A1)\n",
    "    AL2,L2,λL2 = leftorth(A2)\n",
    "    R1,AR1,λR1 = rightorth(A1)\n",
    "    R2,AR2,λR2 = rightorth(A2)\n",
    "\n",
    "    FL1, FL2,λL1,λL2 = leftenv(AL1, AL2, M1, M2)\n",
    "    FR1, FR2,λR1,λR2 = rightenv(AR1, AR2, M1, M2)\n",
    "    \n",
    "    if test == true\n",
    "        verbose && println(\"Starting point has λL1 = $λL1 ,λL2 =  $λL2\n",
    "                        λR1 = $λR1 ,λR2 =  $λR2\")\n",
    "    end\n",
    "    C1 = L1 * R1\n",
    "    C2 = L2 * R2\n",
    "\n",
    "    λ1, AL1, C1, errL1 = vumpsstep(AL1,C1,FL1,FL2,FR1,FR2,M1,M2;tol = tol/10)\n",
    "    λ2, AL2, C2, errL2 = vumpsstep(AL2,C2,FL2,FL1,FR2,FR1,M2,M1;tol = tol/10)\n",
    "    @tensor AC1[a,s,b] := AL1[a,s,c] * C1[c, b]\n",
    "    @tensor AC2[a,s,b] := AL2[a,s,c] * C2[c, b]\n",
    "    AR1, errR1 = getAR(AC1,C1)\n",
    "    AR2, errR2 = getAR(AC2,C2)\n",
    "    \n",
    "    FL1, FL2,λL1,λL2 = leftenv(AL1, AL2, M1, M2,tol = tol/10)\n",
    "    FR1, FR2,λR1,λR2 = rightenv(AR1, AR2, M1, M2,tol = tol/10)\n",
    "#     FR1 ./= @tensor scalar(FL2[c,b,a]*C1[a,a']*conj(C1[c,c'])*FR1[a',b,c']) \n",
    "#     FR2 ./= @tensor scalar(FL1[c,b,a]*C2[a,a']*conj(C2[c,c'])*FR2[a',b,c']) # normalize FL and FR: not really necessary\n",
    "\n",
    "    # Convergence measure: norm of the projection of the residual onto the tangent space\n",
    "    err1 = erro(AL1, C1, FL1, FL2, FR1, FR2, M1, M2)\n",
    "    err2 = erro(AL2, C2, FL2, FL1, FR2, FR1, M2, M1)\n",
    "    i = 1\n",
    "    λL =  λL1 * λL2\n",
    "    if test == true\n",
    "        verbose && println(\"Step $i: \n",
    "                                    λL1 * λL2 = $λL,\n",
    "                                    λ1 = $λ1,\n",
    "                                    λ2 = $λ2, \n",
    "                                    err1 ≈ $err1, \n",
    "                                    err2 ≈ $err2\")\n",
    "    end\n",
    "    while (err1 > tol || err2 > tol) && i < maxiter\n",
    "        λ1, AL1, C1, errL1 = vumpsstep(AL1,C1,FL1,FL2,FR1,FR2,M1,M2;tol = tol/10)\n",
    "        λ2, AL2, C2, errL2 = vumpsstep(AL2,C2,FL2,FL1,FR2,FR1,M2,M1;tol = tol/10)\n",
    "        @tensor AC1[a,s,b] := AL1[a,s,c] * C1[c, b]\n",
    "        @tensor AC2[a,s,b] := AL2[a,s,c] * C2[c, b]\n",
    "        AR1, errR1 = getAR(AC1,C1)\n",
    "        AR2, errR2 = getAR(AC2,C2)\n",
    "\n",
    "        FL1, FL2,λL1,λL2 = leftenv(AL1, AL2, M1, M2,tol = tol/10)\n",
    "        FR1, FR2,λR1,λR2 = rightenv(AR1, AR2, M1, M2,tol = tol/10)\n",
    "    #     FR1 ./= @tensor scalar(FL2[c,b,a]*C1[a,a']*conj(C1[c,c'])*FR1[a',b,c']) \n",
    "    #     FR2 ./= @tensor scalar(FL1[c,b,a]*C2[a,a']*conj(C2[c,c'])*FR2[a',b,c']) # normalize FL and FR: not really necessary\n",
    "\n",
    "        # Convergence measure: norm of the projection of the residual onto the tangent space\n",
    "        err1 = erro(AL1, C1, FL1, FL2, FR1, FR2, M1, M2)\n",
    "        err2 = erro(AL2, C2, FL2, FL1, FR2, FR1, M2, M1)\n",
    "        i += 1\n",
    "        λ =  λ1 * λ2\n",
    "        if test == true\n",
    "            verbose && println(\"Step $i: \n",
    "                                        λL1 * λL2 = $λL,\n",
    "                                        λ1 = $λ1,\n",
    "                                        λ2 = $λ2, \n",
    "                                        err1 ≈ $err1, \n",
    "                                        err2 ≈ $err2\")\n",
    "        end\n",
    "    end\n",
    "    FL3, FL4,λL3,λL4 = leftenv4(AL1, AL2, M1, M2)\n",
    "    FR3, FR4,λR3,λR4 = rightenv4(AR1, AR2, M1, M2)\n",
    "    return λ1, λ2, AL1, AL2, C1, C2, AR1, AR2, FL1, FL2, FL3, FL4, FR1, FR2, FR3, FR4\n",
    "end"
   ]
  },
  {
   "cell_type": "code",
   "execution_count": 11,
   "metadata": {
    "code_folding": [
     0
    ]
   },
   "outputs": [
    {
     "name": "stdout",
     "output_type": "stream",
     "text": [
      "Starting point has λL1 = 0.2931912694924407 + 0.001053483092797236im ,λL2 =  0.29319126949242424 - 0.0010534830927976524im\n",
      "                        λR1 = 0.2931912694924422 + 0.0010534830928054517im ,λR2 =  0.29319126949244234 - 0.0010534830928011496im\n",
      "Step 1: \n",
      "                                    λL1 * λL2 = 0.20487348714454623 - 5.310422240834001e-16im,\n",
      "                                    λ1 = 0.2050444070067148 + 6.350012450777274e-16im,\n",
      "                                    λ2 = 0.20504440700671545 + 6.220420359945097e-16im, \n",
      "                                    err1 ≈ 0.00019369880521139264, \n",
      "                                    err2 ≈ 0.0013149745720785035\n",
      "Step 2: \n",
      "                                        λL1 * λL2 = 0.20487348714454623 - 5.310422240834001e-16im,\n",
      "                                        λ1 = 0.20492078868521096 - 1.0602774520470227e-16im,\n",
      "                                        λ2 = 0.20492078868521066 - 1.5904161780705338e-16im, \n",
      "                                        err1 ≈ 4.801165413035868e-8, \n",
      "                                        err2 ≈ 3.237900528158536e-7\n",
      "Step 3: \n",
      "                                        λL1 * λL2 = 0.20487348714454623 - 5.310422240834001e-16im,\n",
      "                                        λ1 = 0.2049207886977585 - 8.029990789050258e-18im,\n",
      "                                        λ2 = 0.20492078869775904 + 7.226991710145246e-17im, \n",
      "                                        err1 ≈ 6.365725051110345e-14, \n",
      "                                        err2 ≈ 2.7758675291161042e-14\n",
      "eMPS = -4.052553981778118 - 3.7953425188177084e-16im\n"
     ]
    },
    {
     "data": {
      "text/plain": [
       "-4.052553981778118 - 3.7953425188177084e-16im"
      ]
     },
     "execution_count": 11,
     "metadata": {},
     "output_type": "execute_result"
    }
   ],
   "source": [
    "# test expectation \n",
    "λ1, λ2, AL1, AL2, C1, C2, AR1, AR2, FL1, FL2, FL3, FL4, FR1, FR2, FR3, FR4 = vumps(A1,A2,M1,M2; tol = 1e-12)\n",
    "\n",
    "eMPS = energy(M1, M2, ME1, ME2, ME3, ME4, AL1, AL2, C1, C2, AR1, AR2, FL1, FL2, FL3, FL4, FR1, FR2, FR3, FR4,λM1,λM2)\n",
    "@show eMPS"
   ]
  },
  {
   "cell_type": "markdown",
   "metadata": {},
   "source": [
    "## 程序检验\n",
    "### J1-J2 MC"
   ]
  },
  {
   "cell_type": "code",
   "execution_count": 12,
   "metadata": {
    "code_folding": [
     0
    ]
   },
   "outputs": [
    {
     "data": {
      "text/plain": [
       "energy (generic function with 2 methods)"
      ]
     },
     "execution_count": 12,
     "metadata": {},
     "output_type": "execute_result"
    }
   ],
   "source": [
    "#J1-J2 MC\n",
    "function e_dif1( array, lattice, x, y, r)\n",
    "    top     = array[x,y - 1 + lattice * (y==1)];\n",
    "    bottom  = array[x, y + 1 - lattice * (y==lattice)];\n",
    "    left    = r * array[x - 1 + lattice * (x==1), y];\n",
    "    right   = array[x + 1 - lattice * (x==lattice), y];\n",
    "    return 2 * array[x, y] * (left+right+top+bottom)\n",
    "end\n",
    "\n",
    "function e_dif2( array, lattice, x, y, r)\n",
    "    top     = array[x,y - 1 + lattice * (y==1)];\n",
    "    bottom  = array[x, y + 1 - lattice * (y==lattice)];\n",
    "    left    = array[x - 1 + lattice * (x==1), y];\n",
    "    right   = r * array[x + 1 - lattice * (x==lattice), y];\n",
    "    return 2 * array[x, y] * (left+right+top+bottom)\n",
    "end\n",
    "\n",
    "function onestep!(spin_array, lattice, β, r)\n",
    "    for i = 1:lattice\n",
    "        for j = 1:lattice\n",
    "            if mod(i,2) == 1\n",
    "                e = e_dif1(spin_array, lattice, i, j, r)\n",
    "            else\n",
    "                e = e_dif2(spin_array, lattice, i, j, r)\n",
    "            end\n",
    "            if e <= 0\n",
    "                spin_array[i,j] = -spin_array[i,j];\n",
    "            elseif exp(-e*β) > rand()\n",
    "                spin_array[i,j] = -spin_array[i,j];\n",
    "            end\n",
    "        end\n",
    "    end\n",
    "    return spin_array\n",
    "end\n",
    "\n",
    "function MC(lattice,β,r,Sweeps_heat,Sweeps)\n",
    "    spin_array = ones(lattice,lattice);  #初始化自旋全部为1\n",
    "    for j = 1:Sweeps_heat\n",
    "        spin_array = onestep!(spin_array,lattice ,β,r);#局部更新\n",
    "    end\n",
    "    mag = zeros(1,Sweeps);\n",
    "    ene = zeros(1,Sweeps);\n",
    "    for j = 1:Sweeps\n",
    "        spin_array = onestep!(spin_array,lattice ,β,r)\n",
    "        mag[j] = abs(sum(spin_array)/lattice^2)\n",
    "        ene[j] = energy(spin_array, lattice,r)/lattice^2\n",
    "    end\n",
    "    mag_ave = sum(mag)/Sweeps;\n",
    "    ene_ave = sum(ene)/Sweeps;\n",
    "    return mag_ave, ene_ave\n",
    "end \n",
    "\n",
    "function energy(spin_array, lattice, r)\n",
    "    tol_en = 0\n",
    "    for i = 1:lattice\n",
    "        for j = 1:lattice\n",
    "            if mod(i,2) == 1\n",
    "                e = e_dif1(spin_array, lattice, i, j, r)\n",
    "            else\n",
    "                e = e_dif2(spin_array, lattice, i, j, r)\n",
    "            end\n",
    "            tol_en += e\n",
    "        end\n",
    "    end\n",
    "    return -tol_en/4\n",
    "end"
   ]
  },
  {
   "cell_type": "code",
   "execution_count": 13,
   "metadata": {
    "code_folding": [
     0
    ]
   },
   "outputs": [
    {
     "data": {
      "image/png": "[encoded data removed]",
      "text/plain": [
       "Figure(PyObject <Figure size 640x480 with 2 Axes>)"
      ]
     },
     "metadata": {},
     "output_type": "display_data"
    },
    {
     "name": "stdout",
     "output_type": "stream",
     "text": [
      "  7.733560 seconds (456.18 k allocations: 496.239 MiB)\n"
     ]
    },
    {
     "data": {
      "text/plain": [
       "PyObject Text(309.97499999999997, 0.5, 'energy')"
      ]
     },
     "execution_count": 13,
     "metadata": {},
     "output_type": "execute_result"
    }
   ],
   "source": [
    "#test1\n",
    "lattice = 8;               #晶格大小\n",
    "Sweeps_heat = Int(1e4);       #热浴蒙卡次数\n",
    "Sweeps = Int(1e6);           #蒙卡次数\n",
    "βB = 0.1;                    #温度区间初始\n",
    "βE = 1;                    #温度区间末尾\n",
    "d = 0.03;                   #温度区间间隔\n",
    "steps = Int(round((βE-βB)/d+1));\n",
    "mag_ave = zeros(steps,1);\n",
    "ene_ave = zeros(steps,1);\n",
    "r = 3.0\n",
    "@time begin\n",
    "    Threads.@threads for i=1:steps\n",
    "        β = βB+ d*(i-1);\n",
    "        mag_ave[i], ene_ave[i] = MC(lattice,β,r,Sweeps_heat,Sweeps)\n",
    "    end\n",
    "end\n",
    "β=βB:d:βE\n",
    "subplots_adjust(wspace=0.5)\n",
    "suptitle(\"r = $r\")\n",
    "subplot(221)\n",
    "plot(β,mag_ave,\"r\")\n",
    "xlabel(\"β\")\n",
    "ylabel(\"magnetic\")\n",
    "\n",
    "subplot(222)\n",
    "plot(β,ene_ave,\"y\")\n",
    "xlabel(\"β\")\n",
    "ylabel(\"energy\")"
   ]
  },
  {
   "cell_type": "code",
   "execution_count": 14,
   "metadata": {
    "code_folding": []
   },
   "outputs": [
    {
     "name": "stdout",
     "output_type": "stream",
     "text": [
      "Starting point has λL1 = 0.24771254347450694 + 0.0002893900080365164im ,λL2 =  0.2477125434745135 - 0.0002893900080370229im\n",
      "                        λR1 = 0.24771254347451185 + 0.00028939000803465675im ,λR2 =  0.24771254347451171 - 0.000289390008038265im\n",
      "Step 1: \n",
      "                                    λL1 * λL2 = 0.1281975962384819 + 8.130757699065239e-11im,\n",
      "                                    λ1 = 0.1277732423782897 + 1.402393431412316e-15im,\n",
      "                                    λ2 = 0.12777324237828958 + 1.7353357568555236e-15im, \n",
      "                                    err1 ≈ 0.0010345868086057688, \n",
      "                                    err2 ≈ 0.000819883841741906\n",
      "Step 2: \n",
      "                                        λL1 * λL2 = 0.1281975962384819 + 8.130757699065239e-11im,\n",
      "                                        λ1 = 0.1286455817004881 - 1.0412110804647937e-15im,\n",
      "                                        λ2 = 0.1286455817004882 - 1.014166636816357e-15im, \n",
      "                                        err1 ≈ 2.9802233978737523e-7, \n",
      "                                        err2 ≈ 1.1920296036860907e-6\n",
      "Step 3: \n",
      "                                        λL1 * λL2 = 0.1281975962384819 + 8.130757699065239e-11im,\n",
      "                                        λ1 = 0.1286455807261569 + 5.425020842018772e-17im,\n",
      "                                        λ2 = 0.1286455807261569 - 8.877306832394353e-18im, \n",
      "                                        err1 ≈ 1.2876376925208095e-9, \n",
      "                                        err2 ≈ 8.54556683268292e-10\n"
     ]
    },
    {
     "data": {
      "image/png": "[encoded data removed]",
      "text/plain": [
       "Figure(PyObject <Figure size 640x480 with 1 Axes>)"
      ]
     },
     "metadata": {},
     "output_type": "display_data"
    },
    {
     "data": {
      "text/plain": [
       "PyObject Text(0.5, 1.0, 'β = 0.4186524538342829 \\n r = 10.0 \\n different = 0.00016136290889257054')"
      ]
     },
     "execution_count": 14,
     "metadata": {},
     "output_type": "execute_result"
    }
   ],
   "source": [
    "#test2\n",
    "β= 0.95*βc\n",
    "# β = 0.1\n",
    "r = 10.0\n",
    "lB = 4;                    \n",
    "lE = 32;                    \n",
    "ld = 4;                    \n",
    "steps = Int(round((lE-lB)/ld+1));\n",
    "eMC = zeros(steps,1)\n",
    "Threads.@threads for i=1:steps\n",
    "    lattice = lB+ ld*(i-1);\n",
    "    _, eMC[i] = MC(lattice,β,r,Int(1e5),Int(1e6))\n",
    "end\n",
    "\n",
    "M1, M2, ME1, ME2, ME3, ME4,λM1,λM2  = classicalisingmpo(β; r = r)\n",
    "D = 100\n",
    "Random.seed!(12345)\n",
    "A1 = randn(D, 2, D) + im*randn(D, 2, D)\n",
    "Random.seed!(12345)\n",
    "A2 = randn(D, 2, D) + im*randn(D, 2, D)\n",
    "λ1, λ2, AL1, AL2, C1, C2, AR1, AR2, FL1, FL2, FL3, FL4, FR1, FR2, FR3, FR4 = \n",
    "    vumps(A1,A2,M1,M2;tol = 1e-6,maxiter = 100)\n",
    "eMPS = energy(M1, M2, ME1, ME2, ME3, ME4, AL1, AL2, C1, C2, AR1, AR2, FL1, FL2, FL3, FL4, FR1, FR2, FR3, FR4,λM1,λM2 )\n",
    "different = abs(eMPS - eMC[steps])\n",
    "lattice = lB:ld:lE\n",
    "plot(lattice,eMC,\"+:\",color = \"b\",label = \"MC\")\n",
    "plot(lattice,real(fill(eMPS,steps,1)),\"*-\",color = \"r\",label = \"MPS\")\n",
    "legend(loc=\"best\")\n",
    "xlabel(\"lattice\")\n",
    "ylabel(\"energy\")\n",
    "title(\"β = $β \\n r = $r \\n different = $different\")"
   ]
  },
  {
   "cell_type": "markdown",
   "metadata": {},
   "source": [
    "### bond强度比例 r"
   ]
  },
  {
   "cell_type": "code",
   "execution_count": 16,
   "metadata": {
    "code_folding": [
     0
    ]
   },
   "outputs": [
    {
     "data": {
      "image/png": "[encoded data removed]",
      "text/plain": [
       "Figure(PyObject <Figure size 640x480 with 1 Axes>)"
      ]
     },
     "metadata": {},
     "output_type": "display_data"
    },
    {
     "data": {
      "text/plain": [
       "PyObject Text(0.5, 1.0, 'β = 0.22034339675488573')"
      ]
     },
     "execution_count": 16,
     "metadata": {},
     "output_type": "execute_result"
    }
   ],
   "source": [
    "#full test change r\n",
    "βc = log(1+sqrt(2))/2\n",
    "β = 0.5*βc\n",
    "rB = 1;                    \n",
    "rE = 10;                    \n",
    "rd = 1;                    \n",
    "steps = Int(round((rE-rB)/rd+1));\n",
    "eMC = zeros(steps,1)\n",
    "eMPS = zeros(steps,1)\n",
    "lattice = 32\n",
    "Threads.@threads for i=1:steps\n",
    "    r = rB+ rd*(i-1);\n",
    "    M1, M2, ME1, ME2, ME3, ME4,λM1,λM2 = classicalisingmpo(β; r = r)\n",
    "    D = 50\n",
    "    Random.seed!(12345)\n",
    "    A1 = randn(D, 2, D) + im*randn(D, 2, D)\n",
    "    Random.seed!(12345)\n",
    "    A2 = randn(D, 2, D) + im*randn(D, 2, D)\n",
    "    λ1, λ2, AL1, AL2, C1, C2, AR1, AR2, FL1, FL2, FL3, FL4, FR1, FR2, FR3, FR4 = \n",
    "        vumps(A1,A2,M1,M2;test = false,tol = 1e-6,maxiter = 100)\n",
    "    eMPS[i] = real(energy(M1, M2, ME1, ME2, ME3, ME4, AL1, AL2, C1, C2, AR1, AR2, FL1, FL2, FL3, FL4, FR1, FR2, FR3, FR4,λM1,λM2))\n",
    "    _, eMC[i] = MC(lattice,β,r,Int(1e4),Int(1e6))\n",
    "end\n",
    "r = rB:rd:rE\n",
    "plot(r,eMC,\"*-\",color = \"b\",label = \"MC\")\n",
    "plot(r,eMPS,\"+:\",color = \"r\",label = \"MPS\")\n",
    "legend(loc=\"best\")\n",
    "xlabel(\"r\")\n",
    "ylabel(\"energy\")\n",
    "title(\"β = $β\")"
   ]
  },
  {
   "cell_type": "markdown",
   "metadata": {},
   "source": [
    "### 温度 β"
   ]
  },
  {
   "cell_type": "code",
   "execution_count": 18,
   "metadata": {
    "code_folding": [
     0
    ]
   },
   "outputs": [
    {
     "data": {
      "image/png": "[encoded data removed]",
      "text/plain": [
       "Figure(PyObject <Figure size 640x480 with 1 Axes>)"
      ]
     },
     "metadata": {},
     "output_type": "display_data"
    },
    {
     "data": {
      "text/plain": [
       "PyObject Text(0.5, 1.0, 'r = 10.0')"
      ]
     },
     "execution_count": 18,
     "metadata": {},
     "output_type": "execute_result"
    }
   ],
   "source": [
    "#full test change β\n",
    "βc = log(1+sqrt(2))/2\n",
    "βB = 0.1;                    \n",
    "βE = 1;                    \n",
    "βd = 0.1;  \n",
    "r = 10.0\n",
    "steps = Int(round((βE-βB)/βd+1));\n",
    "eMC = zeros(steps,1)\n",
    "eMPS = zeros(steps,1)\n",
    "lattice = 32\n",
    "Threads.@threads for i=1:steps\n",
    "    β = βB+ βd*(i-1);\n",
    "    M1, M2, ME1, ME2, ME3, ME4,λM1,λM2 = classicalisingmpo(β; r = r)\n",
    "    D = 50\n",
    "    Random.seed!(12345)\n",
    "    A1 = randn(D, 2, D) + im*randn(D, 2, D)\n",
    "    Random.seed!(12345)\n",
    "    A2 = randn(D, 2, D) + im*randn(D, 2, D)\n",
    "    λ1, λ2, AL1, AL2, C1, C2, AR1, AR2, FL1, FL2, FL3, FL4, FR1, FR2, FR3, FR4 = \n",
    "        vumps(A1,A2,M1,M2;test = false,tol = 1e-6,maxiter = 100)\n",
    "    eMPS[i] = real(energy(M1, M2, ME1, ME2, ME3, ME4, AL1, AL2, C1, C2, AR1, AR2, FL1, FL2, FL3, FL4, FR1, FR2, FR3, FR4,λM1,λM2))\n",
    "    _, eMC[i] = MC(lattice,β,r,Int(1e4),Int(1e6))\n",
    "end\n",
    "β = βB:βd:βE\n",
    "plot(β,eMC,\"*-\",color = \"b\",label = \"MC\")\n",
    "plot(β,eMPS,\"+:\",color = \"r\",label = \"MPS\")\n",
    "legend(loc=\"best\")\n",
    "xlabel(\"β\")\n",
    "ylabel(\"energy\")\n",
    "title(\"r = $r\")"
   ]
  }
 ],
 "metadata": {
  "kernelspec": {
   "display_name": "Julia 1.5.1",
   "language": "julia",
   "name": "julia-1.5"
  },
  "language_info": {
   "file_extension": ".jl",
   "mimetype": "application/julia",
   "name": "julia",
   "version": "1.5.1"
  },
  "toc": {
   "base_numbering": 1,
   "nav_menu": {},
   "number_sections": true,
   "sideBar": true,
   "skip_h1_title": true,
   "title_cell": "Table of Contents",
   "title_sidebar": "Contents",
   "toc_cell": true,
   "toc_position": {
    "height": "calc(100% - 180px)",
    "left": "10px",
    "top": "150px",
    "width": "255.975px"
   },
   "toc_section_display": true,
   "toc_window_display": true
  },
  "varInspector": {
   "cols": {
    "lenName": 16,
    "lenType": 16,
    "lenVar": 40
   },
   "kernels_config": {
    "python": {
     "delete_cmd_postfix": "",
     "delete_cmd_prefix": "del ",
     "library": "var_list.py",
     "varRefreshCmd": "print(var_dic_list())"
    },
    "r": {
     "delete_cmd_postfix": ") ",
     "delete_cmd_prefix": "rm(",
     "library": "var_list.r",
     "varRefreshCmd": "cat(var_dic_list()) "
    }
   },
   "types_to_exclude": [
    "module",
    "function",
    "builtin_function_or_method",
    "instance",
    "_Feature"
   ],
   "window_display": false
  }
 },
 "nbformat": 4,
 "nbformat_minor": 2
}
