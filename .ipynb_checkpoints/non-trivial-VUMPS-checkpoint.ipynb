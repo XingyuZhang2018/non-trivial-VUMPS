{
 "cells": [
  {
   "cell_type": "markdown",
   "metadata": {
    "toc": true
   },
   "source": [
    "<h1>Table of Contents<span class=\"tocSkip\"></span></h1>\n",
    "<div class=\"toc\"><ul class=\"toc-item\"><li><span><a href=\"#J1-J2棋盘格模型\" data-toc-modified-id=\"J1-J2棋盘格模型-1\"><span class=\"toc-item-num\">1&nbsp;&nbsp;</span>J1-J2棋盘格模型</a></span></li><li><span><a href=\"#格点MPO\" data-toc-modified-id=\"格点MPO-2\"><span class=\"toc-item-num\">2&nbsp;&nbsp;</span>格点MPO</a></span></li><li><span><a href=\"#程序检验\" data-toc-modified-id=\"程序检验-3\"><span class=\"toc-item-num\">3&nbsp;&nbsp;</span>程序检验</a></span><ul class=\"toc-item\"><li><span><a href=\"#J1-J2-MC\" data-toc-modified-id=\"J1-J2-MC-3.1\"><span class=\"toc-item-num\">3.1&nbsp;&nbsp;</span>J1-J2 MC</a></span></li><li><span><a href=\"#bond强度比例-r\" data-toc-modified-id=\"bond强度比例-r-3.2\"><span class=\"toc-item-num\">3.2&nbsp;&nbsp;</span>bond强度比例 r</a></span></li><li><span><a href=\"#温度-β\" data-toc-modified-id=\"温度-β-3.3\"><span class=\"toc-item-num\">3.3&nbsp;&nbsp;</span>温度 β</a></span></li></ul></li></ul></div>"
   ]
  },
  {
   "cell_type": "markdown",
   "metadata": {
    "heading_collapsed": true,
    "slideshow": {
     "slide_type": "-"
    }
   },
   "source": [
    "## J1-J2棋盘格模型\n",
    "横向纵向连接耦合强度为$J_1,J_2$交替排布，形成红色正方形和黑色正方形棋盘格\n",
    "<img src=\"figure/29.png\" width=\"40%\">"
   ]
  },
  {
   "cell_type": "markdown",
   "metadata": {},
   "source": [
    "## 格点MPO\n",
    "权重张量为$M$\n",
    "<img src=\"figure/30.png\" width=\"25%\">\n",
    "红色连接上张量为\n",
    "$\\exp(-J_2 h_{ij})$, $J_2 = r J_1$\n",
    "\n",
    "要收缩的目标张量Z2为\n",
    "<img src=\"figure/31.png\" width=\"25%\">\n",
    "\n",
    "能量权重张量为$ME$\n",
    "<img src=\"figure/32.png\" width=\"25%\">"
   ]
  },
  {
   "cell_type": "code",
   "execution_count": 20,
   "metadata": {
    "code_folding": []
   },
   "outputs": [
    {
     "data": {
      "text/plain": [
       "MutiMC (generic function with 1 method)"
      ]
     },
     "execution_count": 20,
     "metadata": {},
     "output_type": "execute_result"
    }
   ],
   "source": [
    "# call library\n",
    "using LinearAlgebra, TensorOperations, KrylovKit, Random, Statistics, PyPlot, ProgressMeter, Test\n",
    "\n",
    "include(\"src\\\\nontrivialVUMPS.jl\")\n",
    "include(\"src\\\\muti-MC.jl\")"
   ]
  },
  {
   "cell_type": "code",
   "execution_count": 21,
   "metadata": {},
   "outputs": [
    {
     "name": "stdout",
     "output_type": "stream",
     "text": [
      "Step 1: err ≈ 0.0015134835672206198\n",
      "Step 2: err ≈ 6.553469870262331e-9\n",
      "\u001b[37m\u001b[1mTest Summary: | \u001b[22m\u001b[39m\u001b[32m\u001b[1mPass  \u001b[22m\u001b[39m\u001b[36m\u001b[1mTotal\u001b[22m\u001b[39m\n",
      "M,Me          | \u001b[32m   1  \u001b[39m\u001b[36m    1\u001b[39m\n"
     ]
    },
    {
     "data": {
      "text/plain": [
       "Test.DefaultTestSet(\"M,Me\", Any[Test.DefaultTestSet(\"vumps test β=0.1 r=1\", Any[], 1, false)], 0, false)"
      ]
     },
     "execution_count": 21,
     "metadata": {},
     "output_type": "execute_result"
    }
   ],
   "source": [
    "@testset \"M,Me\" begin\n",
    "    include(\"test\\\\r=1.jl\")\n",
    "end"
   ]
  },
  {
   "cell_type": "code",
   "execution_count": 12,
   "metadata": {},
   "outputs": [
    {
     "name": "stdout",
     "output_type": "stream",
     "text": [
      "Step 1: err ≈ 4.71087793880508e-11\n"
     ]
    },
    {
     "data": {
      "text/plain": [
       "-1.905158165401773 - 0.4250749294023167im"
      ]
     },
     "execution_count": 12,
     "metadata": {},
     "output_type": "execute_result"
    }
   ],
   "source": [
    "Ni = 2\n",
    "Nj = 2\n",
    "D = 50\n",
    "A = Array{Array,2}(undef, Ni, Nj)\n",
    "for i = 1:Ni,j = 1:Nj\n",
    "    Random.seed!(1234)\n",
    "    A[i,j] = randn(D, 2, D) + im*randn(D, 2, D)\n",
    "end\n",
    "\n",
    "M, ME,λM,λME = classicalisingmpo(5; r = 1)\n",
    "λ, AL, C, AR, FL3, FR3, FL4, FR4 = vumps(A, M;verbose = true, tol = 1e-6, maxiter = 100)\n",
    "eMPS = energy(M, ME, AL, C, AR, FL3,FL4, FR3, FR4,λM,λME)"
   ]
  },
  {
   "cell_type": "markdown",
   "metadata": {},
   "source": [
    "## 程序检验\n",
    "### J1-J2 MC"
   ]
  },
  {
   "cell_type": "code",
   "execution_count": 5,
   "metadata": {
    "code_folding": []
   },
   "outputs": [
    {
     "data": {
      "image/png": "[encoded data removed]",
      "text/plain": [
       "Figure(PyObject <Figure size 640x480 with 1 Axes>)"
      ]
     },
     "metadata": {},
     "output_type": "display_data"
    },
    {
     "name": "stdout",
     "output_type": "stream",
     "text": [
      " 31.694779 seconds (1.59 G allocations: 69.204 GiB, 41.73% gc time)\n"
     ]
    },
    {
     "data": {
      "text/plain": [
       "PyObject Text(24.000000000000007, 0.5, 'energy')"
      ]
     },
     "execution_count": 5,
     "metadata": {},
     "output_type": "execute_result"
    }
   ],
   "source": [
    "#test1\n",
    "lattice = 8;               #晶格大小\n",
    "Sweeps_heat = Int(1e3);       #热浴蒙卡次数\n",
    "Sweeps = Int(1e4);           #蒙卡次数\n",
    "βB = 0.1;                    #温度区间初始\n",
    "βE = 1;                    #温度区间末尾\n",
    "d = 0.03;                   #温度区间间隔\n",
    "steps = Int(round((βE-βB)/d+1));\n",
    "# mag_ave = zeros(steps,1);  \n",
    "ene_ave = zeros(steps,1);\n",
    "r = 3.0\n",
    "@time begin\n",
    "    Threads.@threads for i=1:steps\n",
    "        β = βB+ d*(i-1);\n",
    "        ene_ave[i] = MC(lattice,β,r,Sweeps_heat,Sweeps)\n",
    "    end\n",
    "end\n",
    "β=βB:d:βE\n",
    "# subplots_adjust(wspace=0.5)\n",
    "# suptitle(\"r = $r\")\n",
    "# subplot(221)\n",
    "# plot(β,mag_ave,\"r\")\n",
    "# xlabel(\"β\")\n",
    "# ylabel(\"magnetic\")\n",
    "\n",
    "# subplot(222)\n",
    "title(\"r = $r\")\n",
    "plot(β,ene_ave,\"y\")\n",
    "xlabel(\"β\")\n",
    "ylabel(\"energy\")"
   ]
  },
  {
   "cell_type": "code",
   "execution_count": null,
   "metadata": {
    "code_folding": []
   },
   "outputs": [],
   "source": [
    "#test4 muti-data\n",
    "β= 0.1\n",
    "lattice = 32\n",
    "lB = 1;                    \n",
    "lE = 10;                    \n",
    "ld = 1;\n",
    "steps = Int(round((lE-lB)/ld+1));\n",
    "eMC = zeros(steps,1)\n",
    "err = zeros(steps,1)\n",
    "eMPS = zeros(steps,1)\n",
    "Bins = 10\n",
    "bins = 10\n",
    "Sweeps_heat = Int(1e4)\n",
    "Sweeps = Int(1e5)\n",
    "\n",
    "Ni = 2\n",
    "Nj = 2\n",
    "D = 50\n",
    "A = Array{Array,2}(undef, Ni, Nj)\n",
    "\n",
    "@time begin\n",
    "    for i=1:steps\n",
    "        r = lB+ ld*(i-1);\n",
    "        println(\"r  = $r \")\n",
    "        eMC[i],err[i] = MutiMC(β,r,lattice,Bins,bins,Sweeps_heat,Sweeps)\n",
    "        M, ME,λM,λME = classicalisingmpo(β; r = r)\n",
    "        for i = 1:Ni,j = 1:Nj\n",
    "            Random.seed!(1234)\n",
    "            A[i,j] = randn(D, 2, D) + im*randn(D, 2, D)\n",
    "        end\n",
    "        λ, AL, C, AR, FL3, FR3, FL4, FR4 = vumps(A, M;verbose = true, tol = 1e-6, maxiter = 100)\n",
    "        eMPS[i] = real(energy(M, ME, AL, C, AR, FL3,FL4, FR3, FR4,λM,λME))\n",
    "    end\n",
    "end\n",
    "\n",
    "r = lB:ld:lE\n",
    "errorbar(r,reshape(eMC,steps,),yerr = reshape(err,steps,),marker=\"s\", mfc=\"red\",\n",
    "                 mec=\"green\", ms=20, mew=4)\n",
    "plot(r,eMPS,\"*-\",color = \"r\",label = \"MPS\")\n",
    "legend(loc=\"best\")\n",
    "xlabel(\"r\")\n",
    "ylabel(\"energy\")"
   ]
  },
  {
   "cell_type": "code",
   "execution_count": 2,
   "metadata": {},
   "outputs": [
    {
     "name": "stdout",
     "output_type": "stream",
     "text": [
      "r  = 1 \n"
     ]
    },
    {
     "name": "stderr",
     "output_type": "stream",
     "text": [
      "\u001b[32mProgress: 100%|█████████████████████████████████████████| Time: 0:00:00\u001b[39m\n"
     ]
    },
    {
     "name": "stdout",
     "output_type": "stream",
     "text": [
      "r  = 2 \n",
      "r  = 3 \n",
      "r  = 4 \n",
      "r  = 5 \n"
     ]
    },
    {
     "data": {
      "image/png": "[encoded data removed]",
      "text/plain": [
       "Figure(PyObject <Figure size 640x480 with 1 Axes>)"
      ]
     },
     "metadata": {},
     "output_type": "display_data"
    },
    {
     "name": "stdout",
     "output_type": "stream",
     "text": [
      "  1.361280 seconds (3.48 M allocations: 175.787 MiB, 2.38% gc time)\n"
     ]
    },
    {
     "name": "stderr",
     "output_type": "stream",
     "text": [
      "No handles with labels found to put in legend.\r\n"
     ]
    },
    {
     "data": {
      "text/plain": [
       "PyObject Text(24.000000000000007, 0.5, 'energy')"
      ]
     },
     "execution_count": 2,
     "metadata": {},
     "output_type": "execute_result"
    }
   ],
   "source": [
    "#test4 muti-data\n",
    "β= 0.1\n",
    "lattice = 32\n",
    "lB = 1;                    \n",
    "lE = 5;                    \n",
    "ld = 1;\n",
    "steps = Int(round((lE-lB)/ld+1));\n",
    "eMC = zeros(steps,1)\n",
    "err = zeros(steps,1)\n",
    "eMPS = zeros(steps,1)\n",
    "Bins = 10\n",
    "bins = 10\n",
    "Sweeps_heat = Int(1e1)\n",
    "Sweeps = Int(1e2)\n",
    "\n",
    "Ni = 2\n",
    "Nj = 2\n",
    "D = 50\n",
    "A = Array{Array,2}(undef, Ni, Nj)\n",
    "for i = 1:Ni,j = 1:Nj\n",
    "    Random.seed!(1234)\n",
    "    A[i,j] = randn(D, 2, D) + im*randn(D, 2, D)\n",
    "end\n",
    "\n",
    "@time begin\n",
    "    for i=1:steps\n",
    "        r = lB+ ld*(i-1);\n",
    "        println(\"r  = $r \")\n",
    "        eMC[i],err[i] = MutiMC(β,r,lattice,Bins,bins,Sweeps_heat,Sweeps)\n",
    "#         M, ME,λM,λME = classicalisingmpo(β; r = r)\n",
    "#         λ, AL, C, AR, FL3, FR3, FL4, FR4 = vumps(A, M;verbose = true, tol = 1e-6, maxiter = 100)\n",
    "#         eMPS[i] = real(energy(M, ME, AL, C, AR, FL3,FL4, FR3, FR4,λM,λME))\n",
    "    end\n",
    "end\n",
    "\n",
    "r = lB:ld:lE\n",
    "errorbar(r,reshape(eMC,steps,),yerr = reshape(err,steps,),marker=\"s\", mfc=\"red\",\n",
    "                 mec=\"green\", ms=20, mew=4)\n",
    "# plot(r,eMPS,\"*-\",color = \"r\",label = \"MPS\")\n",
    "legend(loc=\"best\")\n",
    "xlabel(\"r\")\n",
    "ylabel(\"energy\")"
   ]
  },
  {
   "cell_type": "code",
   "execution_count": 5,
   "metadata": {},
   "outputs": [
    {
     "data": {
      "text/plain": [
       "(1, 0)"
      ]
     },
     "execution_count": 5,
     "metadata": {},
     "output_type": "execute_result"
    }
   ],
   "source": [
    "a , b = mod(5,2), mod(4,2)"
   ]
  },
  {
   "cell_type": "markdown",
   "metadata": {},
   "source": [
    "### bond强度比例 r"
   ]
  },
  {
   "cell_type": "code",
   "execution_count": 57,
   "metadata": {
    "code_folding": [
     0
    ]
   },
   "outputs": [
    {
     "name": "stdout",
     "output_type": "stream",
     "text": [
      "r = 50\n",
      "r = 90\n",
      "r = 70\n",
      "r = 0\n",
      "r = 100\n",
      "r = 10\n",
      "r = 60\n",
      "r = 20\n",
      "r = 40\n",
      "r = 30\n",
      "r = 80\n"
     ]
    },
    {
     "data": {
      "image/png": "[encoded data removed]",
      "text/plain": [
       "Figure(PyObject <Figure size 640x480 with 1 Axes>)"
      ]
     },
     "metadata": {},
     "output_type": "display_data"
    },
    {
     "data": {
      "text/plain": [
       "PyObject Text(0.5, 1.0, 'β = 0.1')"
      ]
     },
     "execution_count": 57,
     "metadata": {},
     "output_type": "execute_result"
    }
   ],
   "source": [
    "#full test change r\n",
    "βc = log(1+sqrt(2))/2\n",
    "β = 0.1\n",
    "rB = 0;                    \n",
    "rE = 100;                    \n",
    "rd = 10;                    \n",
    "steps = Int(round((rE-rB)/rd+1));\n",
    "eMC = zeros(steps,1)\n",
    "eMC_std = zeros(steps,1)\n",
    "eMPS = zeros(steps,1)\n",
    "lattice = 8\n",
    "bins = 10\n",
    "Threads.@threads for i=1:steps\n",
    "    r = rB+ rd*(i-1);\n",
    "    println(\"r = $r\")\n",
    "    M1, M2, ME1, ME2, ME3, ME4,λM1,λM2 = classicalisingmpo(β; r = r)\n",
    "    D = 50\n",
    "    A1 = randn(D, 2, D) + im*randn(D, 2, D)\n",
    "    A2 = A1\n",
    "    λ1, λ2, AL1, AL2, C1, C2, AR1, AR2, FL1, FL2, FL3, FL4, FR1, FR2, FR3, FR4 = \n",
    "        vumps(A1,A2,M1,M2;test = false,tol = 1e-12,maxiter = 100)\n",
    "    eMPS[i] = real(energy(M1, M2, ME1, ME2, ME3, ME4, AL1, AL2, C1, C2, AR1, AR2, FL1, FL2, FL3, FL4, FR1, FR2, FR3, FR4,λM1,λM2))\n",
    "    eMC_bins = zeros(bins,1)\n",
    "    for j = 1:bins\n",
    "        eMC_bins[j] = MC(lattice,β,r,Int(1e3),Int(1e4))\n",
    "    end\n",
    "    eMC[i] = sum(eMC_bins) / bins\n",
    "    eMC_std[i]= std(eMC_bins)\n",
    "end\n",
    "r = rB:rd:rE\n",
    "plot(r,eMC,\"*-\",color = \"b\",label = \"MC\")\n",
    "# plot(r,eMC_std,\".:\",color = \"g\",label = \"MC_std\")\n",
    "plot(r,eMPS,\"+:\",color = \"r\",label = \"MPS\")\n",
    "legend(loc=\"best\")\n",
    "xlabel(\"r\")\n",
    "ylabel(\"energy\")\n",
    "title(\"β = $β\")"
   ]
  },
  {
   "cell_type": "markdown",
   "metadata": {},
   "source": [
    "### 温度 β"
   ]
  },
  {
   "cell_type": "code",
   "execution_count": 29,
   "metadata": {
    "code_folding": [
     0
    ]
   },
   "outputs": [
    {
     "data": {
      "image/png": "[encoded data removed]",
      "text/plain": [
       "Figure(PyObject <Figure size 640x480 with 1 Axes>)"
      ]
     },
     "metadata": {},
     "output_type": "display_data"
    },
    {
     "data": {
      "text/plain": [
       "PyObject Text(0.5, 1.0, 'r = 10.0')"
      ]
     },
     "execution_count": 29,
     "metadata": {},
     "output_type": "execute_result"
    }
   ],
   "source": [
    "#full test change β\n",
    "βc = log(1+sqrt(2))/2\n",
    "βB = 0.1;                    \n",
    "βE = 1;                    \n",
    "βd = 0.1;  \n",
    "r = 10.0\n",
    "steps = Int(round((βE-βB)/βd+1));\n",
    "eMC = zeros(steps,1)\n",
    "eMPS = zeros(steps,1)\n",
    "lattice = 32\n",
    "Threads.@threads for i=1:steps\n",
    "    β = βB+ βd*(i-1);\n",
    "    M1, M2, ME1, ME2, ME3, ME4,λM1,λM2 = classicalisingmpo(β; r = r)\n",
    "    D = 50\n",
    "    Random.seed!(12345)\n",
    "    A1 = randn(D, 2, D) + im*randn(D, 2, D)\n",
    "    Random.seed!(12345)\n",
    "    A2 = randn(D, 2, D) + im*randn(D, 2, D)\n",
    "    λ1, λ2, AL1, AL2, C1, C2, AR1, AR2, FL1, FL2, FL3, FL4, FR1, FR2, FR3, FR4 = \n",
    "        vumps(A1,A2,M1,M2;test = false,tol = 1e-12,maxiter = 100)\n",
    "    eMPS[i] = real(energy(M1, M2, ME1, ME2, ME3, ME4, AL1, AL2, C1, C2, AR1, AR2, FL1, FL2, FL3, FL4, FR1, FR2, FR3, FR4,λM1,λM2))\n",
    "    eMC[i] = MC(lattice,β,r,Int(1e4),Int(1e6))\n",
    "end\n",
    "β = βB:βd:βE\n",
    "plot(β,eMC,\"*-\",color = \"b\",label = \"MC\")\n",
    "plot(β,eMPS,\"+:\",color = \"r\",label = \"MPS\")\n",
    "legend(loc=\"best\")\n",
    "xlabel(\"β\")\n",
    "ylabel(\"energy\")\n",
    "title(\"r = $r\")"
   ]
  }
 ],
 "metadata": {
  "kernelspec": {
   "display_name": "Julia 1.5.1",
   "language": "julia",
   "name": "julia-1.5"
  },
  "language_info": {
   "file_extension": ".jl",
   "mimetype": "application/julia",
   "name": "julia",
   "version": "1.5.1"
  },
  "toc": {
   "base_numbering": 1,
   "nav_menu": {},
   "number_sections": true,
   "sideBar": true,
   "skip_h1_title": true,
   "title_cell": "Table of Contents",
   "title_sidebar": "Contents",
   "toc_cell": true,
   "toc_position": {
    "height": "calc(100% - 180px)",
    "left": "10px",
    "top": "150px",
    "width": "255.95px"
   },
   "toc_section_display": true,
   "toc_window_display": true
  },
  "varInspector": {
   "cols": {
    "lenName": 16,
    "lenType": 16,
    "lenVar": 40
   },
   "kernels_config": {
    "python": {
     "delete_cmd_postfix": "",
     "delete_cmd_prefix": "del ",
     "library": "var_list.py",
     "varRefreshCmd": "print(var_dic_list())"
    },
    "r": {
     "delete_cmd_postfix": ") ",
     "delete_cmd_prefix": "rm(",
     "library": "var_list.r",
     "varRefreshCmd": "cat(var_dic_list()) "
    }
   },
   "types_to_exclude": [
    "module",
    "function",
    "builtin_function_or_method",
    "instance",
    "_Feature"
   ],
   "window_display": false
  }
 },
 "nbformat": 4,
 "nbformat_minor": 2
}
