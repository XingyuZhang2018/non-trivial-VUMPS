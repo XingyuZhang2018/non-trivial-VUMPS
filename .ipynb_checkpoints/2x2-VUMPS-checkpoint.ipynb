{
 "cells": [
  {
   "cell_type": "markdown",
   "metadata": {
    "toc": true
   },
   "source": [
    "<h1>Table of Contents<span class=\"tocSkip\"></span></h1>\n",
    "<div class=\"toc\"><ul class=\"toc-item\"><li><span><a href=\"#J1-J2棋盘格模型\" data-toc-modified-id=\"J1-J2棋盘格模型-1\"><span class=\"toc-item-num\">1&nbsp;&nbsp;</span>J1-J2棋盘格模型</a></span></li><li><span><a href=\"#格点MPO\" data-toc-modified-id=\"格点MPO-2\"><span class=\"toc-item-num\">2&nbsp;&nbsp;</span>格点MPO</a></span></li><li><span><a href=\"#程序检验\" data-toc-modified-id=\"程序检验-3\"><span class=\"toc-item-num\">3&nbsp;&nbsp;</span>程序检验</a></span><ul class=\"toc-item\"><li><span><a href=\"#J1-J2-MC\" data-toc-modified-id=\"J1-J2-MC-3.1\"><span class=\"toc-item-num\">3.1&nbsp;&nbsp;</span>J1-J2 MC</a></span></li><li><span><a href=\"#bond强度比例-r\" data-toc-modified-id=\"bond强度比例-r-3.2\"><span class=\"toc-item-num\">3.2&nbsp;&nbsp;</span>bond强度比例 r</a></span></li><li><span><a href=\"#温度-β\" data-toc-modified-id=\"温度-β-3.3\"><span class=\"toc-item-num\">3.3&nbsp;&nbsp;</span>温度 β</a></span></li></ul></li></ul></div>"
   ]
  },
  {
   "cell_type": "markdown",
   "metadata": {
    "heading_collapsed": true,
    "slideshow": {
     "slide_type": "-"
    }
   },
   "source": [
    "## J1-J2棋盘格模型\n",
    "横向纵向连接耦合强度为$J_1,J_2$交替排布，形成红色正方形和黑色正方形棋盘格\n",
    "<img src=\"figure/29.png\" width=\"40%\">"
   ]
  },
  {
   "cell_type": "markdown",
   "metadata": {},
   "source": [
    "## 格点MPO\n",
    "权重张量为$M$\n",
    "<img src=\"figure/30.png\" width=\"25%\">\n",
    "红色连接上张量为\n",
    "$\\exp(-J_2 h_{ij})$, $J_2 = r J_1$\n",
    "\n",
    "要收缩的目标张量Z2为\n",
    "<img src=\"figure/31.png\" width=\"25%\">\n",
    "\n",
    "能量权重张量为$ME$\n",
    "<img src=\"figure/32.png\" width=\"25%\">"
   ]
  },
  {
   "cell_type": "code",
   "execution_count": 23,
   "metadata": {
    "code_folding": []
   },
   "outputs": [
    {
     "data": {
      "text/plain": [
       "MutiMC (generic function with 1 method)"
      ]
     },
     "execution_count": 23,
     "metadata": {},
     "output_type": "execute_result"
    }
   ],
   "source": [
    "# call library\n",
    "using LinearAlgebra, TensorOperations, KrylovKit, Random, Statistics, PyPlot, ProgressMeter, Test\n",
    "\n",
    "include(\"src/nontrivialVUMPS.jl\")\n",
    "include(\"src/2x2mpo.jl\")\n",
    "include(\"src/2x2muti-MC.jl\")"
   ]
  },
  {
   "cell_type": "code",
   "execution_count": 17,
   "metadata": {},
   "outputs": [
    {
     "data": {
      "text/plain": [
       "1"
      ]
     },
     "execution_count": 17,
     "metadata": {},
     "output_type": "execute_result"
    }
   ],
   "source": [
    "Threads.nthreads()"
   ]
  },
  {
   "cell_type": "code",
   "execution_count": 26,
   "metadata": {},
   "outputs": [
    {
     "name": "stdout",
     "output_type": "stream",
     "text": [
      "Step 1: err ≈ 0.005444318533545013\n",
      "Step 2: err ≈ 9.611824386622778e-15\n",
      "Step 3: err ≈ 3.2853055904934854e-16\n",
      "Step 4: err ≈ 3.0651870498382055e-16\n",
      "Step 5: err ≈ 3.3378933331617637e-16\n",
      "Step 6: err ≈ 3.0661596149642676e-16\n",
      "Step 7: err ≈ 3.5623933398296844e-16\n",
      "Step 8: err ≈ 3.144080943161268e-16\n",
      "Step 9: err ≈ 2.9952411235434564e-16\n",
      "Step 10: err ≈ 3.222204031879884e-16\n",
      "Step 11: err ≈ 3.0455711290316723e-16\n",
      "Step 12: err ≈ 3.290229985801642e-16\n",
      "Step 13: err ≈ 2.9601589463357014e-16\n",
      "Step 14: err ≈ 3.270177028691471e-16\n",
      "Step 15: err ≈ 3.1312172186301344e-16\n",
      "Step 16: err ≈ 3.3132910918779943e-16\n",
      "Step 17: err ≈ 3.2489515558854634e-16\n",
      "Step 18: err ≈ 3.16317773963201e-16\n",
      "Step 19: err ≈ 2.9539071296347493e-16\n",
      "Step 20: err ≈ 3.4914669328755117e-16\n",
      "Step 21: err ≈ 3.228792240230315e-16\n"
     ]
    },
    {
     "ename": "LoadError",
     "evalue": "InterruptException:",
     "output_type": "error",
     "traceback": [
      "InterruptException:",
      "",
      "Stacktrace:",
      " [1] try_yieldto(::typeof(Base.ensure_rescheduled)) at .\\task.jl:656",
      " [2] wait at .\\task.jl:713 [inlined]",
      " [3] wait(::Base.GenericCondition{Base.Threads.SpinLock}) at .\\condition.jl:106",
      " [4] _wait(::Task) at .\\task.jl:238",
      " [5] wait at .\\task.jl:265 [inlined]",
      " [6] threading_run(::Function) at .\\threadingconstructs.jl:34",
      " [7] macro expansion at .\\threadingconstructs.jl:93 [inlined]",
      " [8] basistransform!(::KrylovKit.OrthonormalBasis{Array{Complex{Float64},3}}, ::SubArray{Complex{Float64},2,Array{Complex{Float64},2},Tuple{UnitRange{Int64},UnitRange{Int64}},false}) at C:\\Users\\Ben\\.julia\\packages\\KrylovKit\\OLgKs\\src\\orthonormal.jl:218",
      " [9] _schursolve(::Function, ::Array{Complex{Float64},3}, ::Int64, ::Symbol, ::Arnoldi{ModifiedGramSchmidt2,Float64}) at C:\\Users\\Ben\\.julia\\packages\\KrylovKit\\OLgKs\\src\\eigsolve\\arnoldi.jl:246",
      " [10] eigsolve(::Function, ::Array{Complex{Float64},3}, ::Int64, ::Symbol, ::Arnoldi{ModifiedGramSchmidt2,Float64}) at C:\\Users\\Ben\\.julia\\packages\\KrylovKit\\OLgKs\\src\\eigsolve\\arnoldi.jl:110",
      " [11] eigsolve(::Function, ::Array{Complex{Float64},3}, ::Int64, ::Symbol; kwargs::Base.Iterators.Pairs{Symbol,Real,Tuple{Symbol,Symbol},NamedTuple{(:ishermitian, :tol),Tuple{Bool,Float64}}}) at C:\\Users\\Ben\\.julia\\packages\\KrylovKit\\OLgKs\\src\\eigsolve\\eigsolve.jl:168",
      " [12] env3vumps(::Array{Array,1}, ::Array{Array,1}, ::Array{Array,1}, ::Array{Array,1}, ::Array{Array{Float64,4},1}, ::Array{Array,2}, ::Array{Array,2}, ::Int64; kwargs::Base.Iterators.Pairs{Symbol,Float64,Tuple{Symbol},NamedTuple{(:tol,),Tuple{Float64}}}) at E:\\1 - research\\4.7 - 3D ising\\non-trivial-VUMPS\\src\\nontrivialVUMPS.jl:253",
      " [13] vumps(::Array{Array,2}, ::Array{Array{Float64,4},2}; verbose::Bool, tol::Float64, maxiter::Int64, kwargs::Base.Iterators.Pairs{Union{},Union{},Tuple{},NamedTuple{(),Tuple{}}}) at E:\\1 - research\\4.7 - 3D ising\\non-trivial-VUMPS\\src\\nontrivialVUMPS.jl:382",
      " [14] top-level scope at In[26]:10",
      " [15] include_string(::Function, ::Module, ::String, ::String) at .\\loading.jl:1091"
     ]
    }
   ],
   "source": [
    "Ni = 2\n",
    "Nj = 2\n",
    "D = 50\n",
    "A = Array{Array,2}(undef, Ni, Nj)\n",
    "for i = 1:Ni,j = 1:Nj\n",
    "    Random.seed!(1234)\n",
    "    A[i,j] = randn(D, 2, D) + im*randn(D, 2, D)\n",
    "end\n",
    "M,ME_row, ME_col, λM,λME_row,λME_col = classicalisingmpo(0.1; r = 5)\n",
    "λ, AL, C, AR, FL3, FR3, FL4, FR4 = vumps(A, M;verbose = true, tol = 1e-30, maxiter = 100)\n",
    "energy(M, ME_row, ME_col, AL, C, AR, FL3,FL4, FR3, FR4,λM,λME_row, λME_col)"
   ]
  },
  {
   "cell_type": "markdown",
   "metadata": {},
   "source": [
    "## 程序检验\n",
    "### J1-J2 MC"
   ]
  },
  {
   "cell_type": "markdown",
   "metadata": {},
   "source": [
    "### bond强度比例 r"
   ]
  },
  {
   "cell_type": "code",
   "execution_count": 14,
   "metadata": {
    "code_folding": []
   },
   "outputs": [
    {
     "name": "stdout",
     "output_type": "stream",
     "text": [
      "r  = 1 \n",
      "Step 1: err ≈ 0.0015127854504356022\n",
      "Step 2: err ≈ 6.334826163347057e-9\n",
      "r  = 2 \n",
      "Step 1: err ≈ 0.002952836059229717\n",
      "Step 2: err ≈ 1.3595667524210006e-7\n",
      "r  = 3 \n",
      "Step 1: err ≈ 0.004252955003845263\n",
      "Step 2: err ≈ 5.447437536207237e-7\n",
      "r  = 4 \n",
      "Step 1: err ≈ 0.004976248947480782\n",
      "Step 2: err ≈ 1.4827751722011222e-6\n",
      "Step 3: err ≈ 3.274995283539364e-13\n",
      "r  = 5 \n",
      "Step 1: err ≈ 0.005448730811594239\n",
      "Step 2: err ≈ 1.8480459477657591e-6\n",
      "Step 3: err ≈ 1.2793927296053311e-12\n",
      "r  = 6 \n",
      "Step 1: err ≈ 0.005439916911854895\n",
      "Step 2: err ≈ 3.760277495279803e-6\n",
      "Step 3: err ≈ 1.3732376484958397e-11\n",
      "r  = 7 \n",
      "Step 1: err ≈ 0.00557432856965202\n",
      "Step 2: err ≈ 4.547176985109281e-6\n",
      "Step 3: err ≈ 2.752123327265186e-11\n",
      "r  = 8 \n",
      "Step 1: err ≈ 0.005426166417191576\n",
      "Step 2: err ≈ 6.318105202269383e-6\n",
      "Step 3: err ≈ 2.417843050902122e-11\n",
      "r  = 9 \n",
      "Step 1: err ≈ 0.005559044779376786\n",
      "Step 2: err ≈ 7.376088148692276e-6\n",
      "Step 3: err ≈ 1.2189134436077237e-10\n",
      "r  = 10 \n",
      "Step 1: err ≈ 0.0055586598076878\n",
      "Step 2: err ≈ 1.3874872552711782e-5\n",
      "Step 3: err ≈ 3.3130369376506153e-10\n"
     ]
    },
    {
     "data": {
      "image/png": "[encoded data removed]",
      "text/plain": [
       "Figure(PyObject <Figure size 640x480 with 1 Axes>)"
      ]
     },
     "metadata": {},
     "output_type": "display_data"
    },
    {
     "data": {
      "text/plain": [
       "PyObject Text(0.5, 1.0, 'β=0.1')"
      ]
     },
     "execution_count": 14,
     "metadata": {},
     "output_type": "execute_result"
    }
   ],
   "source": [
    "#test4 muti-data\n",
    "β= 0.1\n",
    "lattice = 8\n",
    "lB = 1;                    \n",
    "lE = 10;                    \n",
    "ld = 1;\n",
    "steps = Int(round((lE-lB)/ld+1));\n",
    "eMC = zeros(steps,1)\n",
    "err = zeros(steps,1)\n",
    "eMPS = zeros(steps,1)\n",
    "Bins = 1\n",
    "bins = 60\n",
    "Sweeps_heat = Int(1e4)\n",
    "Sweeps = Int(1e5)\n",
    "\n",
    "Ni = 2\n",
    "Nj = 2\n",
    "D = 50\n",
    "A = Array{Array,2}(undef, Ni, Nj)\n",
    "\n",
    "for i=1:steps\n",
    "    r = lB+ ld*(i-1);\n",
    "    println(\"r  = $r \")\n",
    "    eMC[i],err[i] = MutiMC(β,r,lattice,Bins,bins,Sweeps_heat,Sweeps)\n",
    "    for i = 1:Ni,j = 1:Nj\n",
    "        Random.seed!(1234)\n",
    "        A[i,j] = randn(D, 2, D) + im*randn(D, 2, D)\n",
    "    end\n",
    "    M, ME,λM,λME = classicalisingmpo(β; r = r)\n",
    "    λ, AL, C, AR, FL3, FR3, FL4, FR4 = vumps(A, M;verbose = true, tol = 1e-6, maxiter = 100)\n",
    "    eMPS[i] = real(energy(M, ME, AL, C, AR, FL3,FL4, FR3, FR4,λM,λME))\n",
    "end\n",
    "\n",
    "r = lB:ld:lE\n",
    "errorbar(r,reshape(eMC,steps,),yerr = reshape(err,steps,),marker=\"s\", mfc=\"red\",\n",
    "                 mec=\"green\", ms=2, mew=2,label = \"MC\")\n",
    "plot(r,eMPS,\"*-\",color = \"r\",label = \"MPS\")\n",
    "legend(loc=\"best\")\n",
    "xlabel(\"r\")\n",
    "ylabel(\"energy\")\n",
    "title(\"β=$β\")"
   ]
  },
  {
   "cell_type": "code",
   "execution_count": 45,
   "metadata": {
    "code_folding": []
   },
   "outputs": [
    {
     "name": "stdout",
     "output_type": "stream",
     "text": [
      "r  = 1 \n",
      "r  = 2 \n",
      "r  = 3 \n",
      "r  = 4 \n",
      "r  = 5 \n",
      "r  = 6 \n",
      "r  = 7 \n",
      "r  = 8 \n",
      "r  = 9 \n",
      "r  = 10 \n"
     ]
    },
    {
     "data": {
      "image/png": "[encoded data removed]",
      "text/plain": [
       "Figure(PyObject <Figure size 640x480 with 1 Axes>)"
      ]
     },
     "metadata": {},
     "output_type": "display_data"
    },
    {
     "data": {
      "text/plain": [
       "PyObject Text(0.5, 1.0, 'β=0.5')"
      ]
     },
     "execution_count": 45,
     "metadata": {},
     "output_type": "execute_result"
    }
   ],
   "source": [
    "#test4 muti-data\n",
    "β= 0.5\n",
    "lattice = 8\n",
    "lB = 1;                    \n",
    "lE = 10;                    \n",
    "ld = 1;\n",
    "steps = Int(round((lE-lB)/ld+1));\n",
    "eMC = zeros(steps,1)\n",
    "err = zeros(steps,1)\n",
    "eMPS = zeros(steps,1)\n",
    "Bins = 1\n",
    "bins = 60\n",
    "Sweeps_heat = Int(1e5)\n",
    "Sweeps = Int(2*1e5)\n",
    "\n",
    "Ni = 2\n",
    "Nj = 2\n",
    "D = 50\n",
    "A = Array{Array,2}(undef, Ni, Nj)\n",
    "\n",
    "for i=1:steps\n",
    "    r = lB+ ld*(i-1);\n",
    "    println(\"r  = $r \")\n",
    "    eMC[i],err[i] = MutiMC(β,r,lattice,Bins,bins,Sweeps_heat,Sweeps)\n",
    "    for i = 1:Ni,j = 1:Nj\n",
    "        Random.seed!(1234)\n",
    "        A[i,j] = randn(D, 2, D) + im*randn(D, 2, D)\n",
    "    end\n",
    "    M, ME,λM,λME = classicalisingmpo(β; r = r)\n",
    "    λ, AL, C, AR, FL3, FR3, FL4, FR4 = vumps(A, M;verbose = true, tol = 1e-6, maxiter = 100)\n",
    "    eMPS[i] = real(energy(M, ME, AL, C, AR, FL3,FL4, FR3, FR4,λM,λME))\n",
    "end\n",
    "\n",
    "r = lB:ld:lE\n",
    "errorbar(r,reshape(eMC,steps,),yerr = reshape(err,steps,),marker=\"s\", mfc=\"red\",\n",
    "                 mec=\"green\", ms=2, mew=2,label = \"MC\")\n",
    "plot(r,eMPS,\"*-\",color = \"r\",label = \"MPS\")\n",
    "legend(loc=\"best\")\n",
    "xlabel(\"r\")\n",
    "ylabel(\"energy\")\n",
    "title(\"β=$β\")"
   ]
  },
  {
   "cell_type": "markdown",
   "metadata": {},
   "source": [
    "### 温度 β"
   ]
  },
  {
   "cell_type": "code",
   "execution_count": 25,
   "metadata": {
    "code_folding": []
   },
   "outputs": [
    {
     "name": "stdout",
     "output_type": "stream",
     "text": [
      "β  = 0.1 \n",
      "i = 1\n",
      "j = 1\n",
      "row = -2.7118460121945196 + 4.6040083298953324e-7im\n",
      "col = -2.7118653546387734 - 6.49174575763262e-16im\n",
      "i = 1\n",
      "j = 2\n",
      "row = -0.1311703737692929 - 5.64863404341407e-8im\n",
      "col = -2.7118653793097405 + 7.73485851167397e-16im\n",
      "i = 2\n",
      "j = 1\n",
      "row = -2.711846339702619 - 4.5696133984505896e-7im\n",
      "col = -0.13117282530630017 - 6.634243910719373e-17im\n",
      "i = 2\n",
      "j = 2\n",
      "row = -0.13117059508655224 + 4.553637321678505e-8im\n",
      "col = -0.13117307171426446 + 1.7981210245173858e-17im\n",
      "e_row = -5.686033320752984 - 7.510474072881386e-9im\n",
      "e_col = -5.686076630969078 + 7.595004654211515e-17im\n",
      "β  = 0.13 \n",
      "i = 1\n",
      "j = 1\n",
      "row = -3.4838465291437544 - 1.7511584554101222e-5im\n",
      "col = -3.4839362460689305 - 2.252289945090932e-15im\n",
      "i = 1\n",
      "j = 2\n",
      "row = -0.2008807784273394 + 3.554006199913395e-6im\n",
      "col = -3.4839361145716965 - 1.4775294822388376e-15im\n",
      "i = 2\n",
      "j = 1\n",
      "row = -3.4838500192164252 + 1.7032917070432918e-5im\n",
      "col = -0.2009017129941585 + 7.551381301828074e-18im\n",
      "i = 2\n",
      "j = 2\n",
      "row = -0.2008826190773126 - 3.2594340787338357e-6im\n",
      "col = -0.20090177687560798 + 5.14684135587856e-19im\n",
      "e_row = -7.369459945864832 - 1.840953624887439e-7im\n",
      "e_col = -7.369675850510394 - 3.721753361892354e-15im\n",
      "β  = 0.16 \n",
      "i = 1\n",
      "j = 1\n",
      "row = -4.086578528000956 - 1.6041821158087207e-5im\n",
      "col = -4.0866286644410845 + 1.0795730394603194e-16im\n",
      "i = 1\n",
      "j = 2\n",
      "row = -0.2928603698411006 - 1.420807676577123e-6im\n",
      "col = -4.086628546329689 + 2.8422714319373523e-16im\n",
      "i = 2\n",
      "j = 1\n",
      "row = -4.08658369682505 + 1.7009216940660866e-5im\n",
      "col = -0.292883995197229 - 1.118512863022943e-16im\n",
      "i = 2\n",
      "j = 2\n",
      "row = -0.29286456318625054 + 2.101551071474839e-6im\n",
      "col = -0.2928844199137856 - 7.438849052997724e-17im\n",
      "e_row = -8.758887157853358 + 1.6481391774713756e-6im\n",
      "e_col = -8.75902562588179 + 2.059446703074956e-16im\n",
      "β  = 0.19 \n",
      "i = 1\n",
      "j = 1\n",
      "row = -4.497843314915991 - 0.0003260461782549712im\n",
      "col = -4.49857231950607 + 4.2453630265763356e-16im\n",
      "i = 1\n",
      "j = 2\n",
      "row = -0.4111535358445287 - 0.001222864657272282im\n",
      "col = -4.498560746509213 + 1.265118181919748e-15im\n",
      "i = 2\n",
      "j = 1\n",
      "row = -4.49789699731519 + 0.0004532012558385005im\n",
      "col = -0.41202911283844484 - 2.35001385600161e-16im\n",
      "i = 2\n",
      "j = 2\n",
      "row = -0.41111042670958753 + 0.001216242693919893im\n",
      "col = -0.41203407409592613 - 9.175462025181112e-17im\n",
      "e_row = -9.818004274785297 + 0.00012053311423114053im\n",
      "e_col = -9.821196252949655 + 1.3628984787254094e-15im\n",
      "β  = 0.22 \n",
      "i = 1\n",
      "j = 1\n",
      "row = -4.746942087962824 + 0.001085114940410595im\n",
      "col = -4.7528409399949165 + 4.559181257705482e-16im\n",
      "i = 1\n",
      "j = 2\n",
      "row = -0.56408627200694 + 0.006522607962601113im\n",
      "col = -4.753224556318632 - 1.679989214960565e-16im\n",
      "i = 2\n",
      "j = 1\n",
      "row = -4.747820523555574 + 0.00025499930452433696im\n",
      "col = -0.5717016254619676 - 6.277854434852638e-16im\n",
      "i = 2\n",
      "j = 2\n",
      "row = -0.567372881262709 - 0.0028411389829024734im\n",
      "col = -0.5727115125367602 - 1.6998838240850983e-15im\n",
      "e_row = -10.626221764788049 + 0.005021583224633572im\n",
      "e_col = -10.650478634312277 - 2.0397500632958704e-15im\n",
      "β  = 0.25 \n",
      "i = 1\n",
      "j = 1\n",
      "row = -4.908304484804334 + 0.0002660271096429691im\n",
      "col = -4.908429721218047 + 1.9974628960947546e-16im\n",
      "i = 1\n",
      "j = 2\n",
      "row = -0.8348570117436774 + 9.679481651546778e-5im\n",
      "col = -4.908405057517441 - 7.604364125084093e-16im\n",
      "i = 2\n",
      "j = 1\n",
      "row = -4.908324541290237 - 0.0002664500625624867im\n",
      "col = -0.834672915974865 + 3.976899400208092e-16im\n",
      "i = 2\n",
      "j = 2\n",
      "row = -0.8345618680468003 + 5.801265430534635e-5im\n",
      "col = -0.8345574492856629 - 6.933227685160552e-18im\n",
      "e_row = -11.486047905885048 + 0.0001543845179012965im\n",
      "e_col = -11.486065143996015 - 1.6993341056328525e-16im\n",
      "β  = 0.28 \n",
      "i = 1\n",
      "j = 1\n",
      "row = -4.960878739090638 - 1.7775176832249905e-5im\n",
      "col = -4.960884535442268 + 5.83878043002852e-16im\n",
      "i = 1\n",
      "j = 2\n",
      "row = -0.9188915315447007 + 1.6757534549295828e-5im\n",
      "col = -4.960884439377808 + 1.1927481905751145e-15im\n",
      "i = 2\n",
      "j = 1\n",
      "row = -4.960878424461135 + 1.8006289729343466e-5im\n",
      "col = -0.9189712803449743 - 2.495739331306406e-17im\n",
      "i = 2\n",
      "j = 2\n",
      "row = -0.9188835111314219 - 2.5418693506338486e-5im\n",
      "col = -0.9189613250250671 + 2.5977904249648324e-16im\n",
      "e_row = -11.759532206227895 - 8.430046059949097e-6im\n",
      "e_col = -11.759701580190118 + 2.011447882761386e-15im\n",
      "β  = 0.31 \n",
      "i = 1\n",
      "j = 1\n",
      "row = -4.982548060285888 - 3.733468653245698e-6im\n",
      "col = -4.982545227472279 - 3.0637265118545797e-16im\n",
      "i = 1\n",
      "j = 2\n",
      "row = -0.9570228662635233 - 3.964511518789822e-6im\n",
      "col = -4.98254449573265 - 2.7287904433038246e-15im\n",
      "i = 2\n",
      "j = 1\n",
      "row = -4.982545797862618 + 3.5379931004923047e-6im\n",
      "col = -0.9570002149931197 - 9.164076513236566e-16im\n",
      "i = 2\n",
      "j = 2\n",
      "row = -0.9569894569770673 - 1.268660249586045e-5im\n",
      "col = -0.956961380005529 + 1.4574438683604085e-16im\n",
      "e_row = -11.879106181389096 - 1.6846589567403667e-5im\n",
      "e_col = -11.879051318203578 - 3.805826358976898e-15im\n",
      "β  = 0.33999999999999997 \n",
      "i = 1\n",
      "j = 1\n",
      "row = -4.992035090142539 - 1.6308864358975438e-6im\n",
      "col = -4.992031588163656 + 2.9240753319093615e-16im\n",
      "i = 1\n",
      "j = 2\n",
      "row = -0.9760704907782111 - 6.665964469409246e-6im\n",
      "col = -4.992031422044448 - 1.8149414391770955e-16im\n",
      "i = 2\n",
      "j = 1\n",
      "row = -4.992033766337337 + 1.546474831146735e-6im\n",
      "col = -0.9760618615791383 + 3.450967220020853e-16im\n",
      "i = 2\n",
      "j = 2\n",
      "row = -0.9760550645627981 + 3.4856343232996644e-6im\n",
      "col = -0.9760450518516309 + 1.0815103607987258e-16im\n",
      "e_row = -11.936194411820885 - 3.26474175086039e-6im\n",
      "e_col = -11.936169923638873 + 5.641611473551845e-16im\n",
      "β  = 0.37 \n",
      "i = 1\n",
      "j = 1\n",
      "row = -4.996311725998926 - 5.986705238170175e-7im\n",
      "col = -4.996310916786878 - 7.910712521021838e-16im\n",
      "i = 1\n",
      "j = 2\n",
      "row = -0.9862889508837046 - 6.881288172709226e-7im\n",
      "col = -4.996310876952573 - 1.2686903495876978e-15im\n",
      "i = 2\n",
      "j = 1\n",
      "row = -4.996311073352958 + 6.418417304220786e-7im\n",
      "col = -0.986289339203782 - 5.2896616633628494e-17im\n",
      "i = 2\n",
      "j = 2\n",
      "row = -0.9862792312340624 + 2.408735425083882e-7im\n",
      "col = -0.9862767783691623 + 1.4708233818528272e-16im\n",
      "e_row = -11.965190981469652 - 4.040840681574731e-7im\n",
      "e_col = -11.965187911312396 - 1.9655758801382272e-15im\n",
      "β  = 0.4 \n"
     ]
    },
    {
     "data": {
      "image/png": "[encoded data removed]",
      "text/plain": [
       "Figure(PyObject <Figure size 640x480 with 1 Axes>)"
      ]
     },
     "metadata": {},
     "output_type": "display_data"
    },
    {
     "name": "stdout",
     "output_type": "stream",
     "text": [
      "i = 1\n",
      "j = 1\n",
      "row = -4.998275681659928 - 1.741068683957615e-7im\n",
      "col = -4.99827540044101 + 2.7738646730310067e-16im\n",
      "i = 1\n",
      "j = 2\n",
      "row = -0.9919850366015748 - 3.30390009367146e-7im\n",
      "col = -4.9982753827961695 + 8.138457428224479e-16im\n",
      "i = 2\n",
      "j = 1\n",
      "row = -4.998275424143857 + 1.6966924006985783e-7im\n",
      "col = -0.9919866775179133 - 2.657697153343886e-16im\n",
      "i = 2\n",
      "j = 2\n",
      "row = -0.9919807538259382 + 1.5490373836161162e-7im\n",
      "col = -0.9919799173513788 + 4.090874297206728e-17im\n",
      "e_row = -11.980516896231299 - 1.7992389933143808e-7im\n",
      "e_col = -11.980517378106471 + 8.663712377632273e-16im\n",
      " 93.327287 seconds (84.45 M allocations: 7.953 GiB, 0.78% gc time)\n"
     ]
    },
    {
     "data": {
      "text/plain": [
       "PyObject Text(24.000000000000007, 0.5, 'energy')"
      ]
     },
     "execution_count": 25,
     "metadata": {},
     "output_type": "execute_result"
    }
   ],
   "source": [
    "lattice = 12;               #晶格大小\n",
    "Sweeps_heat = Int(1e5);       #热浴蒙卡次数\n",
    "Sweeps = Int(1e6);           #蒙卡次数\n",
    "βB = 0.1;                    #温度区间初始\n",
    "βE = 0.4;                    #温度区间末尾\n",
    "d = 0.03;                   #温度区间间隔\n",
    "steps = Int(round((βE-βB)/d+1));\n",
    "eMPS = zeros(steps,1); \n",
    "eMC = zeros(steps,1);\n",
    "r = 5.0\n",
    "Ni = 2\n",
    "Nj = 2\n",
    "D = 50\n",
    "A = Array{Array,2}(undef, Ni, Nj)\n",
    "\n",
    "@time begin\n",
    "    Threads.@threads for i=1:steps\n",
    "        β = βB+ d*(i-1)\n",
    "        println(\"β  = $β \")\n",
    "        eMC[i] = MC(lattice,β,r,Sweeps_heat,Sweeps)\n",
    "        for i = 1:Ni,j = 1:Nj\n",
    "            Random.seed!(1234)\n",
    "            A[i,j] = randn(D, 2, D) + im*randn(D, 2, D)\n",
    "        end\n",
    "        M, ME_row, ME_col,λM,λME_row,λME_col= classicalisingmpo(β; r = r)\n",
    "        λ, AL, C, AR, FL3, FR3, FL4, FR4 = vumps(A, M;verbose = false, tol = 1e-12, maxiter = 20)\n",
    "        eMPS[i] = real(energy(M, ME_row, ME_col, AL, C, AR, FL3,FL4, FR3, FR4,λM,λME_row, λME_col))\n",
    "    end\n",
    "end\n",
    "\n",
    "β=βB:d:βE\n",
    "title(\"r = $r\")\n",
    "plot(β,eMC,\"*-\",color =\"y\",label = \"MC\")\n",
    "plot(β,fill(-r-1,steps),label = \"real\")\n",
    "plot(β,eMPS,\"*-\",color = \"r\",label = \"MPS\")\n",
    "legend(loc=\"best\")\n",
    "xlabel(\"β\")\n",
    "ylabel(\"energy\")"
   ]
  },
  {
   "cell_type": "code",
   "execution_count": null,
   "metadata": {},
   "outputs": [],
   "source": []
  },
  {
   "cell_type": "code",
   "execution_count": 41,
   "metadata": {
    "code_folding": []
   },
   "outputs": [
    {
     "name": "stdout",
     "output_type": "stream",
     "text": [
      "β  = 0.1 \n"
     ]
    },
    {
     "name": "stderr",
     "output_type": "stream",
     "text": [
      "\u001b[32mProgress: 100%|█████████████████████████████████████████| Time: 0:01:24\u001b[39m\n"
     ]
    },
    {
     "name": "stdout",
     "output_type": "stream",
     "text": [
      "Step 1: err ≈ 0.0054419094735996265\n",
      "Step 2: err ≈ 1.3630442166818118e-6\n",
      "Step 3: err ≈ 1.051064198588269e-12\n",
      "Step 4: err ≈ 4.942334679085088e-16\n",
      "β  = 0.13 \n"
     ]
    },
    {
     "name": "stderr",
     "output_type": "stream",
     "text": [
      "\u001b[32mProgress: 100%|█████████████████████████████████████████| Time: 0:00:17\u001b[39m\n"
     ]
    },
    {
     "name": "stdout",
     "output_type": "stream",
     "text": [
      "Step 1: err ≈ 0.004169420084252499\n",
      "Step 2: err ≈ 3.019644200099613e-6\n",
      "Step 3: err ≈ 8.706503022014479e-12\n",
      "Step 4: err ≈ 3.4419683483247388e-15\n",
      "Step 5: err ≈ 2.0084907800614257e-16\n",
      "β  = 0.16 \n"
     ]
    },
    {
     "name": "stderr",
     "output_type": "stream",
     "text": [
      "\u001b[32mProgress: 100%|█████████████████████████████████████████| Time: 0:00:58\u001b[39m\n"
     ]
    },
    {
     "name": "stdout",
     "output_type": "stream",
     "text": [
      "Step 1: err ≈ 0.0024045480876356087\n",
      "Step 2: err ≈ 2.25224879251252e-6\n",
      "Step 3: err ≈ 1.206556873064556e-10\n",
      "Step 4: err ≈ 2.526335475676282e-13\n",
      "Step 5: err ≈ 4.1183410947280556e-15\n",
      "Step 6: err ≈ 2.2332502347055927e-16\n",
      "β  = 0.19 \n"
     ]
    },
    {
     "name": "stderr",
     "output_type": "stream",
     "text": [
      "\u001b[32mProgress: 100%|█████████████████████████████████████████| Time: 0:00:18\u001b[39m\n"
     ]
    },
    {
     "name": "stdout",
     "output_type": "stream",
     "text": [
      "Step 1: err ≈ 0.005114143993993893\n",
      "Step 2: err ≈ 6.801780908884088e-5\n",
      "Step 3: err ≈ 2.2130188964497623e-7\n",
      "Step 4: err ≈ 1.872227845214918e-10\n",
      "Step 5: err ≈ 5.040030130074396e-12\n",
      "Step 6: err ≈ 1.3795734964690743e-13\n",
      "Step 7: err ≈ 1.2415362901406196e-14\n",
      "Step 8: err ≈ 2.1105023131071948e-15\n",
      "Step 9: err ≈ 6.403565933980634e-16\n",
      "β  = 0.22 \n"
     ]
    },
    {
     "name": "stderr",
     "output_type": "stream",
     "text": [
      "\u001b[32mProgress: 100%|█████████████████████████████████████████| Time: 0:00:17\u001b[39m\n"
     ]
    },
    {
     "name": "stdout",
     "output_type": "stream",
     "text": [
      "Step 1: err ≈ 0.0028652577906495354\n",
      "Step 2: err ≈ 0.00012901129127149372\n",
      "Step 3: err ≈ 3.0108985093740565e-5\n",
      "Step 4: err ≈ 3.552081046618049e-6\n",
      "Step 5: err ≈ 1.0169753547052195e-7\n",
      "Step 6: err ≈ 3.6354415977846723e-9\n",
      "Step 7: err ≈ 3.1879065465529136e-10\n",
      "Step 8: err ≈ 5.742326823089163e-11\n",
      "Step 9: err ≈ 1.8883275514636652e-11\n",
      "Step 10: err ≈ 6.281048441317483e-12\n",
      "Step 11: err ≈ 2.942505075338548e-12\n",
      "Step 12: err ≈ 1.421900998246596e-12\n",
      "Step 13: err ≈ 6.602332472580849e-13\n",
      "Step 14: err ≈ 4.1732976984865607e-13\n",
      "Step 15: err ≈ 2.7510578591916093e-13\n",
      "Step 16: err ≈ 2.4869710674396934e-13\n",
      "Step 17: err ≈ 1.8971944229088534e-13\n",
      "Step 18: err ≈ 1.9780309221766995e-13\n",
      "Step 19: err ≈ 1.4561196377950214e-13\n",
      "Step 20: err ≈ 1.418944482272428e-13\n",
      "Step 21: err ≈ 1.1055084798738656e-13\n",
      "Step 22: err ≈ 1.1201743197948223e-13\n",
      "Step 23: err ≈ 9.842997965585199e-14\n",
      "Step 24: err ≈ 1.0564180241797687e-13\n",
      "Step 25: err ≈ 1.0359473515598593e-13\n",
      "Step 26: err ≈ 1.137917573067463e-13\n",
      "Step 27: err ≈ 1.1047060747278087e-13\n",
      "Step 28: err ≈ 1.0902387296546411e-13\n",
      "Step 29: err ≈ 9.413044003516452e-14\n",
      "Step 30: err ≈ 8.53723699722004e-14\n",
      "Step 31: err ≈ 7.18258864169244e-14\n",
      "Step 32: err ≈ 6.492409162149066e-14\n",
      "Step 33: err ≈ 5.4762368041032166e-14\n",
      "Step 34: err ≈ 4.919347570108071e-14\n",
      "Step 35: err ≈ 4.1460798476210605e-14\n",
      "Step 36: err ≈ 3.686732783721581e-14\n",
      "Step 37: err ≈ 3.111544464138034e-14\n",
      "Step 38: err ≈ 2.7469600902421952e-14\n",
      "Step 39: err ≈ 2.336229914722464e-14\n",
      "Step 40: err ≈ 2.057503934061823e-14\n",
      "Step 41: err ≈ 1.7696651369155438e-14\n",
      "Step 42: err ≈ 1.562951696767519e-14\n",
      "Step 43: err ≈ 1.3636000481562159e-14\n",
      "Step 44: err ≈ 1.213775862083494e-14\n",
      "Step 45: err ≈ 1.0756536015889674e-14\n",
      "Step 46: err ≈ 9.700480971654646e-15\n",
      "Step 47: err ≈ 8.77321815759266e-15\n",
      "Step 48: err ≈ 7.982577016372066e-15\n",
      "Step 49: err ≈ 7.342576652039428e-15\n",
      "Step 50: err ≈ 6.838676051343939e-15\n",
      "Step 51: err ≈ 6.426647669371902e-15\n",
      "Step 52: err ≈ 6.120925656784086e-15\n",
      "Step 53: err ≈ 5.977869574908229e-15\n",
      "Step 54: err ≈ 5.633182329083061e-15\n",
      "Step 55: err ≈ 5.4997634428733464e-15\n",
      "Step 56: err ≈ 5.429963340216267e-15\n",
      "Step 57: err ≈ 5.344093467405347e-15\n",
      "Step 58: err ≈ 5.245422190305618e-15\n",
      "Step 59: err ≈ 5.220692093569864e-15\n",
      "Step 60: err ≈ 5.3509504897541916e-15\n",
      "Step 61: err ≈ 5.222239578220985e-15\n",
      "Step 62: err ≈ 5.2390441460466875e-15\n",
      "Step 63: err ≈ 5.37888306292916e-15\n",
      "Step 64: err ≈ 5.280370901391813e-15\n",
      "Step 65: err ≈ 5.3246295059648605e-15\n",
      "Step 66: err ≈ 5.366215144408008e-15\n",
      "Step 67: err ≈ 5.398737881447858e-15\n",
      "Step 68: err ≈ 5.502543095677738e-15\n",
      "Step 69: err ≈ 5.5791216586918686e-15\n",
      "Step 70: err ≈ 5.560068225909383e-15\n",
      "Step 71: err ≈ 5.603467549009898e-15\n",
      "Step 72: err ≈ 5.6394898008468506e-15\n",
      "Step 73: err ≈ 5.696476505787518e-15\n",
      "Step 74: err ≈ 5.752829668157455e-15\n",
      "Step 75: err ≈ 5.884787526251387e-15\n",
      "Step 76: err ≈ 6.033012981570583e-15\n",
      "Step 77: err ≈ 5.947810711667248e-15\n",
      "Step 78: err ≈ 6.0053806298879814e-15\n",
      "Step 79: err ≈ 6.0355140432087045e-15\n",
      "Step 80: err ≈ 6.09369425449279e-15\n",
      "Step 81: err ≈ 6.1565621817892766e-15\n",
      "Step 82: err ≈ 6.2192421911513954e-15\n",
      "Step 83: err ≈ 6.2799381859522154e-15\n",
      "Step 84: err ≈ 6.341377921914333e-15\n",
      "Step 85: err ≈ 6.417564610771285e-15\n",
      "Step 86: err ≈ 6.4887228242203614e-15\n",
      "Step 87: err ≈ 6.54408903758072e-15\n",
      "Step 88: err ≈ 6.603002814729607e-15\n",
      "Step 89: err ≈ 6.670866777781068e-15\n",
      "Step 90: err ≈ 6.757331720921248e-15\n",
      "Step 91: err ≈ 6.840989010078139e-15\n",
      "Step 92: err ≈ 6.87250081517277e-15\n",
      "Step 93: err ≈ 6.9457558826689865e-15\n",
      "Step 94: err ≈ 7.015320651170027e-15\n",
      "Step 95: err ≈ 7.0896288262842445e-15\n",
      "Step 96: err ≈ 7.163162536024966e-15\n",
      "Step 97: err ≈ 7.236954606662828e-15\n",
      "Step 98: err ≈ 7.309746798665434e-15\n",
      "Step 99: err ≈ 7.41974561148298e-15\n",
      "Step 100: err ≈ 7.472208546275274e-15\n",
      "β  = 0.25 \n"
     ]
    },
    {
     "name": "stderr",
     "output_type": "stream",
     "text": [
      "\u001b[32mProgress: 100%|█████████████████████████████████████████| Time: 0:00:18\u001b[39m\n"
     ]
    },
    {
     "name": "stdout",
     "output_type": "stream",
     "text": [
      "Step 1: err ≈ 0.005814406715086242\n",
      "Step 2: err ≈ 2.520139053067025e-5\n",
      "Step 3: err ≈ 1.7301475987188924e-6\n",
      "Step 4: err ≈ 7.794824091358271e-8\n",
      "Step 5: err ≈ 3.5755626260287736e-9\n",
      "Step 6: err ≈ 1.4835097515668448e-10\n",
      "Step 7: err ≈ 1.7652152580318682e-11\n",
      "Step 8: err ≈ 1.9917656874831636e-12\n",
      "Step 9: err ≈ 5.109444879360843e-13\n",
      "Step 10: err ≈ 1.134192739293398e-13\n",
      "Step 11: err ≈ 4.452618168482393e-14\n",
      "Step 12: err ≈ 2.0834002540331716e-14\n",
      "Step 13: err ≈ 8.370358223327523e-15\n",
      "Step 14: err ≈ 2.924242840217991e-15\n",
      "Step 15: err ≈ 1.2679900946961275e-15\n",
      "Step 16: err ≈ 8.864500729845705e-16\n",
      "β  = 0.28 \n"
     ]
    },
    {
     "name": "stderr",
     "output_type": "stream",
     "text": [
      "\u001b[32mProgress: 100%|█████████████████████████████████████████| Time: 0:00:18\u001b[39m\n"
     ]
    },
    {
     "name": "stdout",
     "output_type": "stream",
     "text": [
      "Step 1: err ≈ 0.003333948501451352\n",
      "Step 2: err ≈ 7.868844208731526e-6\n",
      "Step 3: err ≈ 8.934817110485104e-8\n",
      "Step 4: err ≈ 8.924348959340432e-10\n",
      "Step 5: err ≈ 1.579918651389099e-11\n",
      "Step 6: err ≈ 4.866084062602321e-13\n",
      "Step 7: err ≈ 2.987964367429745e-14\n",
      "Step 8: err ≈ 2.783526179205506e-15\n",
      "Step 9: err ≈ 3.4110024940369335e-16\n",
      "β  = 0.31 \n"
     ]
    },
    {
     "name": "stderr",
     "output_type": "stream",
     "text": [
      "\u001b[32mProgress: 100%|█████████████████████████████████████████| Time: 0:00:18\u001b[39m\n"
     ]
    },
    {
     "name": "stdout",
     "output_type": "stream",
     "text": [
      "Step 1: err ≈ 0.002736701354126264\n",
      "Step 2: err ≈ 2.9965919433139e-6\n",
      "Step 3: err ≈ 2.8226512346846632e-9\n",
      "Step 4: err ≈ 1.1995408275095136e-11\n",
      "Step 5: err ≈ 2.0235003240574836e-13\n",
      "Step 6: err ≈ 4.236995064736541e-15\n",
      "Step 7: err ≈ 3.1248550275055317e-16\n",
      "β  = 0.33999999999999997 \n"
     ]
    },
    {
     "name": "stderr",
     "output_type": "stream",
     "text": [
      "\u001b[32mProgress: 100%|█████████████████████████████████████████| Time: 0:00:18\u001b[39m\n"
     ]
    },
    {
     "name": "stdout",
     "output_type": "stream",
     "text": [
      "Step 1: err ≈ 0.003177525567398878\n",
      "Step 2: err ≈ 1.5624113136735453e-6\n",
      "Step 3: err ≈ 3.769472614508495e-10\n",
      "Step 4: err ≈ 1.4886704436021332e-12\n",
      "Step 5: err ≈ 1.4680097556028907e-14\n",
      "Step 6: err ≈ 9.559435067085454e-16\n",
      "β  = 0.37 \n"
     ]
    },
    {
     "name": "stderr",
     "output_type": "stream",
     "text": [
      "\u001b[32mProgress: 100%|█████████████████████████████████████████| Time: 0:00:17\u001b[39m\n"
     ]
    },
    {
     "name": "stdout",
     "output_type": "stream",
     "text": [
      "Step 1: err ≈ 0.0025294695677629546\n",
      "Step 2: err ≈ 3.367077061794835e-6\n",
      "Step 3: err ≈ 5.0962161620677045e-11\n",
      "Step 4: err ≈ 5.254481546473637e-14\n",
      "Step 5: err ≈ 4.643935720891474e-16\n",
      "β  = 0.4 \n"
     ]
    },
    {
     "name": "stderr",
     "output_type": "stream",
     "text": [
      "\u001b[32mProgress: 100%|█████████████████████████████████████████| Time: 0:00:38\u001b[39m\n"
     ]
    },
    {
     "name": "stdout",
     "output_type": "stream",
     "text": [
      "Step 1: err ≈ 0.0025156684643310957\n",
      "Step 2: err ≈ 3.423577036186171e-6\n",
      "Step 3: err ≈ 5.7671799114200476e-11\n",
      "Step 4: err ≈ 2.3768143974522064e-14\n",
      "Step 5: err ≈ 3.400685605146005e-16\n"
     ]
    },
    {
     "data": {
      "image/png": "[encoded data removed]",
      "text/plain": [
       "Figure(PyObject <Figure size 640x480 with 1 Axes>)"
      ]
     },
     "metadata": {},
     "output_type": "display_data"
    },
    {
     "data": {
      "text/plain": [
       "PyObject Text(0.5, 1.0, 'r=5')"
      ]
     },
     "execution_count": 41,
     "metadata": {},
     "output_type": "execute_result"
    }
   ],
   "source": [
    "r = 5\n",
    "lattice = 8\n",
    "lB = 0.1;                    \n",
    "lE = 0.4;                    \n",
    "ld = 0.03;\n",
    "steps = Int(round((lE-lB)/ld+1));\n",
    "eMC = zeros(steps,1)\n",
    "err = zeros(steps,1)\n",
    "eMPS = zeros(steps,1)\n",
    "Bins = 10\n",
    "bins = 60\n",
    "Sweeps_heat = Int(1e5)\n",
    "Sweeps = Int(2*1e5)\n",
    "\n",
    "Ni = 2\n",
    "Nj = 2\n",
    "D = 50\n",
    "A = Array{Array,2}(undef, Ni, Nj)\n",
    "\n",
    "for i=1:steps\n",
    "    β = lB+ ld*(i-1)\n",
    "    println(\"β  = $β \")\n",
    "    eMC[i],err[i] = MutiMC(β,r,lattice,Bins,bins,Sweeps_heat,Sweeps)\n",
    "    for i = 1:Ni,j = 1:Nj\n",
    "        Random.seed!(1234)\n",
    "        A[i,j] = randn(D, 2, D) + im*randn(D, 2, D)\n",
    "    end\n",
    "    M, ME,λM,λME = classicalisingmpo(β; r = r)\n",
    "    λ, AL, C, AR, FL3, FR3, FL4, FR4 = vumps(A, M;verbose = true, tol = 1e-15, maxiter = 100)\n",
    "    eMPS[i] = real(energy(M, ME, AL, C, AR, FL3,FL4, FR3, FR4,λM,λME))\n",
    "end\n",
    "\n",
    "β = lB:ld:lE\n",
    "errorbar(β,reshape(eMC,steps,),yerr = reshape(err,steps,),marker=\"s\", mfc=\"red\",\n",
    "                 mec=\"green\", ms=2, mew=2,label = \"MC\")\n",
    "plot(β,eMPS,\"*-\",color = \"r\",label = \"MPS\")\n",
    "legend(loc=\"best\")\n",
    "xlabel(\"β\")\n",
    "ylabel(\"energy\")\n",
    "title(\"r=$r\")"
   ]
  },
  {
   "cell_type": "code",
   "execution_count": null,
   "metadata": {},
   "outputs": [],
   "source": []
  }
 ],
 "metadata": {
  "kernelspec": {
   "display_name": "Julia 1.5.1",
   "language": "julia",
   "name": "julia-1.5"
  },
  "language_info": {
   "file_extension": ".jl",
   "mimetype": "application/julia",
   "name": "julia",
   "version": "1.5.1"
  },
  "toc": {
   "base_numbering": 1,
   "nav_menu": {},
   "number_sections": true,
   "sideBar": true,
   "skip_h1_title": true,
   "title_cell": "Table of Contents",
   "title_sidebar": "Contents",
   "toc_cell": true,
   "toc_position": {
    "height": "calc(100% - 180px)",
    "left": "10px",
    "top": "150px",
    "width": "255.95px"
   },
   "toc_section_display": true,
   "toc_window_display": true
  },
  "varInspector": {
   "cols": {
    "lenName": 16,
    "lenType": 16,
    "lenVar": 40
   },
   "kernels_config": {
    "python": {
     "delete_cmd_postfix": "",
     "delete_cmd_prefix": "del ",
     "library": "var_list.py",
     "varRefreshCmd": "print(var_dic_list())"
    },
    "r": {
     "delete_cmd_postfix": ") ",
     "delete_cmd_prefix": "rm(",
     "library": "var_list.r",
     "varRefreshCmd": "cat(var_dic_list()) "
    }
   },
   "types_to_exclude": [
    "module",
    "function",
    "builtin_function_or_method",
    "instance",
    "_Feature"
   ],
   "window_display": false
  }
 },
 "nbformat": 4,
 "nbformat_minor": 2
}
