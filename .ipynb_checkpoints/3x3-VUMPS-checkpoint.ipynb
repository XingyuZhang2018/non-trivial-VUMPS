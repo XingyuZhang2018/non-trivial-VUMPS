{
 "cells": [
  {
   "cell_type": "markdown",
   "metadata": {
    "toc": true
   },
   "source": [
    "<h1>Table of Contents<span class=\"tocSkip\"></span></h1>\n",
    "<div class=\"toc\"><ul class=\"toc-item\"><li><span><a href=\"#3x3棋盘格模型\" data-toc-modified-id=\"3x3棋盘格模型-1\"><span class=\"toc-item-num\">1&nbsp;&nbsp;</span>3x3棋盘格模型</a></span></li><li><span><a href=\"#格点MPO\" data-toc-modified-id=\"格点MPO-2\"><span class=\"toc-item-num\">2&nbsp;&nbsp;</span>格点MPO</a></span></li><li><span><a href=\"#程序检验\" data-toc-modified-id=\"程序检验-3\"><span class=\"toc-item-num\">3&nbsp;&nbsp;</span>程序检验</a></span><ul class=\"toc-item\"><li><span><a href=\"#J1-J2-MC\" data-toc-modified-id=\"J1-J2-MC-3.1\"><span class=\"toc-item-num\">3.1&nbsp;&nbsp;</span>J1-J2 MC</a></span></li><li><span><a href=\"#bond强度比例-r\" data-toc-modified-id=\"bond强度比例-r-3.2\"><span class=\"toc-item-num\">3.2&nbsp;&nbsp;</span>bond强度比例 r</a></span></li><li><span><a href=\"#温度-β\" data-toc-modified-id=\"温度-β-3.3\"><span class=\"toc-item-num\">3.3&nbsp;&nbsp;</span>温度 β</a></span></li></ul></li></ul></div>"
   ]
  },
  {
   "cell_type": "markdown",
   "metadata": {
    "heading_collapsed": true,
    "slideshow": {
     "slide_type": "-"
    }
   },
   "source": [
    "## 3x3棋盘格模型\n",
    "横向纵向连接耦合强度为$J_1,J_2$,两个$J_1$之间夹一个$J_2$，形成红色正方形在3x3正方形中间的棋盘格\n",
    "<img src=\"figure/33.png\" width=\"40%\">"
   ]
  },
  {
   "cell_type": "markdown",
   "metadata": {},
   "source": [
    "## 格点MPO\n",
    "权重张量为$M$\n",
    "<img src=\"figure/34.png\" width=\"50%\">\n",
    "红色连接上张量为\n",
    "$\\exp(-J_2 h_{ij})$, $J_2 = r J_1$\n",
    "\n",
    "要收缩的目标张量Z2为\n",
    "<img src=\"figure/35.png\" width=\"50%\">\n",
    "\n",
    "能量权重张量为$ME$"
   ]
  },
  {
   "cell_type": "code",
   "execution_count": 53,
   "metadata": {
    "code_folding": []
   },
   "outputs": [
    {
     "data": {
      "text/plain": [
       "MutiMC (generic function with 1 method)"
      ]
     },
     "execution_count": 53,
     "metadata": {},
     "output_type": "execute_result"
    }
   ],
   "source": [
    "# call library\n",
    "using LinearAlgebra, TensorOperations, KrylovKit, Random, Statistics, PyPlot, ProgressMeter, Test\n",
    "\n",
    "include(\"src/nontrivialVUMPS.jl\")\n",
    "include(\"src/3x3mpo.jl\")\n",
    "include(\"src/3x3muti-MC.jl\")"
   ]
  },
  {
   "cell_type": "code",
   "execution_count": 6,
   "metadata": {},
   "outputs": [
    {
     "data": {
      "text/plain": [
       "1"
      ]
     },
     "execution_count": 6,
     "metadata": {},
     "output_type": "execute_result"
    }
   ],
   "source": [
    "Threads.nthreads()"
   ]
  },
  {
   "cell_type": "code",
   "execution_count": 50,
   "metadata": {},
   "outputs": [
    {
     "name": "stdout",
     "output_type": "stream",
     "text": [
      "\u001b[37m\u001b[1mTest Summary: | \u001b[22m\u001b[39m\u001b[32m\u001b[1mPass  \u001b[22m\u001b[39m\u001b[36m\u001b[1mTotal\u001b[22m\u001b[39m\n",
      "3x3M,Me       | \u001b[32m   3  \u001b[39m\u001b[36m    3\u001b[39m\n",
      "\u001b[37m\u001b[1mTest Summary: | \u001b[22m\u001b[39m\u001b[32m\u001b[1mPass  \u001b[22m\u001b[39m\u001b[36m\u001b[1mTotal\u001b[22m\u001b[39m\n",
      "test orth     | \u001b[32m 144  \u001b[39m\u001b[36m  144\u001b[39m\n",
      "\u001b[37m\u001b[1mTest Summary: | \u001b[22m\u001b[39m\u001b[32m\u001b[1mPass  \u001b[22m\u001b[39m\u001b[36m\u001b[1mTotal\u001b[22m\u001b[39m\n",
      "environment   | \u001b[32m 144  \u001b[39m\u001b[36m  144\u001b[39m\n",
      "\u001b[37m\u001b[1mTest Summary: | \u001b[22m\u001b[39m\u001b[32m\u001b[1mPass  \u001b[22m\u001b[39m\u001b[36m\u001b[1mTotal\u001b[22m\u001b[39m\n",
      "vumpsstep     | \u001b[32m  50  \u001b[39m\u001b[36m   50\u001b[39m\n"
     ]
    },
    {
     "data": {
      "text/plain": [
       "Test.DefaultTestSet(\"vumpsstep\", Any[Test.DefaultTestSet(\"vumpsstep\", Any[], 8, false), Test.DefaultTestSet(\"vumpsstep\", Any[], 12, false), Test.DefaultTestSet(\"vumpsstep\", Any[], 12, false), Test.DefaultTestSet(\"vumpsstep\", Any[], 18, false)], 0, false)"
      ]
     },
     "execution_count": 50,
     "metadata": {},
     "output_type": "execute_result"
    }
   ],
   "source": [
    "begin \n",
    "    include(\"test/runtest.jl\")\n",
    "end"
   ]
  },
  {
   "cell_type": "code",
   "execution_count": 43,
   "metadata": {
    "scrolled": false
   },
   "outputs": [
    {
     "name": "stdout",
     "output_type": "stream",
     "text": [
      "Step 1: err ≈ 3.2284650477197222e-24\n",
      "Step 2: err ≈ 3.730720182825678e-9\n",
      "Step 3: err ≈ 1.5109108891178184e-13\n",
      "Step 4: err ≈ 3.5030044070466975e-18\n",
      "Step 5: err ≈ 7.278235571283386e-21\n",
      "Step 6: err ≈ 6.398297202566253e-21\n",
      "Step 7: err ≈ 6.758758923173233e-21\n",
      "Step 8: err ≈ 6.899368942281147e-21\n",
      "Step 9: err ≈ 5.928449294622413e-21\n",
      "Step 10: err ≈ 7.727031765170199e-21\n",
      "Step 11: err ≈ 5.146464280891398e-21\n",
      "Step 12: err ≈ 7.37001946039657e-21\n",
      "Step 13: err ≈ 6.859621758882012e-21\n",
      "Step 14: err ≈ 4.400638566897755e-21\n",
      "Step 15: err ≈ 4.7546870524451094e-21\n",
      "Step 16: err ≈ 5.415514187491714e-21\n",
      "Step 17: err ≈ 5.603614509837765e-21\n",
      "Step 18: err ≈ 7.5514525739998e-21\n",
      "Step 19: err ≈ 4.990437246243401e-21\n",
      "Step 20: err ≈ 5.4421893484636465e-21\n"
     ]
    },
    {
     "data": {
      "text/plain": [
       "-3.776538264491519 + 5.2547707560721266e-17im"
      ]
     },
     "execution_count": 43,
     "metadata": {},
     "output_type": "execute_result"
    }
   ],
   "source": [
    "Ni = 3\n",
    "Nj = 3\n",
    "D = 10\n",
    "A = Array{Array,2}(undef, Ni, Nj)\n",
    "for i = 1:Ni,j = 1:Nj\n",
    "    Random.seed!(1234)\n",
    "    A[i,j] = ones(D, 2, D) + im*ones(D, 2, D)\n",
    "end\n",
    "M,ME_row, ME_col, λM,λME_row,λME_col = classicalisingmpo(1; r = 5)\n",
    "λ, AL, C, AR, FL3, FR3, FL4, FR4 = vumps(A, M;verbose = true, tol = 1e-30, maxiter = 20)\n",
    "energy(M, ME_row, ME_col, AL, C, AR, FL3,FL4, FR3, FR4,λM,λME_row, λME_col)"
   ]
  },
  {
   "cell_type": "code",
   "execution_count": 45,
   "metadata": {},
   "outputs": [
    {
     "name": "stdout",
     "output_type": "stream",
     "text": [
      "Step 1: err ≈ 5.325170676077187e-21\n",
      "Step 2: err ≈ 5.342250622367693e-21\n",
      "Step 3: err ≈ 5.719907718350533e-21\n",
      "Step 4: err ≈ 6.982734484264765e-21\n",
      "Step 5: err ≈ 5.782827956369988e-21\n",
      "Step 6: err ≈ 6.040676811150688e-21\n",
      "Step 7: err ≈ 7.463791097644271e-21\n",
      "Step 8: err ≈ 6.047000160680324e-21\n",
      "Step 9: err ≈ 6.325831005448008e-21\n",
      "Step 10: err ≈ 6.67711303195911e-21\n",
      "Step 11: err ≈ 6.3909341369403654e-21\n",
      "Step 12: err ≈ 5.846682422212019e-21\n",
      "Step 13: err ≈ 6.465990689802597e-21\n",
      "Step 14: err ≈ 5.7617848447520876e-21\n",
      "Step 15: err ≈ 7.441431875467952e-21\n",
      "Step 16: err ≈ 5.51079224564284e-21\n",
      "Step 17: err ≈ 7.841438454405152e-21\n",
      "Step 18: err ≈ 7.42408454784159e-21\n",
      "Step 19: err ≈ 5.201003888759453e-21\n",
      "Step 20: err ≈ 6.176684343236729e-21\n"
     ]
    },
    {
     "data": {
      "text/plain": [
       "-3.776538264491519 + 6.751266552273841e-17im"
      ]
     },
     "execution_count": 45,
     "metadata": {},
     "output_type": "execute_result"
    }
   ],
   "source": [
    "λ, AL, C, AR, FL3, FR3, FL4, FR4 = vumpscon(AL, C, AR, FL3, FR3, M;verbose = true, tol = 1e-30, maxiter = 20)\n",
    "energy(M, ME_row, ME_col, AL, C, AR, FL3,FL4, FR3, FR4,λM,λME_row, λME_col)"
   ]
  },
  {
   "cell_type": "code",
   "execution_count": 57,
   "metadata": {},
   "outputs": [
    {
     "data": {
      "text/plain": [
       "2×3 Array{Int64,2}:\n",
       " 4  5  6\n",
       " 1  2  3"
      ]
     },
     "execution_count": 57,
     "metadata": {},
     "output_type": "execute_result"
    }
   ],
   "source": [
    "A = [1 2 3;4 5 6;7 8 9]\n",
    "A[[2,1],:]"
   ]
  },
  {
   "cell_type": "code",
   "execution_count": 15,
   "metadata": {},
   "outputs": [
    {
     "data": {
      "text/plain": [
       "0.00888888888888888"
      ]
     },
     "execution_count": 15,
     "metadata": {},
     "output_type": "execute_result"
    }
   ],
   "source": [
    "MC(30,0,1,Int(1e4),Int(1e4))"
   ]
  },
  {
   "cell_type": "markdown",
   "metadata": {},
   "source": [
    "## 程序检验\n",
    "### J1-J2 MC"
   ]
  },
  {
   "cell_type": "code",
   "execution_count": null,
   "metadata": {
    "code_folding": []
   },
   "outputs": [
    {
     "name": "stdout",
     "output_type": "stream",
     "text": [
      "β  = 0.1 \n",
      "β  = 0.15000000000000002 \n",
      "β  = 0.2 "
     ]
    }
   ],
   "source": [
    "#test1\n",
    "lattice = 12;               #晶格大小\n",
    "Sweeps_heat = Int(1e5);       #热浴蒙卡次数\n",
    "Sweeps = Int(1e5);           #蒙卡次数\n",
    "βB = 0.1;                    #温度区间初始\n",
    "βE = 0.6;                    #温度区间末尾\n",
    "d = 0.05;                   #温度区间间隔\n",
    "steps = Int(round((βE-βB)/d+1));\n",
    "eMPS = zeros(steps,1); \n",
    "eMC = zeros(steps,1);\n",
    "# r = 5\n",
    "Ni = 3\n",
    "Nj = 3\n",
    "D = 10\n",
    "A = Array{Array,2}(undef, Ni, Nj)\n",
    "for i = 1:Ni,j = 1:Nj\n",
    "    Random.seed!(1234)\n",
    "    A[i,j] = randn(D, 2, D) + im*randn(D, 2, D)\n",
    "end\n",
    "for r in [1 2 3 4 5]\n",
    "    @time begin\n",
    "        Threads.@threads for i=1:steps\n",
    "            β = βB+ d*(i-1)\n",
    "            println(\"β  = $β \")\n",
    "            eMC[i] = MC(lattice,β,r,Sweeps_heat,Sweeps)\n",
    "            M, ME_row, ME_col,λM,λME_row,λME_col= classicalisingmpo(β; r = r)\n",
    "            λ, AL, C, AR, FL3, FR3, FL4, FR4 = vumps(A, M;verbose = false, tol = 1e-30, maxiter = 10)\n",
    "            eMPS[i] = real(energy(M, ME_row, ME_col, AL, C, AR, FL3,FL4, FR3, FR4,λM,λME_row, λME_col))\n",
    "        end\n",
    "    end\n",
    "    β=βB:d:βE\n",
    "\n",
    "#     title(\"r = $r\")\n",
    "    plot(β,eMC,\"+-\",label = \"MC r=$r\")\n",
    "    plot(β,fill(-(r*4+14)/9,steps),label = \"real r=$r\")\n",
    "    plot(β,eMPS,\"*--\",label = \"MPS r=$r\")\n",
    "    legend(loc=\"best\")\n",
    "    xlabel(\"β\")\n",
    "    ylabel(\"energy\")\n",
    "end"
   ]
  },
  {
   "cell_type": "markdown",
   "metadata": {},
   "source": [
    "### bond强度比例 r"
   ]
  },
  {
   "cell_type": "code",
   "execution_count": 24,
   "metadata": {
    "code_folding": []
   },
   "outputs": [
    {
     "name": "stdout",
     "output_type": "stream",
     "text": [
      "r  = 1 \n",
      "Step 1: err ≈ 0.0004628430868587156\n",
      "Step 2: err ≈ 1.8589074365065207e-9\n",
      "r  = 2 \n",
      "Step 1: err ≈ 0.0006370851926947327\n",
      "Step 2: err ≈ 1.9187384798446557e-8\n",
      "r  = 3 \n",
      "Step 1: err ≈ 0.000760071960507288\n",
      "Step 2: err ≈ 5.706266412006061e-8\n",
      "r  = 4 \n",
      "Step 1: err ≈ 0.000790884950859853\n",
      "Step 2: err ≈ 1.9866092006876776e-7\n",
      "r  = 5 \n",
      "Step 1: err ≈ 0.0007295272465194818\n",
      "Step 2: err ≈ 2.3312043693421607e-7\n"
     ]
    },
    {
     "data": {
      "image/png": "[encoded data removed]",
      "text/plain": [
       "Figure(PyObject <Figure size 640x480 with 1 Axes>)"
      ]
     },
     "metadata": {},
     "output_type": "display_data"
    },
    {
     "data": {
      "text/plain": [
       "PyObject Text(0.5, 1.0, 'β=0.1')"
      ]
     },
     "execution_count": 24,
     "metadata": {},
     "output_type": "execute_result"
    }
   ],
   "source": [
    "#test4 muti-data\n",
    "β= 0.1\n",
    "lattice = 6\n",
    "lB = 1;                    \n",
    "lE = 5;                    \n",
    "ld = 1;\n",
    "steps = Int(round((lE-lB)/ld+1));\n",
    "eMC = zeros(steps,1)\n",
    "err = zeros(steps,1)\n",
    "eMPS = zeros(steps,1)\n",
    "Bins = 1\n",
    "bins = 12\n",
    "Sweeps_heat = Int(1e5)\n",
    "Sweeps = Int(1e6)\n",
    "\n",
    "Ni = 3\n",
    "Nj = 3\n",
    "D = 50\n",
    "A = Array{Array,2}(undef, Ni, Nj)\n",
    "for i = 1:Ni,j = 1:Nj\n",
    "    Random.seed!(1234)\n",
    "    A[i,j] = randn(D, 2, D) + im*randn(D, 2, D)\n",
    "end\n",
    "\n",
    "for i=1:steps\n",
    "    r = lB+ ld*(i-1);\n",
    "    println(\"r  = $r \")\n",
    "    eMC[i],err[i] = MutiMC(β,r,lattice,Bins,bins,Sweeps_heat,Sweeps)\n",
    "    M, ME_row, ME_col,λM,λME_row,λME_col= classicalisingmpo(β; r = r)\n",
    "    λ, AL, C, AR, FL3, FR3, FL4, FR4 = vumps(A, M;verbose = true, tol = 1e-6, maxiter = 100)\n",
    "    eMPS[i] = real(energy(M, ME_row, ME_col, AL, C, AR, FL3,FL4, FR3, FR4,λM,λME_row, λME_col))\n",
    "end\n",
    "\n",
    "r = lB:ld:lE\n",
    "errorbar(r,reshape(eMC,steps,),yerr = reshape(err,steps,),marker=\"s\", mfc=\"red\",\n",
    "                 mec=\"green\", ms=2, mew=2,label = \"MC\")\n",
    "plot(r,eMPS,\"*-\",color = \"r\",label = \"MPS\")\n",
    "legend(loc=\"best\")\n",
    "xlabel(\"r\")\n",
    "ylabel(\"energy\")\n",
    "title(\"β=$β\")"
   ]
  },
  {
   "cell_type": "code",
   "execution_count": null,
   "metadata": {},
   "outputs": [],
   "source": []
  },
  {
   "cell_type": "code",
   "execution_count": 25,
   "metadata": {
    "code_folding": []
   },
   "outputs": [
    {
     "name": "stdout",
     "output_type": "stream",
     "text": [
      "r  = 1 \n",
      "Step 1: err ≈ 1.9137383179096274e-6\n",
      "Step 2: err ≈ 8.770258272526157e-11\n",
      "r  = 2 \n",
      "Step 1: err ≈ 3.1708006090409e-8\n",
      "r  = 3 \n",
      "Step 1: err ≈ 4.029105793785526e-12\n",
      "r  = 4 \n",
      "Step 1: err ≈ 1.0472042072253028e-14\n",
      "r  = 5 \n",
      "Step 1: err ≈ 2.8500895286521485e-17\n",
      "r  = 6 \n",
      "Step 1: err ≈ 7.073512959525245e-20\n",
      "r  = 7 \n",
      "Step 1: err ≈ 1.7583903383158853e-22\n",
      "r  = 8 \n",
      "Step 1: err ≈ 4.140542243246486e-25\n",
      "r  = 9 \n",
      "Step 1: err ≈ 1.0098794032414392e-27\n",
      "r  = 10 \n",
      "Step 1: err ≈ 2.721024079357545e-30\n"
     ]
    },
    {
     "data": {
      "image/png": "[encoded data removed]",
      "text/plain": [
       "Figure(PyObject <Figure size 640x480 with 1 Axes>)"
      ]
     },
     "metadata": {},
     "output_type": "display_data"
    },
    {
     "name": "stderr",
     "output_type": "stream",
     "text": [
      "C:\\Users\\Ben\\.julia\\conda\\3\\lib\\site-packages\\numpy\\core\\_asarray.py:83: UserWarning: Warning: converting a masked element to nan.\r\n",
      "  return array(a, dtype, copy=False, order=order)\r\n"
     ]
    },
    {
     "data": {
      "text/plain": [
       "PyObject Text(0.5, 1.0, 'β=2')"
      ]
     },
     "execution_count": 25,
     "metadata": {},
     "output_type": "execute_result"
    }
   ],
   "source": [
    "#test4 muti-data\n",
    "β= 2\n",
    "lattice = 9\n",
    "lB = 1;                    \n",
    "lE = 10;                    \n",
    "ld = 1;\n",
    "steps = Int(round((lE-lB)/ld+1));\n",
    "eMC = zeros(steps,1)\n",
    "err = zeros(steps,1)\n",
    "eMPS = zeros(steps,1)\n",
    "Bins = 1\n",
    "bins = 12\n",
    "Sweeps_heat = Int(1e4)\n",
    "Sweeps = Int(1e4)\n",
    "\n",
    "Ni = 3\n",
    "Nj = 3\n",
    "D = 50\n",
    "A = Array{Array,2}(undef, Ni, Nj)\n",
    "for i = 1:Ni,j = 1:Nj\n",
    "    Random.seed!(1234)\n",
    "    A[i,j] = randn(D, 2, D) + im*randn(D, 2, D)\n",
    "end\n",
    "\n",
    "for i=1:steps\n",
    "    r = lB+ ld*(i-1);\n",
    "    println(\"r  = $r \")\n",
    "    eMC[i],err[i] = MutiMC(β,r,lattice,Bins,bins,Sweeps_heat,Sweeps)\n",
    "    M, ME_row, ME_col,λM,λME_row,λME_col= classicalisingmpo(β; r = r)\n",
    "    λ, AL, C, AR, FL3, FR3, FL4, FR4 = vumps(A, M;verbose = true, tol = 1e-6, maxiter = 100)\n",
    "    eMPS[i] = real(energy(M, ME_row, ME_col, AL, C, AR, FL3,FL4, FR3, FR4,λM,λME_row, λME_col))\n",
    "end\n",
    "\n",
    "r = lB:ld:lE\n",
    "enereal = -(14 .+ 4 .* r) ./ 9\n",
    "errorbar(r,reshape(eMC,steps,),yerr = reshape(err,steps,),marker=\"s\", mfc=\"red\",\n",
    "                 mec=\"green\", ms=2, mew=2,label = \"MC\")\n",
    "plot(r,eMPS,\"*-\",color = \"r\",label = \"MPS\")\n",
    "plot(r,enereal,\".-\",color = \"y\",label = \"real\")\n",
    "legend(loc=\"best\")\n",
    "xlabel(\"r\")\n",
    "ylabel(\"energy\")\n",
    "title(\"β=$β\")"
   ]
  },
  {
   "cell_type": "markdown",
   "metadata": {},
   "source": [
    "### 温度 β"
   ]
  },
  {
   "cell_type": "code",
   "execution_count": 41,
   "metadata": {
    "code_folding": []
   },
   "outputs": [
    {
     "name": "stdout",
     "output_type": "stream",
     "text": [
      "β  = 0.1 \n"
     ]
    },
    {
     "name": "stderr",
     "output_type": "stream",
     "text": [
      "\u001b[32mProgress: 100%|█████████████████████████████████████████| Time: 0:01:24\u001b[39m\n"
     ]
    },
    {
     "name": "stdout",
     "output_type": "stream",
     "text": [
      "Step 1: err ≈ 0.0054419094735996265\n",
      "Step 2: err ≈ 1.3630442166818118e-6\n",
      "Step 3: err ≈ 1.051064198588269e-12\n",
      "Step 4: err ≈ 4.942334679085088e-16\n",
      "β  = 0.13 \n"
     ]
    },
    {
     "name": "stderr",
     "output_type": "stream",
     "text": [
      "\u001b[32mProgress: 100%|█████████████████████████████████████████| Time: 0:00:17\u001b[39m\n"
     ]
    },
    {
     "name": "stdout",
     "output_type": "stream",
     "text": [
      "Step 1: err ≈ 0.004169420084252499\n",
      "Step 2: err ≈ 3.019644200099613e-6\n",
      "Step 3: err ≈ 8.706503022014479e-12\n",
      "Step 4: err ≈ 3.4419683483247388e-15\n",
      "Step 5: err ≈ 2.0084907800614257e-16\n",
      "β  = 0.16 \n"
     ]
    },
    {
     "name": "stderr",
     "output_type": "stream",
     "text": [
      "\u001b[32mProgress: 100%|█████████████████████████████████████████| Time: 0:00:58\u001b[39m\n"
     ]
    },
    {
     "name": "stdout",
     "output_type": "stream",
     "text": [
      "Step 1: err ≈ 0.0024045480876356087\n",
      "Step 2: err ≈ 2.25224879251252e-6\n",
      "Step 3: err ≈ 1.206556873064556e-10\n",
      "Step 4: err ≈ 2.526335475676282e-13\n",
      "Step 5: err ≈ 4.1183410947280556e-15\n",
      "Step 6: err ≈ 2.2332502347055927e-16\n",
      "β  = 0.19 \n"
     ]
    },
    {
     "name": "stderr",
     "output_type": "stream",
     "text": [
      "\u001b[32mProgress: 100%|█████████████████████████████████████████| Time: 0:00:18\u001b[39m\n"
     ]
    },
    {
     "name": "stdout",
     "output_type": "stream",
     "text": [
      "Step 1: err ≈ 0.005114143993993893\n",
      "Step 2: err ≈ 6.801780908884088e-5\n",
      "Step 3: err ≈ 2.2130188964497623e-7\n",
      "Step 4: err ≈ 1.872227845214918e-10\n",
      "Step 5: err ≈ 5.040030130074396e-12\n",
      "Step 6: err ≈ 1.3795734964690743e-13\n",
      "Step 7: err ≈ 1.2415362901406196e-14\n",
      "Step 8: err ≈ 2.1105023131071948e-15\n",
      "Step 9: err ≈ 6.403565933980634e-16\n",
      "β  = 0.22 \n"
     ]
    },
    {
     "name": "stderr",
     "output_type": "stream",
     "text": [
      "\u001b[32mProgress: 100%|█████████████████████████████████████████| Time: 0:00:17\u001b[39m\n"
     ]
    },
    {
     "name": "stdout",
     "output_type": "stream",
     "text": [
      "Step 1: err ≈ 0.0028652577906495354\n",
      "Step 2: err ≈ 0.00012901129127149372\n",
      "Step 3: err ≈ 3.0108985093740565e-5\n",
      "Step 4: err ≈ 3.552081046618049e-6\n",
      "Step 5: err ≈ 1.0169753547052195e-7\n",
      "Step 6: err ≈ 3.6354415977846723e-9\n",
      "Step 7: err ≈ 3.1879065465529136e-10\n",
      "Step 8: err ≈ 5.742326823089163e-11\n",
      "Step 9: err ≈ 1.8883275514636652e-11\n",
      "Step 10: err ≈ 6.281048441317483e-12\n",
      "Step 11: err ≈ 2.942505075338548e-12\n",
      "Step 12: err ≈ 1.421900998246596e-12\n",
      "Step 13: err ≈ 6.602332472580849e-13\n",
      "Step 14: err ≈ 4.1732976984865607e-13\n",
      "Step 15: err ≈ 2.7510578591916093e-13\n",
      "Step 16: err ≈ 2.4869710674396934e-13\n",
      "Step 17: err ≈ 1.8971944229088534e-13\n",
      "Step 18: err ≈ 1.9780309221766995e-13\n",
      "Step 19: err ≈ 1.4561196377950214e-13\n",
      "Step 20: err ≈ 1.418944482272428e-13\n",
      "Step 21: err ≈ 1.1055084798738656e-13\n",
      "Step 22: err ≈ 1.1201743197948223e-13\n",
      "Step 23: err ≈ 9.842997965585199e-14\n",
      "Step 24: err ≈ 1.0564180241797687e-13\n",
      "Step 25: err ≈ 1.0359473515598593e-13\n",
      "Step 26: err ≈ 1.137917573067463e-13\n",
      "Step 27: err ≈ 1.1047060747278087e-13\n",
      "Step 28: err ≈ 1.0902387296546411e-13\n",
      "Step 29: err ≈ 9.413044003516452e-14\n",
      "Step 30: err ≈ 8.53723699722004e-14\n",
      "Step 31: err ≈ 7.18258864169244e-14\n",
      "Step 32: err ≈ 6.492409162149066e-14\n",
      "Step 33: err ≈ 5.4762368041032166e-14\n",
      "Step 34: err ≈ 4.919347570108071e-14\n",
      "Step 35: err ≈ 4.1460798476210605e-14\n",
      "Step 36: err ≈ 3.686732783721581e-14\n",
      "Step 37: err ≈ 3.111544464138034e-14\n",
      "Step 38: err ≈ 2.7469600902421952e-14\n",
      "Step 39: err ≈ 2.336229914722464e-14\n",
      "Step 40: err ≈ 2.057503934061823e-14\n",
      "Step 41: err ≈ 1.7696651369155438e-14\n",
      "Step 42: err ≈ 1.562951696767519e-14\n",
      "Step 43: err ≈ 1.3636000481562159e-14\n",
      "Step 44: err ≈ 1.213775862083494e-14\n",
      "Step 45: err ≈ 1.0756536015889674e-14\n",
      "Step 46: err ≈ 9.700480971654646e-15\n",
      "Step 47: err ≈ 8.77321815759266e-15\n",
      "Step 48: err ≈ 7.982577016372066e-15\n",
      "Step 49: err ≈ 7.342576652039428e-15\n",
      "Step 50: err ≈ 6.838676051343939e-15\n",
      "Step 51: err ≈ 6.426647669371902e-15\n",
      "Step 52: err ≈ 6.120925656784086e-15\n",
      "Step 53: err ≈ 5.977869574908229e-15\n",
      "Step 54: err ≈ 5.633182329083061e-15\n",
      "Step 55: err ≈ 5.4997634428733464e-15\n",
      "Step 56: err ≈ 5.429963340216267e-15\n",
      "Step 57: err ≈ 5.344093467405347e-15\n",
      "Step 58: err ≈ 5.245422190305618e-15\n",
      "Step 59: err ≈ 5.220692093569864e-15\n",
      "Step 60: err ≈ 5.3509504897541916e-15\n",
      "Step 61: err ≈ 5.222239578220985e-15\n",
      "Step 62: err ≈ 5.2390441460466875e-15\n",
      "Step 63: err ≈ 5.37888306292916e-15\n",
      "Step 64: err ≈ 5.280370901391813e-15\n",
      "Step 65: err ≈ 5.3246295059648605e-15\n",
      "Step 66: err ≈ 5.366215144408008e-15\n",
      "Step 67: err ≈ 5.398737881447858e-15\n",
      "Step 68: err ≈ 5.502543095677738e-15\n",
      "Step 69: err ≈ 5.5791216586918686e-15\n",
      "Step 70: err ≈ 5.560068225909383e-15\n",
      "Step 71: err ≈ 5.603467549009898e-15\n",
      "Step 72: err ≈ 5.6394898008468506e-15\n",
      "Step 73: err ≈ 5.696476505787518e-15\n",
      "Step 74: err ≈ 5.752829668157455e-15\n",
      "Step 75: err ≈ 5.884787526251387e-15\n",
      "Step 76: err ≈ 6.033012981570583e-15\n",
      "Step 77: err ≈ 5.947810711667248e-15\n",
      "Step 78: err ≈ 6.0053806298879814e-15\n",
      "Step 79: err ≈ 6.0355140432087045e-15\n",
      "Step 80: err ≈ 6.09369425449279e-15\n",
      "Step 81: err ≈ 6.1565621817892766e-15\n",
      "Step 82: err ≈ 6.2192421911513954e-15\n",
      "Step 83: err ≈ 6.2799381859522154e-15\n",
      "Step 84: err ≈ 6.341377921914333e-15\n",
      "Step 85: err ≈ 6.417564610771285e-15\n",
      "Step 86: err ≈ 6.4887228242203614e-15\n",
      "Step 87: err ≈ 6.54408903758072e-15\n",
      "Step 88: err ≈ 6.603002814729607e-15\n",
      "Step 89: err ≈ 6.670866777781068e-15\n",
      "Step 90: err ≈ 6.757331720921248e-15\n",
      "Step 91: err ≈ 6.840989010078139e-15\n",
      "Step 92: err ≈ 6.87250081517277e-15\n",
      "Step 93: err ≈ 6.9457558826689865e-15\n",
      "Step 94: err ≈ 7.015320651170027e-15\n",
      "Step 95: err ≈ 7.0896288262842445e-15\n",
      "Step 96: err ≈ 7.163162536024966e-15\n",
      "Step 97: err ≈ 7.236954606662828e-15\n",
      "Step 98: err ≈ 7.309746798665434e-15\n",
      "Step 99: err ≈ 7.41974561148298e-15\n",
      "Step 100: err ≈ 7.472208546275274e-15\n",
      "β  = 0.25 \n"
     ]
    },
    {
     "name": "stderr",
     "output_type": "stream",
     "text": [
      "\u001b[32mProgress: 100%|█████████████████████████████████████████| Time: 0:00:18\u001b[39m\n"
     ]
    },
    {
     "name": "stdout",
     "output_type": "stream",
     "text": [
      "Step 1: err ≈ 0.005814406715086242\n",
      "Step 2: err ≈ 2.520139053067025e-5\n",
      "Step 3: err ≈ 1.7301475987188924e-6\n",
      "Step 4: err ≈ 7.794824091358271e-8\n",
      "Step 5: err ≈ 3.5755626260287736e-9\n",
      "Step 6: err ≈ 1.4835097515668448e-10\n",
      "Step 7: err ≈ 1.7652152580318682e-11\n",
      "Step 8: err ≈ 1.9917656874831636e-12\n",
      "Step 9: err ≈ 5.109444879360843e-13\n",
      "Step 10: err ≈ 1.134192739293398e-13\n",
      "Step 11: err ≈ 4.452618168482393e-14\n",
      "Step 12: err ≈ 2.0834002540331716e-14\n",
      "Step 13: err ≈ 8.370358223327523e-15\n",
      "Step 14: err ≈ 2.924242840217991e-15\n",
      "Step 15: err ≈ 1.2679900946961275e-15\n",
      "Step 16: err ≈ 8.864500729845705e-16\n",
      "β  = 0.28 \n"
     ]
    },
    {
     "name": "stderr",
     "output_type": "stream",
     "text": [
      "\u001b[32mProgress: 100%|█████████████████████████████████████████| Time: 0:00:18\u001b[39m\n"
     ]
    },
    {
     "name": "stdout",
     "output_type": "stream",
     "text": [
      "Step 1: err ≈ 0.003333948501451352\n",
      "Step 2: err ≈ 7.868844208731526e-6\n",
      "Step 3: err ≈ 8.934817110485104e-8\n",
      "Step 4: err ≈ 8.924348959340432e-10\n",
      "Step 5: err ≈ 1.579918651389099e-11\n",
      "Step 6: err ≈ 4.866084062602321e-13\n",
      "Step 7: err ≈ 2.987964367429745e-14\n",
      "Step 8: err ≈ 2.783526179205506e-15\n",
      "Step 9: err ≈ 3.4110024940369335e-16\n",
      "β  = 0.31 \n"
     ]
    },
    {
     "name": "stderr",
     "output_type": "stream",
     "text": [
      "\u001b[32mProgress: 100%|█████████████████████████████████████████| Time: 0:00:18\u001b[39m\n"
     ]
    },
    {
     "name": "stdout",
     "output_type": "stream",
     "text": [
      "Step 1: err ≈ 0.002736701354126264\n",
      "Step 2: err ≈ 2.9965919433139e-6\n",
      "Step 3: err ≈ 2.8226512346846632e-9\n",
      "Step 4: err ≈ 1.1995408275095136e-11\n",
      "Step 5: err ≈ 2.0235003240574836e-13\n",
      "Step 6: err ≈ 4.236995064736541e-15\n",
      "Step 7: err ≈ 3.1248550275055317e-16\n",
      "β  = 0.33999999999999997 \n"
     ]
    },
    {
     "name": "stderr",
     "output_type": "stream",
     "text": [
      "\u001b[32mProgress: 100%|█████████████████████████████████████████| Time: 0:00:18\u001b[39m\n"
     ]
    },
    {
     "name": "stdout",
     "output_type": "stream",
     "text": [
      "Step 1: err ≈ 0.003177525567398878\n",
      "Step 2: err ≈ 1.5624113136735453e-6\n",
      "Step 3: err ≈ 3.769472614508495e-10\n",
      "Step 4: err ≈ 1.4886704436021332e-12\n",
      "Step 5: err ≈ 1.4680097556028907e-14\n",
      "Step 6: err ≈ 9.559435067085454e-16\n",
      "β  = 0.37 \n"
     ]
    },
    {
     "name": "stderr",
     "output_type": "stream",
     "text": [
      "\u001b[32mProgress: 100%|█████████████████████████████████████████| Time: 0:00:17\u001b[39m\n"
     ]
    },
    {
     "name": "stdout",
     "output_type": "stream",
     "text": [
      "Step 1: err ≈ 0.0025294695677629546\n",
      "Step 2: err ≈ 3.367077061794835e-6\n",
      "Step 3: err ≈ 5.0962161620677045e-11\n",
      "Step 4: err ≈ 5.254481546473637e-14\n",
      "Step 5: err ≈ 4.643935720891474e-16\n",
      "β  = 0.4 \n"
     ]
    },
    {
     "name": "stderr",
     "output_type": "stream",
     "text": [
      "\u001b[32mProgress: 100%|█████████████████████████████████████████| Time: 0:00:38\u001b[39m\n"
     ]
    },
    {
     "name": "stdout",
     "output_type": "stream",
     "text": [
      "Step 1: err ≈ 0.0025156684643310957\n",
      "Step 2: err ≈ 3.423577036186171e-6\n",
      "Step 3: err ≈ 5.7671799114200476e-11\n",
      "Step 4: err ≈ 2.3768143974522064e-14\n",
      "Step 5: err ≈ 3.400685605146005e-16\n"
     ]
    },
    {
     "data": {
      "image/png": "[encoded data removed]",
      "text/plain": [
       "Figure(PyObject <Figure size 640x480 with 1 Axes>)"
      ]
     },
     "metadata": {},
     "output_type": "display_data"
    },
    {
     "data": {
      "text/plain": [
       "PyObject Text(0.5, 1.0, 'r=5')"
      ]
     },
     "execution_count": 41,
     "metadata": {},
     "output_type": "execute_result"
    }
   ],
   "source": [
    "r = 5\n",
    "lattice = 8\n",
    "lB = 0.1;                    \n",
    "lE = 0.4;                    \n",
    "ld = 0.03;\n",
    "steps = Int(round((lE-lB)/ld+1));\n",
    "eMC = zeros(steps,1)\n",
    "err = zeros(steps,1)\n",
    "eMPS = zeros(steps,1)\n",
    "Bins = 10\n",
    "bins = 60\n",
    "Sweeps_heat = Int(1e5)\n",
    "Sweeps = Int(2*1e5)\n",
    "\n",
    "Ni = 2\n",
    "Nj = 2\n",
    "D = 50\n",
    "A = Array{Array,2}(undef, Ni, Nj)\n",
    "\n",
    "for i=1:steps\n",
    "    β = lB+ ld*(i-1)\n",
    "    println(\"β  = $β \")\n",
    "    eMC[i],err[i] = MutiMC(β,r,lattice,Bins,bins,Sweeps_heat,Sweeps)\n",
    "    for i = 1:Ni,j = 1:Nj\n",
    "        Random.seed!(1234)\n",
    "        A[i,j] = randn(D, 2, D) + im*randn(D, 2, D)\n",
    "    end\n",
    "    M, ME,λM,λME = classicalisingmpo(β; r = r)\n",
    "    λ, AL, C, AR, FL3, FR3, FL4, FR4 = vumps(A, M;verbose = true, tol = 1e-15, maxiter = 100)\n",
    "    eMPS[i] = real(energy(M, ME, AL, C, AR, FL3,FL4, FR3, FR4,λM,λME))\n",
    "end\n",
    "\n",
    "β = lB:ld:lE\n",
    "errorbar(β,reshape(eMC,steps,),yerr = reshape(err,steps,),marker=\"s\", mfc=\"red\",\n",
    "                 mec=\"green\", ms=2, mew=2,label = \"MC\")\n",
    "plot(β,eMPS,\"*-\",color = \"r\",label = \"MPS\")\n",
    "legend(loc=\"best\")\n",
    "xlabel(\"β\")\n",
    "ylabel(\"energy\")\n",
    "title(\"r=$r\")"
   ]
  },
  {
   "cell_type": "code",
   "execution_count": null,
   "metadata": {},
   "outputs": [],
   "source": []
  }
 ],
 "metadata": {
  "kernelspec": {
   "display_name": "Julia 1.5.1",
   "language": "julia",
   "name": "julia-1.5"
  },
  "language_info": {
   "file_extension": ".jl",
   "mimetype": "application/julia",
   "name": "julia",
   "version": "1.5.1"
  },
  "toc": {
   "base_numbering": 1,
   "nav_menu": {},
   "number_sections": true,
   "sideBar": true,
   "skip_h1_title": true,
   "title_cell": "Table of Contents",
   "title_sidebar": "Contents",
   "toc_cell": true,
   "toc_position": {
    "height": "calc(100% - 180px)",
    "left": "10px",
    "top": "150px",
    "width": "255.95px"
   },
   "toc_section_display": true,
   "toc_window_display": true
  },
  "varInspector": {
   "cols": {
    "lenName": 16,
    "lenType": 16,
    "lenVar": 40
   },
   "kernels_config": {
    "python": {
     "delete_cmd_postfix": "",
     "delete_cmd_prefix": "del ",
     "library": "var_list.py",
     "varRefreshCmd": "print(var_dic_list())"
    },
    "r": {
     "delete_cmd_postfix": ") ",
     "delete_cmd_prefix": "rm(",
     "library": "var_list.r",
     "varRefreshCmd": "cat(var_dic_list()) "
    }
   },
   "types_to_exclude": [
    "module",
    "function",
    "builtin_function_or_method",
    "instance",
    "_Feature"
   ],
   "window_display": false
  }
 },
 "nbformat": 4,
 "nbformat_minor": 2
}
